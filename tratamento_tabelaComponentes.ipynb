{
 "cells": [
  {
   "cell_type": "code",
   "execution_count": 1,
   "metadata": {},
   "outputs": [],
   "source": [
    "import pandas as pd"
   ]
  },
  {
   "cell_type": "code",
   "execution_count": 2,
   "metadata": {},
   "outputs": [],
   "source": [
    "f = open(\"data_science/componentes-curriculares-presenciais.csv\")\n",
    "d = f.read()\n",
    "d = d.replace(\"\\n\",\"\")\n",
    "x = d.split(\"\\\";\\\"\")\n",
    "a = []\n",
    "step = 29\n",
    "for i in range(0, len(x), step):\n",
    "    a.append(x[i:i+step])\n",
    "df = pd.DataFrame(a[1:],columns=['id_componente']+a[0][1:])"
   ]
  },
  {
   "cell_type": "code",
   "execution_count": 3,
   "metadata": {},
   "outputs": [
    {
     "data": {
      "text/plain": [
       "(34951, 29)"
      ]
     },
     "execution_count": 3,
     "metadata": {},
     "output_type": "execute_result"
    }
   ],
   "source": [
    "df.shape"
   ]
  },
  {
   "cell_type": "code",
   "execution_count": 5,
   "metadata": {},
   "outputs": [
    {
     "name": "stdout",
     "output_type": "stream",
     "text": [
      "<class 'pandas.core.frame.DataFrame'>\n",
      "RangeIndex: 34951 entries, 0 to 34950\n",
      "Data columns (total 29 columns):\n",
      "id_componente               34951 non-null int64\n",
      "tipo_componente             34951 non-null object\n",
      "codigo                      34951 non-null object\n",
      "nivel                       34951 non-null object\n",
      "nome                        34951 non-null object\n",
      "unidade_responsavel         34951 non-null object\n",
      "ch_teorico                  34951 non-null int64\n",
      "ch_pratico                  34951 non-null int64\n",
      "ch_estagio                  34951 non-null int64\n",
      "ch_total                    34951 non-null int64\n",
      "ch_dedicada_docente         34951 non-null int64\n",
      "ch_ead                      34951 non-null int64\n",
      "cr_max_ead                  34951 non-null object\n",
      "permite_horario_flexivel    34951 non-null object\n",
      "qtd_unidades                34951 non-null object\n",
      "procedimentos_avaliacao     34951 non-null object\n",
      "equivalencia                34951 non-null object\n",
      "pre_requisito               34951 non-null object\n",
      "co_requisito                34951 non-null object\n",
      "ementa                      34951 non-null object\n",
      "bibliografia                34951 non-null object\n",
      "objetivos                   34951 non-null object\n",
      "conteudo                    34951 non-null object\n",
      "competencias_habilidades    34951 non-null object\n",
      "referencias                 34951 non-null object\n",
      "ano_programa                34951 non-null object\n",
      "periodo_programa            34951 non-null object\n",
      "modalidade                  34951 non-null object\n",
      "curso_componente            34951 non-null object\n",
      "dtypes: int64(7), object(22)\n",
      "memory usage: 7.7+ MB\n"
     ]
    }
   ],
   "source": [
    "df['id_componente'] = df.id_componente.astype(int)\n",
    "df['ch_teorico'] = df.ch_teorico.astype(int)\n",
    "df['ch_pratico'] = df.ch_pratico.astype(int)\n",
    "df['ch_estagio'] = df.ch_estagio.astype(int)\n",
    "df['ch_total'] = df.ch_total.astype(int)\n",
    "df['ch_dedicada_docente'] = df.ch_dedicada_docente.astype(int)\n",
    "df['ch_ead'] = df.ch_ead.astype(int)\n",
    "\n",
    "df.info()"
   ]
  },
  {
   "cell_type": "code",
   "execution_count": 6,
   "metadata": {},
   "outputs": [],
   "source": [
    "df.to_csv('data_science/componentes-curriculares-presenciais-ok.csv')"
   ]
  },
  {
   "cell_type": "code",
   "execution_count": 7,
   "metadata": {},
   "outputs": [
    {
     "name": "stdout",
     "output_type": "stream",
     "text": [
      "<class 'pandas.core.frame.DataFrame'>\n",
      "RangeIndex: 34951 entries, 0 to 34950\n",
      "Data columns (total 30 columns):\n",
      "Unnamed: 0                  34951 non-null int64\n",
      "id_componente               34951 non-null int64\n",
      "tipo_componente             34951 non-null object\n",
      "codigo                      34951 non-null object\n",
      "nivel                       34951 non-null object\n",
      "nome                        34950 non-null object\n",
      "unidade_responsavel         34951 non-null object\n",
      "ch_teorico                  34951 non-null int64\n",
      "ch_pratico                  34951 non-null int64\n",
      "ch_estagio                  34951 non-null int64\n",
      "ch_total                    34951 non-null int64\n",
      "ch_dedicada_docente         34951 non-null int64\n",
      "ch_ead                      34951 non-null int64\n",
      "cr_max_ead                  34951 non-null int64\n",
      "permite_horario_flexivel    34951 non-null object\n",
      "qtd_unidades                28194 non-null float64\n",
      "procedimentos_avaliacao     4448 non-null object\n",
      "equivalencia                10332 non-null object\n",
      "pre_requisito               9030 non-null object\n",
      "co_requisito                870 non-null object\n",
      "ementa                      29718 non-null object\n",
      "bibliografia                0 non-null float64\n",
      "objetivos                   9737 non-null object\n",
      "conteudo                    9735 non-null object\n",
      "competencias_habilidades    9579 non-null object\n",
      "referencias                 4445 non-null object\n",
      "ano_programa                9693 non-null float64\n",
      "periodo_programa            9693 non-null float64\n",
      "modalidade                  34951 non-null object\n",
      "curso_componente            8348 non-null object\n",
      "dtypes: float64(4), int64(9), object(17)\n",
      "memory usage: 8.0+ MB\n"
     ]
    }
   ],
   "source": [
    "teste_table = pd.read_csv('data_science/componentes-curriculares-presenciais-ok.csv',sep=',')\n",
    "teste_table.info()"
   ]
  },
  {
   "cell_type": "code",
   "execution_count": 20,
   "metadata": {},
   "outputs": [
    {
     "name": "stdout",
     "output_type": "stream",
     "text": [
      "101\n",
      "102\n",
      "111\n",
      "112\n",
      "121\n",
      "122\n",
      "131\n",
      "132\n",
      "141\n",
      "142\n",
      "151\n",
      "152\n",
      "161\n",
      "162\n",
      "171\n",
      "172\n"
     ]
    }
   ],
   "source": [
    "df_turmas = pd.DataFrame()\n",
    "\n",
    "# concatenar todas as turmas de 2010 a 2017\n",
    "for i in range(10,18):\n",
    "    for j in range(1,3):\n",
    "        print(str(i)+str(j))\n",
    "        f = open('data_science/turmas_new/turmas-20'+str(i)+str(j)+'.csv')\n",
    "        d = f.read()\n",
    "        d = d.replace(\"\\n\",\"\")\n",
    "        x = d.split(\"\\\";\\\"\")\n",
    "        a = []\n",
    "        step = 25\n",
    "        for b in range(0, len(x), step):\n",
    "            a.append(x[b:b+step])\n",
    "        df = pd.DataFrame(a[1:],columns=['id_componente']+a[0][1:])\n",
    "#         df_turma = pd.read_csv('data_science/turmas-teste/turma-20'+str(i)+str(j)+'.csv',sep=',')\n",
    "        df_turmas = pd.concat([df_turmas, df])\n",
    "\n",
    "# filtra disciplinas da graduação\n",
    "# df_turmas = df_turmas[df_turmas['nivel_ensino'] == 'GRADUAÇÃO']\n",
    "\n",
    "# colunas importantes\n",
    "# columns_1 = ['id_turma', 'nome_ascii', 'id_docente_interno', 'ano', 'periodo',\n",
    "#              'codigo_turma', 'descricao_horario', 'id_componente_curricular']\n",
    "# df_turmas = df_turmas[columns_1]"
   ]
  },
  {
   "cell_type": "code",
   "execution_count": 10,
   "metadata": {},
   "outputs": [
    {
     "data": {
      "text/plain": [
       "3    1\n",
       "Name: total_solicitacoes, dtype: object"
      ]
     },
     "execution_count": 10,
     "metadata": {},
     "output_type": "execute_result"
    }
   ],
   "source": [
    "df_turmas[df_turmas['id_componente'] == '1151163'].total_solicitacoes"
   ]
  },
  {
   "cell_type": "code",
   "execution_count": 21,
   "metadata": {},
   "outputs": [
    {
     "data": {
      "text/plain": [
       "2    103916\n",
       "1    100693\n",
       "Name: periodo, dtype: int64"
      ]
     },
     "execution_count": 21,
     "metadata": {},
     "output_type": "execute_result"
    }
   ],
   "source": [
    "df_turmas.periodo.value_counts()"
   ]
  },
  {
   "cell_type": "code",
   "execution_count": 24,
   "metadata": {},
   "outputs": [
    {
     "name": "stdout",
     "output_type": "stream",
     "text": [
      "<class 'pandas.core.frame.DataFrame'>\n",
      "Int64Index: 204609 entries, 0 to 14471\n",
      "Data columns (total 25 columns):\n",
      "id_componente               204609 non-null int64\n",
      "codigo_turma                204609 non-null object\n",
      "id_docente_interno          204609 non-null object\n",
      "id_docente_externo          204609 non-null object\n",
      "observacao                  204609 non-null object\n",
      "id_componente_curricular    204609 non-null int64\n",
      "nivel_ensino                204609 non-null object\n",
      "campus_turma                204609 non-null object\n",
      "local                       204609 non-null object\n",
      "ano                         204609 non-null int64\n",
      "periodo                     204609 non-null int64\n",
      "data_inicio                 204609 non-null object\n",
      "data_fim                    204609 non-null object\n",
      "descricao_horario           204609 non-null object\n",
      "total_solicitacoes          204609 non-null object\n",
      "capacidade_aluno            204609 non-null object\n",
      "tipo                        204609 non-null object\n",
      "distancia                   204609 non-null object\n",
      "data_consolidacao           204609 non-null object\n",
      "agrupadora                  204609 non-null object\n",
      "id_turma_agrupadora         204609 non-null object\n",
      "qtd_aulas_lancadas          204609 non-null object\n",
      "situacao_turma              204609 non-null object\n",
      "convenio                    204609 non-null object\n",
      "modalidade_participantes    204609 non-null object\n",
      "dtypes: int64(4), object(21)\n",
      "memory usage: 40.6+ MB\n"
     ]
    }
   ],
   "source": [
    "df_turmas['id_componente'] = df_turmas.id_componente.astype(int)\n",
    "df_turmas['id_componente_curricular'] = df_turmas.id_componente_curricular.astype(int)\n",
    "df_turmas['ano'] = df_turmas.ano.astype(int)\n",
    "df_turmas['periodo'] = df_turmas.periodo.astype(int)\n",
    "\n",
    "df_turmas.info()"
   ]
  },
  {
   "cell_type": "code",
   "execution_count": 25,
   "metadata": {},
   "outputs": [],
   "source": [
    "df_turmas.to_csv('data_science/turmas-2010-2017-ok.csv')"
   ]
  },
  {
   "cell_type": "code",
   "execution_count": 75,
   "metadata": {},
   "outputs": [
    {
     "name": "stdout",
     "output_type": "stream",
     "text": [
      "<class 'pandas.core.frame.DataFrame'>\n",
      "RangeIndex: 204614 entries, 0 to 204613\n",
      "Data columns (total 26 columns):\n",
      "Unnamed: 0                  204614 non-null int64\n",
      "id_componente               204614 non-null int64\n",
      "codigo_turma                204583 non-null object\n",
      "id_docente_interno          195251 non-null float64\n",
      "id_docente_externo          9363 non-null float64\n",
      "observacao                  7435 non-null object\n",
      "id_componente_curricular    204614 non-null int64\n",
      "nivel_ensino                204614 non-null object\n",
      "campus_turma                141577 non-null object\n",
      "local                       202545 non-null object\n",
      "ano                         204614 non-null int64\n",
      "periodo                     204614 non-null int64\n",
      "data_inicio                 204614 non-null object\n",
      "data_fim                    204614 non-null object\n",
      "descricao_horario           180316 non-null object\n",
      "total_solicitacoes          170053 non-null float64\n",
      "capacidade_aluno            187182 non-null float64\n",
      "tipo                        204614 non-null object\n",
      "distancia                   204614 non-null object\n",
      "data_consolidacao           188832 non-null object\n",
      "agrupadora                  204614 non-null object\n",
      "id_turma_agrupadora         16461 non-null float64\n",
      "qtd_aulas_lancadas          108863 non-null float64\n",
      "situacao_turma              204614 non-null object\n",
      "convenio                    1 non-null object\n",
      "modalidade_participantes    204614 non-null object\n",
      "dtypes: float64(6), int64(5), object(15)\n",
      "memory usage: 40.6+ MB\n"
     ]
    },
    {
     "name": "stderr",
     "output_type": "stream",
     "text": [
      "/home/andreza/anaconda3/lib/python3.6/site-packages/IPython/core/interactiveshell.py:2728: DtypeWarning: Columns (24) have mixed types. Specify dtype option on import or set low_memory=False.\n",
      "  interactivity=interactivity, compiler=compiler, result=result)\n"
     ]
    }
   ],
   "source": [
    "teste_turmas_table = pd.read_csv('data_science/turmas-2010-2017-ok.csv',sep=',')\n",
    "teste_turmas_table.info()"
   ]
  }
 ],
 "metadata": {
  "kernelspec": {
   "display_name": "Python 3",
   "language": "python",
   "name": "python3"
  },
  "language_info": {
   "codemirror_mode": {
    "name": "ipython",
    "version": 3
   },
   "file_extension": ".py",
   "mimetype": "text/x-python",
   "name": "python",
   "nbconvert_exporter": "python",
   "pygments_lexer": "ipython3",
   "version": "3.6.4"
  }
 },
 "nbformat": 4,
 "nbformat_minor": 2
}
