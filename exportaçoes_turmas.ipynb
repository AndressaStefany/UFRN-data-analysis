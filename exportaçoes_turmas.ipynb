{
 "cells": [
  {
   "cell_type": "code",
   "execution_count": 2,
   "metadata": {},
   "outputs": [],
   "source": [
    "import pandas as pd\n",
    "import numpy as np"
   ]
  },
  {
   "cell_type": "code",
   "execution_count": 12,
   "metadata": {},
   "outputs": [],
   "source": [
    "colunas = ['id_turma', 'nome_ascii']"
   ]
  },
  {
   "cell_type": "markdown",
   "metadata": {},
   "source": [
    "# 2010"
   ]
  },
  {
   "cell_type": "code",
   "execution_count": 6,
   "metadata": {},
   "outputs": [
    {
     "data": {
      "text/plain": [
       "(9818, 25)"
      ]
     },
     "execution_count": 6,
     "metadata": {},
     "output_type": "execute_result"
    }
   ],
   "source": [
    "turma20101 = pd.read_csv('data_science/turmas/turmas-20101.csv', sep=';')\n",
    "turma20101.shape"
   ]
  },
  {
   "cell_type": "code",
   "execution_count": 9,
   "metadata": {},
   "outputs": [
    {
     "name": "stderr",
     "output_type": "stream",
     "text": [
      "b'Skipping line 1032: expected 26 fields, saw 27\\n'\n"
     ]
    },
    {
     "data": {
      "text/plain": [
       "(9817, 26)"
      ]
     },
     "execution_count": 9,
     "metadata": {},
     "output_type": "execute_result"
    }
   ],
   "source": [
    "turmaNew20101 = pd.read_csv('data_science/turmas_new/turmas-20101.csv', sep=';',error_bad_lines=False)\n",
    "turmaNew20101.shape"
   ]
  },
  {
   "cell_type": "code",
   "execution_count": 10,
   "metadata": {},
   "outputs": [
    {
     "name": "stdout",
     "output_type": "stream",
     "text": [
      "Index(['id_turma', 'codigo', 'nome_ascii', 'docente_interno',\n",
      "       'docente_externo', 'nivel_ensino', 'ano', 'periodo', 'capacidade_aluno',\n",
      "       'local', 'data_inicio', 'data_fim', 'codigo_turma', 'descricao_horario',\n",
      "       'observacao', 'distancia', 'tipo', 'data_consolidacao', 'agrupadora',\n",
      "       'qtd_aulas_lancadas', 'situacao_turma', 'convenio',\n",
      "       'modalidade_participantes', 'campus_turma', 'Unnamed: 24'],\n",
      "      dtype='object')\n",
      "\n",
      "Index(['id_turma', 'codigo_turma', 'id_docente_interno', 'id_docente_externo',\n",
      "       'observacao', 'id_componente_curricular', 'nivel_ensino',\n",
      "       'campus_turma', 'local', 'ano', 'periodo', 'data_inicio', 'data_fim',\n",
      "       'descricao_horario', 'total_solicitacoes', 'capacidade_aluno', 'tipo',\n",
      "       'distancia', 'data_consolidacao', 'agrupadora', 'id_turma_agrupadora',\n",
      "       'qtd_aulas_lancadas', 'situacao_turma', 'convenio',\n",
      "       'modalidade_participantes', 'Unnamed: 25'],\n",
      "      dtype='object')\n"
     ]
    }
   ],
   "source": [
    "print(turma20101.columns)\n",
    "print()\n",
    "print(turmaNew20101.columns)"
   ]
  },
  {
   "cell_type": "code",
   "execution_count": 14,
   "metadata": {},
   "outputs": [],
   "source": [
    "relacao_turmaNome = turma20101[colunas]"
   ]
  },
  {
   "cell_type": "code",
   "execution_count": 20,
   "metadata": {},
   "outputs": [],
   "source": [
    "turma_teste = pd.merge(turmaNew20101, relacao_turmaNome, on='id_turma', how='left')\n",
    "turma_teste.to_csv('data_science/turmas-teste/turma-20101.csv')"
   ]
  },
  {
   "cell_type": "code",
   "execution_count": 21,
   "metadata": {},
   "outputs": [
    {
     "data": {
      "text/plain": [
       "(26141, 27)"
      ]
     },
     "execution_count": 21,
     "metadata": {},
     "output_type": "execute_result"
    }
   ],
   "source": [
    "turma_teste.shape"
   ]
  },
  {
   "cell_type": "markdown",
   "metadata": {},
   "source": [
    "# 2011 ..."
   ]
  },
  {
   "cell_type": "code",
   "execution_count": 44,
   "metadata": {},
   "outputs": [
    {
     "name": "stdout",
     "output_type": "stream",
     "text": [
      "111\n",
      "112\n",
      "121\n"
     ]
    },
    {
     "name": "stderr",
     "output_type": "stream",
     "text": [
      "b'Skipping line 9958: expected 25 fields, saw 26\\n'\n",
      "b'Skipping line 9958: expected 26 fields, saw 27\\n'\n"
     ]
    },
    {
     "name": "stdout",
     "output_type": "stream",
     "text": [
      "122\n",
      "131\n",
      "132\n",
      "141\n",
      "142\n",
      "151\n",
      "152\n",
      "161\n",
      "162\n",
      "171\n",
      "172\n"
     ]
    }
   ],
   "source": [
    "for i in range(11,18):\n",
    "    for j in range(1,3):\n",
    "        print(str(i)+str(j))\n",
    "        turma = pd.read_csv('data_science/turmas/turmas-20'+str(i)+str(j)+'.csv', sep=';',error_bad_lines=False)\n",
    "        turmaNew = pd.read_csv('data_science/turmas_new/turmas-20'+str(i)+str(j)+'.csv', sep=';',error_bad_lines=False)\n",
    "        relacao_turmaNome = turma[colunas]\n",
    "        turma_teste = pd.merge(turmaNew, relacao_turmaNome, on='id_turma', how='left')\n",
    "#         turma_teste.to_csv('data_science/turmas-teste/turma-20'+str(i)+str(j)+'.csv')\n",
    "        turma_teste.shape"
   ]
  },
  {
   "cell_type": "markdown",
   "metadata": {},
   "source": [
    "### Deu problema na tabela 2014.2"
   ]
  },
  {
   "cell_type": "code",
   "execution_count": 48,
   "metadata": {},
   "outputs": [
    {
     "name": "stdout",
     "output_type": "stream",
     "text": [
      "(14694, 25)\n",
      "(14696, 26)\n"
     ]
    }
   ],
   "source": [
    "turma = pd.read_csv('data_science/turmas/turmas-20142.csv', sep=';',error_bad_lines=False)\n",
    "print(turma.shape)\n",
    "turmaNew = pd.read_csv('data_science/turmas_new/turmas-20142.csv', sep=';',error_bad_lines=False)\n",
    "print(turmaNew.shape)"
   ]
  },
  {
   "cell_type": "code",
   "execution_count": 65,
   "metadata": {},
   "outputs": [
    {
     "name": "stdout",
     "output_type": "stream",
     "text": [
      "<class 'pandas.core.frame.DataFrame'>\n",
      "Int64Index: 55932 entries, 0 to 55931\n",
      "Data columns (total 27 columns):\n",
      "id_turma                    55932 non-null object\n",
      "codigo_turma                55932 non-null object\n",
      "id_docente_interno          54940 non-null object\n",
      "id_docente_externo          992 non-null float64\n",
      "observacao                  1496 non-null object\n",
      "id_componente_curricular    55928 non-null float64\n",
      "nivel_ensino                55928 non-null object\n",
      "campus_turma                48248 non-null object\n",
      "local                       55581 non-null object\n",
      "ano                         55928 non-null object\n",
      "periodo                     55928 non-null float64\n",
      "data_inicio                 55928 non-null object\n",
      "data_fim                    55928 non-null object\n",
      "descricao_horario           53608 non-null object\n",
      "total_solicitacoes          42453 non-null object\n",
      "capacidade_aluno            53942 non-null object\n",
      "tipo                        55926 non-null object\n",
      "distancia                   55928 non-null object\n",
      "data_consolidacao           52836 non-null object\n",
      "agrupadora                  55926 non-null object\n",
      "id_turma_agrupadora         3760 non-null object\n",
      "qtd_aulas_lancadas          52834 non-null float64\n",
      "situacao_turma              55926 non-null object\n",
      "convenio                    0 non-null float64\n",
      "modalidade_participantes    55926 non-null object\n",
      "Unnamed: 25                 0 non-null float64\n",
      "nome_ascii                  55930 non-null object\n",
      "dtypes: float64(6), object(21)\n",
      "memory usage: 11.9+ MB\n"
     ]
    },
    {
     "name": "stderr",
     "output_type": "stream",
     "text": [
      "/home/andreza/anaconda3/lib/python3.6/site-packages/ipykernel_launcher.py:2: SettingWithCopyWarning: \n",
      "A value is trying to be set on a copy of a slice from a DataFrame.\n",
      "Try using .loc[row_indexer,col_indexer] = value instead\n",
      "\n",
      "See the caveats in the documentation: http://pandas.pydata.org/pandas-docs/stable/indexing.html#indexing-view-versus-copy\n",
      "  \n"
     ]
    }
   ],
   "source": [
    "relacao_turmaNome = turma[colunas]\n",
    "relacao_turmaNome['id_turma'] = relacao_turmaNome['id_turma'].astype(str)\n",
    "\n",
    "turma_teste = pd.merge(turmaNew, relacao_turmaNome, on='id_turma', how='left')\n",
    "\n",
    "# turma_teste[['id_turma']] = turma_teste[['id_turma']].astype('int64') # Objeto\n",
    "# coluna_idTurmaInt = coluna_idTurma.astype('int64')\n",
    "# turma_teste.id_turma.apply(int)\n",
    "\n",
    "turma_teste.info()\n",
    "\n",
    "# turma_teste.to_csv('data_science/turmas-teste/turma-20142.csv')"
   ]
  }
 ],
 "metadata": {
  "kernelspec": {
   "display_name": "Python 3",
   "language": "python",
   "name": "python3"
  },
  "language_info": {
   "codemirror_mode": {
    "name": "ipython",
    "version": 3
   },
   "file_extension": ".py",
   "mimetype": "text/x-python",
   "name": "python",
   "nbconvert_exporter": "python",
   "pygments_lexer": "ipython3",
   "version": "3.6.4"
  }
 },
 "nbformat": 4,
 "nbformat_minor": 2
}
