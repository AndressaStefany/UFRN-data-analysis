{
 "cells": [
  {
   "cell_type": "markdown",
   "metadata": {},
   "source": [
    "## IRA"
   ]
  },
  {
   "cell_type": "code",
   "execution_count": 1,
   "metadata": {},
   "outputs": [
    {
     "data": {
      "text/plain": [
       "'teste'"
      ]
     },
     "execution_count": 1,
     "metadata": {},
     "output_type": "execute_result"
    }
   ],
   "source": [
    "import pandas as pd\n",
    "import numpy as np\n",
    "import matplotlib.pyplot as plt\n",
    "import matplotlib as mpl\n",
    "import seaborn as sns\n",
    "import missingno as msno\n",
    "from pandas.plotting import parallel_coordinates\n",
    "%matplotlib inline \n",
    "\n",
    "teste = 'teste'\n",
    "teste"
   ]
  },
  {
   "cell_type": "code",
   "execution_count": 2,
   "metadata": {},
   "outputs": [
    {
     "name": "stdout",
     "output_type": "stream",
     "text": [
      "20101\n"
     ]
    },
    {
     "ename": "FileNotFoundError",
     "evalue": "File b'data_science/matriculas/matriculas-de-20101.csv' does not exist",
     "output_type": "error",
     "traceback": [
      "\u001b[0;31m---------------------------------------------------------------------------\u001b[0m",
      "\u001b[0;31mFileNotFoundError\u001b[0m                         Traceback (most recent call last)",
      "\u001b[0;32m<ipython-input-2-58f04ec44bd5>\u001b[0m in \u001b[0;36m<module>\u001b[0;34m()\u001b[0m\n\u001b[1;32m      5\u001b[0m     \u001b[0;32mfor\u001b[0m \u001b[0mj\u001b[0m \u001b[0;32min\u001b[0m \u001b[0mrange\u001b[0m\u001b[0;34m(\u001b[0m\u001b[0;36m1\u001b[0m\u001b[0;34m,\u001b[0m\u001b[0;36m3\u001b[0m\u001b[0;34m)\u001b[0m\u001b[0;34m:\u001b[0m\u001b[0;34m\u001b[0m\u001b[0m\n\u001b[1;32m      6\u001b[0m         \u001b[0mprint\u001b[0m\u001b[0;34m(\u001b[0m\u001b[0;34m'20'\u001b[0m\u001b[0;34m+\u001b[0m\u001b[0mstr\u001b[0m\u001b[0;34m(\u001b[0m\u001b[0mi\u001b[0m\u001b[0;34m)\u001b[0m\u001b[0;34m+\u001b[0m\u001b[0mstr\u001b[0m\u001b[0;34m(\u001b[0m\u001b[0mj\u001b[0m\u001b[0;34m)\u001b[0m\u001b[0;34m)\u001b[0m\u001b[0;34m\u001b[0m\u001b[0m\n\u001b[0;32m----> 7\u001b[0;31m         \u001b[0mdf_matricula\u001b[0m \u001b[0;34m=\u001b[0m \u001b[0mpd\u001b[0m\u001b[0;34m.\u001b[0m\u001b[0mread_csv\u001b[0m\u001b[0;34m(\u001b[0m\u001b[0;34m'data_science/matriculas/matriculas-de-20'\u001b[0m\u001b[0;34m+\u001b[0m\u001b[0mstr\u001b[0m\u001b[0;34m(\u001b[0m\u001b[0mi\u001b[0m\u001b[0;34m)\u001b[0m\u001b[0;34m+\u001b[0m\u001b[0mstr\u001b[0m\u001b[0;34m(\u001b[0m\u001b[0mj\u001b[0m\u001b[0;34m)\u001b[0m\u001b[0;34m+\u001b[0m\u001b[0;34m'.csv'\u001b[0m\u001b[0;34m,\u001b[0m\u001b[0msep\u001b[0m\u001b[0;34m=\u001b[0m\u001b[0;34m';'\u001b[0m\u001b[0;34m)\u001b[0m\u001b[0;34m\u001b[0m\u001b[0m\n\u001b[0m\u001b[1;32m      8\u001b[0m         \u001b[0;31m#concatena as tabelas de 2010 a 2017\u001b[0m\u001b[0;34m\u001b[0m\u001b[0;34m\u001b[0m\u001b[0m\n\u001b[1;32m      9\u001b[0m         \u001b[0mdf_matriculas\u001b[0m \u001b[0;34m=\u001b[0m \u001b[0mpd\u001b[0m\u001b[0;34m.\u001b[0m\u001b[0mconcat\u001b[0m\u001b[0;34m(\u001b[0m\u001b[0;34m[\u001b[0m\u001b[0mdf_matriculas\u001b[0m\u001b[0;34m,\u001b[0m \u001b[0mdf_matricula\u001b[0m\u001b[0;34m]\u001b[0m\u001b[0;34m)\u001b[0m\u001b[0;34m\u001b[0m\u001b[0m\n",
      "\u001b[0;32m~/anaconda3/lib/python3.6/site-packages/pandas/io/parsers.py\u001b[0m in \u001b[0;36mparser_f\u001b[0;34m(filepath_or_buffer, sep, delimiter, header, names, index_col, usecols, squeeze, prefix, mangle_dupe_cols, dtype, engine, converters, true_values, false_values, skipinitialspace, skiprows, nrows, na_values, keep_default_na, na_filter, verbose, skip_blank_lines, parse_dates, infer_datetime_format, keep_date_col, date_parser, dayfirst, iterator, chunksize, compression, thousands, decimal, lineterminator, quotechar, quoting, escapechar, comment, encoding, dialect, tupleize_cols, error_bad_lines, warn_bad_lines, skipfooter, skip_footer, doublequote, delim_whitespace, as_recarray, compact_ints, use_unsigned, low_memory, buffer_lines, memory_map, float_precision)\u001b[0m\n\u001b[1;32m    707\u001b[0m                     skip_blank_lines=skip_blank_lines)\n\u001b[1;32m    708\u001b[0m \u001b[0;34m\u001b[0m\u001b[0m\n\u001b[0;32m--> 709\u001b[0;31m         \u001b[0;32mreturn\u001b[0m \u001b[0m_read\u001b[0m\u001b[0;34m(\u001b[0m\u001b[0mfilepath_or_buffer\u001b[0m\u001b[0;34m,\u001b[0m \u001b[0mkwds\u001b[0m\u001b[0;34m)\u001b[0m\u001b[0;34m\u001b[0m\u001b[0m\n\u001b[0m\u001b[1;32m    710\u001b[0m \u001b[0;34m\u001b[0m\u001b[0m\n\u001b[1;32m    711\u001b[0m     \u001b[0mparser_f\u001b[0m\u001b[0;34m.\u001b[0m\u001b[0m__name__\u001b[0m \u001b[0;34m=\u001b[0m \u001b[0mname\u001b[0m\u001b[0;34m\u001b[0m\u001b[0m\n",
      "\u001b[0;32m~/anaconda3/lib/python3.6/site-packages/pandas/io/parsers.py\u001b[0m in \u001b[0;36m_read\u001b[0;34m(filepath_or_buffer, kwds)\u001b[0m\n\u001b[1;32m    447\u001b[0m \u001b[0;34m\u001b[0m\u001b[0m\n\u001b[1;32m    448\u001b[0m     \u001b[0;31m# Create the parser.\u001b[0m\u001b[0;34m\u001b[0m\u001b[0;34m\u001b[0m\u001b[0m\n\u001b[0;32m--> 449\u001b[0;31m     \u001b[0mparser\u001b[0m \u001b[0;34m=\u001b[0m \u001b[0mTextFileReader\u001b[0m\u001b[0;34m(\u001b[0m\u001b[0mfilepath_or_buffer\u001b[0m\u001b[0;34m,\u001b[0m \u001b[0;34m**\u001b[0m\u001b[0mkwds\u001b[0m\u001b[0;34m)\u001b[0m\u001b[0;34m\u001b[0m\u001b[0m\n\u001b[0m\u001b[1;32m    450\u001b[0m \u001b[0;34m\u001b[0m\u001b[0m\n\u001b[1;32m    451\u001b[0m     \u001b[0;32mif\u001b[0m \u001b[0mchunksize\u001b[0m \u001b[0;32mor\u001b[0m \u001b[0miterator\u001b[0m\u001b[0;34m:\u001b[0m\u001b[0;34m\u001b[0m\u001b[0m\n",
      "\u001b[0;32m~/anaconda3/lib/python3.6/site-packages/pandas/io/parsers.py\u001b[0m in \u001b[0;36m__init__\u001b[0;34m(self, f, engine, **kwds)\u001b[0m\n\u001b[1;32m    816\u001b[0m             \u001b[0mself\u001b[0m\u001b[0;34m.\u001b[0m\u001b[0moptions\u001b[0m\u001b[0;34m[\u001b[0m\u001b[0;34m'has_index_names'\u001b[0m\u001b[0;34m]\u001b[0m \u001b[0;34m=\u001b[0m \u001b[0mkwds\u001b[0m\u001b[0;34m[\u001b[0m\u001b[0;34m'has_index_names'\u001b[0m\u001b[0;34m]\u001b[0m\u001b[0;34m\u001b[0m\u001b[0m\n\u001b[1;32m    817\u001b[0m \u001b[0;34m\u001b[0m\u001b[0m\n\u001b[0;32m--> 818\u001b[0;31m         \u001b[0mself\u001b[0m\u001b[0;34m.\u001b[0m\u001b[0m_make_engine\u001b[0m\u001b[0;34m(\u001b[0m\u001b[0mself\u001b[0m\u001b[0;34m.\u001b[0m\u001b[0mengine\u001b[0m\u001b[0;34m)\u001b[0m\u001b[0;34m\u001b[0m\u001b[0m\n\u001b[0m\u001b[1;32m    819\u001b[0m \u001b[0;34m\u001b[0m\u001b[0m\n\u001b[1;32m    820\u001b[0m     \u001b[0;32mdef\u001b[0m \u001b[0mclose\u001b[0m\u001b[0;34m(\u001b[0m\u001b[0mself\u001b[0m\u001b[0;34m)\u001b[0m\u001b[0;34m:\u001b[0m\u001b[0;34m\u001b[0m\u001b[0m\n",
      "\u001b[0;32m~/anaconda3/lib/python3.6/site-packages/pandas/io/parsers.py\u001b[0m in \u001b[0;36m_make_engine\u001b[0;34m(self, engine)\u001b[0m\n\u001b[1;32m   1047\u001b[0m     \u001b[0;32mdef\u001b[0m \u001b[0m_make_engine\u001b[0m\u001b[0;34m(\u001b[0m\u001b[0mself\u001b[0m\u001b[0;34m,\u001b[0m \u001b[0mengine\u001b[0m\u001b[0;34m=\u001b[0m\u001b[0;34m'c'\u001b[0m\u001b[0;34m)\u001b[0m\u001b[0;34m:\u001b[0m\u001b[0;34m\u001b[0m\u001b[0m\n\u001b[1;32m   1048\u001b[0m         \u001b[0;32mif\u001b[0m \u001b[0mengine\u001b[0m \u001b[0;34m==\u001b[0m \u001b[0;34m'c'\u001b[0m\u001b[0;34m:\u001b[0m\u001b[0;34m\u001b[0m\u001b[0m\n\u001b[0;32m-> 1049\u001b[0;31m             \u001b[0mself\u001b[0m\u001b[0;34m.\u001b[0m\u001b[0m_engine\u001b[0m \u001b[0;34m=\u001b[0m \u001b[0mCParserWrapper\u001b[0m\u001b[0;34m(\u001b[0m\u001b[0mself\u001b[0m\u001b[0;34m.\u001b[0m\u001b[0mf\u001b[0m\u001b[0;34m,\u001b[0m \u001b[0;34m**\u001b[0m\u001b[0mself\u001b[0m\u001b[0;34m.\u001b[0m\u001b[0moptions\u001b[0m\u001b[0;34m)\u001b[0m\u001b[0;34m\u001b[0m\u001b[0m\n\u001b[0m\u001b[1;32m   1050\u001b[0m         \u001b[0;32melse\u001b[0m\u001b[0;34m:\u001b[0m\u001b[0;34m\u001b[0m\u001b[0m\n\u001b[1;32m   1051\u001b[0m             \u001b[0;32mif\u001b[0m \u001b[0mengine\u001b[0m \u001b[0;34m==\u001b[0m \u001b[0;34m'python'\u001b[0m\u001b[0;34m:\u001b[0m\u001b[0;34m\u001b[0m\u001b[0m\n",
      "\u001b[0;32m~/anaconda3/lib/python3.6/site-packages/pandas/io/parsers.py\u001b[0m in \u001b[0;36m__init__\u001b[0;34m(self, src, **kwds)\u001b[0m\n\u001b[1;32m   1693\u001b[0m         \u001b[0mkwds\u001b[0m\u001b[0;34m[\u001b[0m\u001b[0;34m'allow_leading_cols'\u001b[0m\u001b[0;34m]\u001b[0m \u001b[0;34m=\u001b[0m \u001b[0mself\u001b[0m\u001b[0;34m.\u001b[0m\u001b[0mindex_col\u001b[0m \u001b[0;32mis\u001b[0m \u001b[0;32mnot\u001b[0m \u001b[0;32mFalse\u001b[0m\u001b[0;34m\u001b[0m\u001b[0m\n\u001b[1;32m   1694\u001b[0m \u001b[0;34m\u001b[0m\u001b[0m\n\u001b[0;32m-> 1695\u001b[0;31m         \u001b[0mself\u001b[0m\u001b[0;34m.\u001b[0m\u001b[0m_reader\u001b[0m \u001b[0;34m=\u001b[0m \u001b[0mparsers\u001b[0m\u001b[0;34m.\u001b[0m\u001b[0mTextReader\u001b[0m\u001b[0;34m(\u001b[0m\u001b[0msrc\u001b[0m\u001b[0;34m,\u001b[0m \u001b[0;34m**\u001b[0m\u001b[0mkwds\u001b[0m\u001b[0;34m)\u001b[0m\u001b[0;34m\u001b[0m\u001b[0m\n\u001b[0m\u001b[1;32m   1696\u001b[0m \u001b[0;34m\u001b[0m\u001b[0m\n\u001b[1;32m   1697\u001b[0m         \u001b[0;31m# XXX\u001b[0m\u001b[0;34m\u001b[0m\u001b[0;34m\u001b[0m\u001b[0m\n",
      "\u001b[0;32mpandas/_libs/parsers.pyx\u001b[0m in \u001b[0;36mpandas._libs.parsers.TextReader.__cinit__\u001b[0;34m()\u001b[0m\n",
      "\u001b[0;32mpandas/_libs/parsers.pyx\u001b[0m in \u001b[0;36mpandas._libs.parsers.TextReader._setup_parser_source\u001b[0;34m()\u001b[0m\n",
      "\u001b[0;31mFileNotFoundError\u001b[0m: File b'data_science/matriculas/matriculas-de-20101.csv' does not exist"
     ]
    }
   ],
   "source": [
    "df_matriculas = pd.DataFrame()\n",
    "\n",
    "# importando notas de 2010 a 2017\n",
    "for i in range(10,18):\n",
    "    for j in range(1,3):\n",
    "        print('20'+str(i)+str(j))\n",
    "        df_matricula = pd.read_csv('data_science/matriculas/matriculas-de-20'+str(i)+str(j)+'.csv',sep=';')\n",
    "        #concatena as tabelas de 2010 a 2017\n",
    "        df_matriculas = pd.concat([df_matriculas, df_matricula])\n",
    "\n",
    "# obtendo o id do curso de ciências e tecnologia\n",
    "df_cursos = pd.read_csv('data_science/cursos-graduacao.csv', sep=';')\n",
    "id_cet = df_cursos[df_cursos.nome == 'CIÊNCIAS E TECNOLOGIA'].id_curso\n",
    "id_cet"
   ]
  },
  {
   "cell_type": "code",
   "execution_count": 14,
   "metadata": {},
   "outputs": [],
   "source": [
    "# filtra tabela pelo id_curso\n",
    "df_matriculasCeT = df_matriculas[df_matriculas.id_curso == float(id_cet)]\n",
    "\n",
    "# columns = ['descricao', 'discente', 'faltas_unidade', 'id_curso', 'id_turma', 'media_final', 'nota', 'numero_total_faltas', 'reposicao', 'unidade']\n",
    "# df_matriculas = df_matriculas[columns]"
   ]
  },
  {
   "cell_type": "code",
   "execution_count": 47,
   "metadata": {},
   "outputs": [
    {
     "data": {
      "text/html": [
       "<div>\n",
       "<style scoped>\n",
       "    .dataframe tbody tr th:only-of-type {\n",
       "        vertical-align: middle;\n",
       "    }\n",
       "\n",
       "    .dataframe tbody tr th {\n",
       "        vertical-align: top;\n",
       "    }\n",
       "\n",
       "    .dataframe thead th {\n",
       "        text-align: right;\n",
       "    }\n",
       "</style>\n",
       "<table border=\"1\" class=\"dataframe\">\n",
       "  <thead>\n",
       "    <tr style=\"text-align: right;\">\n",
       "      <th></th>\n",
       "      <th>Unnamed: 10</th>\n",
       "      <th>descricao</th>\n",
       "      <th>discente</th>\n",
       "      <th>faltas_unidade</th>\n",
       "      <th>id_curso</th>\n",
       "      <th>id_turma</th>\n",
       "      <th>media_final</th>\n",
       "      <th>nota</th>\n",
       "      <th>numero_total_faltas</th>\n",
       "      <th>reposicao</th>\n",
       "      <th>unidade</th>\n",
       "    </tr>\n",
       "  </thead>\n",
       "  <tbody>\n",
       "  </tbody>\n",
       "</table>\n",
       "</div>"
      ],
      "text/plain": [
       "Empty DataFrame\n",
       "Columns: [Unnamed: 10, descricao, discente, faltas_unidade, id_curso, id_turma, media_final, nota, numero_total_faltas, reposicao, unidade]\n",
       "Index: []"
      ]
     },
     "execution_count": 47,
     "metadata": {},
     "output_type": "execute_result"
    }
   ],
   "source": [
    "df_matriculas[df_matriculas.discente=='72eca9ca3b69e98cb6b5512b3d834913']"
   ]
  },
  {
   "cell_type": "code",
   "execution_count": 15,
   "metadata": {},
   "outputs": [
    {
     "data": {
      "text/plain": [
       "Index(['Unnamed: 10', 'descricao', 'discente', 'faltas_unidade', 'id_curso',\n",
       "       'id_turma', 'media_final', 'nota', 'numero_total_faltas', 'reposicao',\n",
       "       'unidade'],\n",
       "      dtype='object')"
      ]
     },
     "execution_count": 15,
     "metadata": {},
     "output_type": "execute_result"
    }
   ],
   "source": [
    "df_matriculasCeT.columns"
   ]
  },
  {
   "cell_type": "code",
   "execution_count": 20,
   "metadata": {},
   "outputs": [
    {
     "name": "stderr",
     "output_type": "stream",
     "text": [
      "/home/andressa/anaconda3/lib/python3.6/site-packages/IPython/core/interactiveshell.py:2728: DtypeWarning: Columns (24) have mixed types. Specify dtype option on import or set low_memory=False.\n",
      "  interactivity=interactivity, compiler=compiler, result=result)\n"
     ]
    },
    {
     "data": {
      "text/plain": [
       "Index(['Unnamed: 0', 'id_turma', 'codigo_turma', 'id_docente_interno',\n",
       "       'id_docente_externo', 'observacao', 'id_componente_curricular',\n",
       "       'nivel_ensino', 'campus_turma', 'local', 'ano', 'periodo',\n",
       "       'data_inicio', 'data_fim', 'descricao_horario', 'total_solicitacoes',\n",
       "       'capacidade_aluno', 'tipo', 'distancia', 'data_consolidacao',\n",
       "       'agrupadora', 'id_turma_agrupadora', 'qtd_aulas_lancadas',\n",
       "       'situacao_turma', 'convenio', 'modalidade_participantes'],\n",
       "      dtype='object')"
      ]
     },
     "execution_count": 20,
     "metadata": {},
     "output_type": "execute_result"
    }
   ],
   "source": [
    "df_turmas = pd.read_csv('data_science/turmas-2010-2017-ok.csv')\n",
    "df_turmas.columns"
   ]
  },
  {
   "cell_type": "code",
   "execution_count": 28,
   "metadata": {},
   "outputs": [
    {
     "data": {
      "text/plain": [
       "Index(['Unnamed: 0', 'id_componente', 'tipo_componente', 'codigo', 'nivel',\n",
       "       'nome', 'unidade_responsavel', 'ch_teorico', 'ch_pratico', 'ch_estagio',\n",
       "       'ch_total', 'ch_dedicada_docente', 'ch_ead', 'cr_max_ead',\n",
       "       'permite_horario_flexivel', 'qtd_unidades', 'procedimentos_avaliacao',\n",
       "       'equivalencia', 'pre_requisito', 'co_requisito', 'ementa',\n",
       "       'bibliografia', 'objetivos', 'conteudo', 'competencias_habilidades',\n",
       "       'referencias', 'ano_programa', 'periodo_programa', 'modalidade',\n",
       "       'curso_componente'],\n",
       "      dtype='object')"
      ]
     },
     "execution_count": 28,
     "metadata": {},
     "output_type": "execute_result"
    }
   ],
   "source": [
    "df_componentes = pd.read_csv('data_science/componentes-curriculares-presenciais-ok.csv')\n",
    "df_componentes.columns"
   ]
  },
  {
   "cell_type": "code",
   "execution_count": 27,
   "metadata": {},
   "outputs": [
    {
     "name": "stdout",
     "output_type": "stream",
     "text": [
      "<class 'pandas.core.frame.DataFrame'>\n",
      "RangeIndex: 34951 entries, 0 to 34950\n",
      "Data columns (total 30 columns):\n",
      "Unnamed: 0                  34951 non-null int64\n",
      "id_componente               34951 non-null int64\n",
      "tipo_componente             34951 non-null object\n",
      "codigo                      34951 non-null object\n",
      "nivel                       34951 non-null object\n",
      "nome                        34950 non-null object\n",
      "unidade_responsavel         34951 non-null object\n",
      "ch_teorico                  34951 non-null int64\n",
      "ch_pratico                  34951 non-null int64\n",
      "ch_estagio                  34951 non-null int64\n",
      "ch_total                    34951 non-null int64\n",
      "ch_dedicada_docente         34951 non-null int64\n",
      "ch_ead                      34951 non-null int64\n",
      "cr_max_ead                  34951 non-null int64\n",
      "permite_horario_flexivel    34951 non-null object\n",
      "qtd_unidades                28194 non-null float64\n",
      "procedimentos_avaliacao     4448 non-null object\n",
      "equivalencia                10332 non-null object\n",
      "pre_requisito               9030 non-null object\n",
      "co_requisito                870 non-null object\n",
      "ementa                      29718 non-null object\n",
      "bibliografia                0 non-null float64\n",
      "objetivos                   9737 non-null object\n",
      "conteudo                    9735 non-null object\n",
      "competencias_habilidades    9579 non-null object\n",
      "referencias                 4445 non-null object\n",
      "ano_programa                9693 non-null float64\n",
      "periodo_programa            9693 non-null float64\n",
      "modalidade                  34951 non-null object\n",
      "curso_componente            8348 non-null object\n",
      "dtypes: float64(4), int64(9), object(17)\n",
      "memory usage: 8.0+ MB\n"
     ]
    }
   ],
   "source": [
    "df_componentes.info()"
   ]
  },
  {
   "cell_type": "code",
   "execution_count": 72,
   "metadata": {},
   "outputs": [],
   "source": [
    "df_discentes = pd.read_csv('secret/matriculas-2013-2017.csv', sep=';')"
   ]
  },
  {
   "cell_type": "code",
   "execution_count": 23,
   "metadata": {},
   "outputs": [],
   "source": [
    "colunas_mat = ['discente', 'id_turma', 'media_final']\n",
    "df_matriculasCeT = df_matriculasCeT[colunas_mat].dropna().drop_duplicates()"
   ]
  },
  {
   "cell_type": "code",
   "execution_count": 24,
   "metadata": {},
   "outputs": [
    {
     "data": {
      "text/html": [
       "<div>\n",
       "<style scoped>\n",
       "    .dataframe tbody tr th:only-of-type {\n",
       "        vertical-align: middle;\n",
       "    }\n",
       "\n",
       "    .dataframe tbody tr th {\n",
       "        vertical-align: top;\n",
       "    }\n",
       "\n",
       "    .dataframe thead th {\n",
       "        text-align: right;\n",
       "    }\n",
       "</style>\n",
       "<table border=\"1\" class=\"dataframe\">\n",
       "  <thead>\n",
       "    <tr style=\"text-align: right;\">\n",
       "      <th></th>\n",
       "      <th>discente</th>\n",
       "      <th>id_turma</th>\n",
       "      <th>media_final</th>\n",
       "    </tr>\n",
       "  </thead>\n",
       "  <tbody>\n",
       "    <tr>\n",
       "      <th>68227</th>\n",
       "      <td>d4245b974fc45e2ef383af9c74d4aa89</td>\n",
       "      <td>57548379</td>\n",
       "      <td>9.0</td>\n",
       "    </tr>\n",
       "    <tr>\n",
       "      <th>87652</th>\n",
       "      <td>747fc6ff3db5cc48b86765c3372219e9</td>\n",
       "      <td>57549019</td>\n",
       "      <td>8.6</td>\n",
       "    </tr>\n",
       "  </tbody>\n",
       "</table>\n",
       "</div>"
      ],
      "text/plain": [
       "                               discente  id_turma  media_final\n",
       "68227  d4245b974fc45e2ef383af9c74d4aa89  57548379          9.0\n",
       "87652  747fc6ff3db5cc48b86765c3372219e9  57549019          8.6"
      ]
     },
     "execution_count": 24,
     "metadata": {},
     "output_type": "execute_result"
    }
   ],
   "source": [
    "df_matriculasCeT.head(2)"
   ]
  },
  {
   "cell_type": "code",
   "execution_count": 29,
   "metadata": {},
   "outputs": [
    {
     "data": {
      "text/html": [
       "<div>\n",
       "<style scoped>\n",
       "    .dataframe tbody tr th:only-of-type {\n",
       "        vertical-align: middle;\n",
       "    }\n",
       "\n",
       "    .dataframe tbody tr th {\n",
       "        vertical-align: top;\n",
       "    }\n",
       "\n",
       "    .dataframe thead th {\n",
       "        text-align: right;\n",
       "    }\n",
       "</style>\n",
       "<table border=\"1\" class=\"dataframe\">\n",
       "  <thead>\n",
       "    <tr style=\"text-align: right;\">\n",
       "      <th></th>\n",
       "      <th>Unnamed: 0_x</th>\n",
       "      <th>id_turma</th>\n",
       "      <th>codigo_turma</th>\n",
       "      <th>id_docente_interno</th>\n",
       "      <th>id_docente_externo</th>\n",
       "      <th>observacao</th>\n",
       "      <th>id_componente_curricular</th>\n",
       "      <th>nivel_ensino</th>\n",
       "      <th>campus_turma</th>\n",
       "      <th>local</th>\n",
       "      <th>...</th>\n",
       "      <th>ementa</th>\n",
       "      <th>bibliografia</th>\n",
       "      <th>objetivos</th>\n",
       "      <th>conteudo</th>\n",
       "      <th>competencias_habilidades</th>\n",
       "      <th>referencias</th>\n",
       "      <th>ano_programa</th>\n",
       "      <th>periodo_programa</th>\n",
       "      <th>modalidade</th>\n",
       "      <th>curso_componente</th>\n",
       "    </tr>\n",
       "  </thead>\n",
       "  <tbody>\n",
       "    <tr>\n",
       "      <th>0</th>\n",
       "      <td>0</td>\n",
       "      <td>1151160</td>\n",
       "      <td>01</td>\n",
       "      <td>25852.0</td>\n",
       "      <td>NaN</td>\n",
       "      <td>NaN</td>\n",
       "      <td>24054</td>\n",
       "      <td>GRADUAÇÃO</td>\n",
       "      <td>Campus Central</td>\n",
       "      <td>Departamento de Engenharia da Produção</td>\n",
       "      <td>...</td>\n",
       "      <td>x</td>\n",
       "      <td>NaN</td>\n",
       "      <td>Desenvolver no aluno o uso e o aprimoramento d...</td>\n",
       "      <td>1.\\t Teoria das Filas; 2.\\t Geração de Números...</td>\n",
       "      <td>O aluno deverá desenvolver as habilidades e co...</td>\n",
       "      <td>[1] Andrade, Eduardo Leopoldino. Introdução à ...</td>\n",
       "      <td>2009.0</td>\n",
       "      <td>2.0</td>\n",
       "      <td>Presencial</td>\n",
       "      <td>NaN</td>\n",
       "    </tr>\n",
       "    <tr>\n",
       "      <th>1</th>\n",
       "      <td>1</td>\n",
       "      <td>1151161</td>\n",
       "      <td>01</td>\n",
       "      <td>5753006.0</td>\n",
       "      <td>NaN</td>\n",
       "      <td>NaN</td>\n",
       "      <td>24061</td>\n",
       "      <td>GRADUAÇÃO</td>\n",
       "      <td>Campus Central</td>\n",
       "      <td>Departamento de Engenharia da Produção</td>\n",
       "      <td>...</td>\n",
       "      <td>x</td>\n",
       "      <td>NaN</td>\n",
       "      <td>Proporcionar capacidades e habilidades para qu...</td>\n",
       "      <td>EMENTA:Papel da função produção. Objetivos de ...</td>\n",
       "      <td>A disciplina proporcionará ao acadêmico as seg...</td>\n",
       "      <td>Montgomery, Cynthia e Michael E. Porter, 1998,...</td>\n",
       "      <td>2011.0</td>\n",
       "      <td>2.0</td>\n",
       "      <td>Presencial</td>\n",
       "      <td>NaN</td>\n",
       "    </tr>\n",
       "  </tbody>\n",
       "</table>\n",
       "<p>2 rows × 56 columns</p>\n",
       "</div>"
      ],
      "text/plain": [
       "   Unnamed: 0_x  id_turma codigo_turma  id_docente_interno  \\\n",
       "0             0   1151160           01             25852.0   \n",
       "1             1   1151161           01           5753006.0   \n",
       "\n",
       "   id_docente_externo observacao  id_componente_curricular nivel_ensino  \\\n",
       "0                 NaN        NaN                     24054    GRADUAÇÃO   \n",
       "1                 NaN        NaN                     24061    GRADUAÇÃO   \n",
       "\n",
       "     campus_turma                                   local       ...         \\\n",
       "0  Campus Central  Departamento de Engenharia da Produção       ...          \n",
       "1  Campus Central  Departamento de Engenharia da Produção       ...          \n",
       "\n",
       "   ementa  bibliografia                                          objetivos  \\\n",
       "0       x           NaN  Desenvolver no aluno o uso e o aprimoramento d...   \n",
       "1       x           NaN  Proporcionar capacidades e habilidades para qu...   \n",
       "\n",
       "                                            conteudo  \\\n",
       "0  1.\\t Teoria das Filas; 2.\\t Geração de Números...   \n",
       "1  EMENTA:Papel da função produção. Objetivos de ...   \n",
       "\n",
       "                            competencias_habilidades  \\\n",
       "0  O aluno deverá desenvolver as habilidades e co...   \n",
       "1  A disciplina proporcionará ao acadêmico as seg...   \n",
       "\n",
       "                                         referencias  ano_programa  \\\n",
       "0  [1] Andrade, Eduardo Leopoldino. Introdução à ...        2009.0   \n",
       "1  Montgomery, Cynthia e Michael E. Porter, 1998,...        2011.0   \n",
       "\n",
       "  periodo_programa  modalidade curso_componente  \n",
       "0              2.0  Presencial              NaN  \n",
       "1              2.0  Presencial              NaN  \n",
       "\n",
       "[2 rows x 56 columns]"
      ]
     },
     "execution_count": 29,
     "metadata": {},
     "output_type": "execute_result"
    }
   ],
   "source": [
    "df_turmasNome = pd.merge(df_turmas, df_componentes, left_on='id_componente_curricular', right_on='id_componente')\n",
    "df_turmasNome.head(2)"
   ]
  },
  {
   "cell_type": "code",
   "execution_count": 31,
   "metadata": {},
   "outputs": [
    {
     "data": {
      "text/html": [
       "<div>\n",
       "<style scoped>\n",
       "    .dataframe tbody tr th:only-of-type {\n",
       "        vertical-align: middle;\n",
       "    }\n",
       "\n",
       "    .dataframe tbody tr th {\n",
       "        vertical-align: top;\n",
       "    }\n",
       "\n",
       "    .dataframe thead th {\n",
       "        text-align: right;\n",
       "    }\n",
       "</style>\n",
       "<table border=\"1\" class=\"dataframe\">\n",
       "  <thead>\n",
       "    <tr style=\"text-align: right;\">\n",
       "      <th></th>\n",
       "      <th>id_turma</th>\n",
       "      <th>nome</th>\n",
       "      <th>ch_total</th>\n",
       "    </tr>\n",
       "  </thead>\n",
       "  <tbody>\n",
       "    <tr>\n",
       "      <th>0</th>\n",
       "      <td>1151160</td>\n",
       "      <td>SIMULACAO</td>\n",
       "      <td>60</td>\n",
       "    </tr>\n",
       "    <tr>\n",
       "      <th>1</th>\n",
       "      <td>1151161</td>\n",
       "      <td>ESTRATEGIA DE PRODUCAO</td>\n",
       "      <td>60</td>\n",
       "    </tr>\n",
       "  </tbody>\n",
       "</table>\n",
       "</div>"
      ],
      "text/plain": [
       "   id_turma                    nome  ch_total\n",
       "0   1151160               SIMULACAO        60\n",
       "1   1151161  ESTRATEGIA DE PRODUCAO        60"
      ]
     },
     "execution_count": 31,
     "metadata": {},
     "output_type": "execute_result"
    }
   ],
   "source": [
    "colunas_turma = ['id_turma', 'nome', 'ch_total']\n",
    "df_turmasNome = df_turmasNome[colunas_turma]\n",
    "df_turmasNome.head(2)"
   ]
  },
  {
   "cell_type": "code",
   "execution_count": 64,
   "metadata": {},
   "outputs": [
    {
     "data": {
      "text/html": [
       "<div>\n",
       "<style scoped>\n",
       "    .dataframe tbody tr th:only-of-type {\n",
       "        vertical-align: middle;\n",
       "    }\n",
       "\n",
       "    .dataframe tbody tr th {\n",
       "        vertical-align: top;\n",
       "    }\n",
       "\n",
       "    .dataframe thead th {\n",
       "        text-align: right;\n",
       "    }\n",
       "</style>\n",
       "<table border=\"1\" class=\"dataframe\">\n",
       "  <thead>\n",
       "    <tr style=\"text-align: right;\">\n",
       "      <th></th>\n",
       "      <th>discente</th>\n",
       "      <th>id_turma</th>\n",
       "      <th>media_final</th>\n",
       "      <th>nome</th>\n",
       "      <th>ch_total</th>\n",
       "    </tr>\n",
       "  </thead>\n",
       "  <tbody>\n",
       "    <tr>\n",
       "      <th>0</th>\n",
       "      <td>d4245b974fc45e2ef383af9c74d4aa89</td>\n",
       "      <td>57548379</td>\n",
       "      <td>9.0</td>\n",
       "      <td>LINGUA INGLESA IX</td>\n",
       "      <td>60</td>\n",
       "    </tr>\n",
       "    <tr>\n",
       "      <th>1</th>\n",
       "      <td>747fc6ff3db5cc48b86765c3372219e9</td>\n",
       "      <td>57549019</td>\n",
       "      <td>8.6</td>\n",
       "      <td>TÓPICOS ESPECIAIS EM COMPUTAÇÃO XIV</td>\n",
       "      <td>60</td>\n",
       "    </tr>\n",
       "  </tbody>\n",
       "</table>\n",
       "</div>"
      ],
      "text/plain": [
       "                           discente  id_turma  media_final  \\\n",
       "0  d4245b974fc45e2ef383af9c74d4aa89  57548379          9.0   \n",
       "1  747fc6ff3db5cc48b86765c3372219e9  57549019          8.6   \n",
       "\n",
       "                                  nome  ch_total  \n",
       "0                    LINGUA INGLESA IX        60  \n",
       "1  TÓPICOS ESPECIAIS EM COMPUTAÇÃO XIV        60  "
      ]
     },
     "execution_count": 64,
     "metadata": {},
     "output_type": "execute_result"
    }
   ],
   "source": [
    "df_ira = pd.merge(df_matriculasCeT, df_turmasNome, on='id_turma').drop_duplicates()\n",
    "df_ira.head(2)"
   ]
  },
  {
   "cell_type": "code",
   "execution_count": 67,
   "metadata": {},
   "outputs": [],
   "source": [
    "df_ira['notaXch'] = df_ira['media_final']*df_ira['ch_total']"
   ]
  },
  {
   "cell_type": "code",
   "execution_count": 68,
   "metadata": {},
   "outputs": [
    {
     "data": {
      "text/html": [
       "<div>\n",
       "<style scoped>\n",
       "    .dataframe tbody tr th:only-of-type {\n",
       "        vertical-align: middle;\n",
       "    }\n",
       "\n",
       "    .dataframe tbody tr th {\n",
       "        vertical-align: top;\n",
       "    }\n",
       "\n",
       "    .dataframe thead th {\n",
       "        text-align: right;\n",
       "    }\n",
       "</style>\n",
       "<table border=\"1\" class=\"dataframe\">\n",
       "  <thead>\n",
       "    <tr style=\"text-align: right;\">\n",
       "      <th></th>\n",
       "      <th>discente</th>\n",
       "      <th>notaXch</th>\n",
       "    </tr>\n",
       "  </thead>\n",
       "  <tbody>\n",
       "    <tr>\n",
       "      <th>0</th>\n",
       "      <td>0004f23716a0a9743b48969a5db7970f</td>\n",
       "      <td>10243.5</td>\n",
       "    </tr>\n",
       "    <tr>\n",
       "      <th>1</th>\n",
       "      <td>0005a138027eba573d7f9894f5721188</td>\n",
       "      <td>17634.0</td>\n",
       "    </tr>\n",
       "  </tbody>\n",
       "</table>\n",
       "</div>"
      ],
      "text/plain": [
       "                           discente  notaXch\n",
       "0  0004f23716a0a9743b48969a5db7970f  10243.5\n",
       "1  0005a138027eba573d7f9894f5721188  17634.0"
      ]
     },
     "metadata": {},
     "output_type": "display_data"
    },
    {
     "data": {
      "text/html": [
       "<div>\n",
       "<style scoped>\n",
       "    .dataframe tbody tr th:only-of-type {\n",
       "        vertical-align: middle;\n",
       "    }\n",
       "\n",
       "    .dataframe tbody tr th {\n",
       "        vertical-align: top;\n",
       "    }\n",
       "\n",
       "    .dataframe thead th {\n",
       "        text-align: right;\n",
       "    }\n",
       "</style>\n",
       "<table border=\"1\" class=\"dataframe\">\n",
       "  <thead>\n",
       "    <tr style=\"text-align: right;\">\n",
       "      <th></th>\n",
       "      <th>discente</th>\n",
       "      <th>ch_total</th>\n",
       "    </tr>\n",
       "  </thead>\n",
       "  <tbody>\n",
       "    <tr>\n",
       "      <th>0</th>\n",
       "      <td>0004f23716a0a9743b48969a5db7970f</td>\n",
       "      <td>1995</td>\n",
       "    </tr>\n",
       "    <tr>\n",
       "      <th>1</th>\n",
       "      <td>0005a138027eba573d7f9894f5721188</td>\n",
       "      <td>3030</td>\n",
       "    </tr>\n",
       "  </tbody>\n",
       "</table>\n",
       "</div>"
      ],
      "text/plain": [
       "                           discente  ch_total\n",
       "0  0004f23716a0a9743b48969a5db7970f      1995\n",
       "1  0005a138027eba573d7f9894f5721188      3030"
      ]
     },
     "metadata": {},
     "output_type": "display_data"
    }
   ],
   "source": [
    "df_sumNotaCh = df_ira.groupby('discente').notaXch.sum().reset_index()\n",
    "display(df_sumNotaCh.head(2))\n",
    "\n",
    "df_sumCh = df_ira.groupby('discente').ch_total.sum().reset_index()\n",
    "display(df_sumCh.head(2))"
   ]
  },
  {
   "cell_type": "code",
   "execution_count": 69,
   "metadata": {},
   "outputs": [
    {
     "data": {
      "text/html": [
       "<div>\n",
       "<style scoped>\n",
       "    .dataframe tbody tr th:only-of-type {\n",
       "        vertical-align: middle;\n",
       "    }\n",
       "\n",
       "    .dataframe tbody tr th {\n",
       "        vertical-align: top;\n",
       "    }\n",
       "\n",
       "    .dataframe thead th {\n",
       "        text-align: right;\n",
       "    }\n",
       "</style>\n",
       "<table border=\"1\" class=\"dataframe\">\n",
       "  <thead>\n",
       "    <tr style=\"text-align: right;\">\n",
       "      <th></th>\n",
       "      <th>discente</th>\n",
       "      <th>notaXch</th>\n",
       "      <th>ch_total</th>\n",
       "      <th>ira</th>\n",
       "    </tr>\n",
       "  </thead>\n",
       "  <tbody>\n",
       "    <tr>\n",
       "      <th>0</th>\n",
       "      <td>0004f23716a0a9743b48969a5db7970f</td>\n",
       "      <td>10243.5</td>\n",
       "      <td>1995</td>\n",
       "      <td>5.134586</td>\n",
       "    </tr>\n",
       "    <tr>\n",
       "      <th>1</th>\n",
       "      <td>0005a138027eba573d7f9894f5721188</td>\n",
       "      <td>17634.0</td>\n",
       "      <td>3030</td>\n",
       "      <td>5.819802</td>\n",
       "    </tr>\n",
       "  </tbody>\n",
       "</table>\n",
       "</div>"
      ],
      "text/plain": [
       "                           discente  notaXch  ch_total       ira\n",
       "0  0004f23716a0a9743b48969a5db7970f  10243.5      1995  5.134586\n",
       "1  0005a138027eba573d7f9894f5721188  17634.0      3030  5.819802"
      ]
     },
     "execution_count": 69,
     "metadata": {},
     "output_type": "execute_result"
    }
   ],
   "source": [
    "df_calIra = pd.merge(df_sumNotaCh, df_sumCh, on='discente')\n",
    "df_calIra['ira'] = df_calIra['notaXch']/df_calIra['ch_total']\n",
    "\n",
    "df_calIra.head(2)"
   ]
  },
  {
   "cell_type": "code",
   "execution_count": 71,
   "metadata": {},
   "outputs": [
    {
     "data": {
      "text/html": [
       "<div>\n",
       "<style scoped>\n",
       "    .dataframe tbody tr th:only-of-type {\n",
       "        vertical-align: middle;\n",
       "    }\n",
       "\n",
       "    .dataframe tbody tr th {\n",
       "        vertical-align: top;\n",
       "    }\n",
       "\n",
       "    .dataframe thead th {\n",
       "        text-align: right;\n",
       "    }\n",
       "</style>\n",
       "<table border=\"1\" class=\"dataframe\">\n",
       "  <thead>\n",
       "    <tr style=\"text-align: right;\">\n",
       "      <th></th>\n",
       "      <th>discente</th>\n",
       "      <th>notaXch</th>\n",
       "      <th>ch_total</th>\n",
       "      <th>ira</th>\n",
       "    </tr>\n",
       "  </thead>\n",
       "  <tbody>\n",
       "    <tr>\n",
       "      <th>4876</th>\n",
       "      <td>8032c974c90eae91a881657fc16092f2</td>\n",
       "      <td>20803.0</td>\n",
       "      <td>2410</td>\n",
       "      <td>8.63195</td>\n",
       "    </tr>\n",
       "  </tbody>\n",
       "</table>\n",
       "</div>"
      ],
      "text/plain": [
       "                              discente  notaXch  ch_total      ira\n",
       "4876  8032c974c90eae91a881657fc16092f2  20803.0      2410  8.63195"
      ]
     },
     "execution_count": 71,
     "metadata": {},
     "output_type": "execute_result"
    }
   ],
   "source": [
    "df_calIra[df_calIra['discente'] == '8032c974c90eae91a881657fc16092f2']"
   ]
  }
 ],
 "metadata": {
  "kernelspec": {
   "display_name": "Python 3",
   "language": "python",
   "name": "python3"
  },
  "language_info": {
   "codemirror_mode": {
    "name": "ipython",
    "version": 3
   },
   "file_extension": ".py",
   "mimetype": "text/x-python",
   "name": "python",
   "nbconvert_exporter": "python",
   "pygments_lexer": "ipython3",
   "version": "3.6.4"
  }
 },
 "nbformat": 4,
 "nbformat_minor": 2
}
