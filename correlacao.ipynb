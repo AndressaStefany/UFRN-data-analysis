{
 "cells": [
  {
   "cell_type": "code",
   "execution_count": 2,
   "metadata": {},
   "outputs": [],
   "source": [
    "import pandas as pd\n",
    "import numpy as np\n",
    "import matplotlib.pyplot as plt\n",
    "import matplotlib as mpl\n",
    "import seaborn as sns\n",
    "from collections import OrderedDict"
   ]
  },
  {
   "cell_type": "markdown",
   "metadata": {},
   "source": [
    "### Importando tabelas"
   ]
  },
  {
   "cell_type": "code",
   "execution_count": 105,
   "metadata": {},
   "outputs": [
    {
     "name": "stdout",
     "output_type": "stream",
     "text": [
      "20101\n",
      "20102\n",
      "20111\n",
      "20112\n",
      "20121\n",
      "20122\n",
      "20131\n",
      "20132\n",
      "20141\n",
      "20142\n",
      "20151\n",
      "20152\n",
      "20161\n",
      "20162\n",
      "20171\n",
      "20172\n"
     ]
    },
    {
     "data": {
      "text/plain": [
       "17    10320810\n",
       "Name: id_curso, dtype: int64"
      ]
     },
     "execution_count": 105,
     "metadata": {},
     "output_type": "execute_result"
    }
   ],
   "source": [
    "df_matriculas = pd.DataFrame()\n",
    "\n",
    "# importando notas de 2010 a 2017\n",
    "for i in range(10,18):\n",
    "    for j in range(1,3):\n",
    "        print('20'+str(i)+str(j))\n",
    "        df_matricula = pd.read_csv('data_science/matriculas_new/matricula-componente-20'+str(i)+str(j)+'.csv',sep=';')\n",
    "        #concatena as tabelas de 2010 a 2017\n",
    "        df_matriculas = pd.concat([df_matriculas, df_matricula])\n",
    "\n",
    "# obtendo o id do curso de ciências e tecnologia\n",
    "df_cursos = pd.read_csv('data_science/cursos-graduacao.csv', sep=';')\n",
    "id_cet = df_cursos[df_cursos.nome == 'CIÊNCIAS E TECNOLOGIA'].id_curso\n",
    "id_cet"
   ]
  },
  {
   "cell_type": "code",
   "execution_count": 132,
   "metadata": {},
   "outputs": [
    {
     "name": "stderr",
     "output_type": "stream",
     "text": [
      "/home/andreza/anaconda3/lib/python3.6/site-packages/IPython/core/interactiveshell.py:2728: DtypeWarning: Columns (24) have mixed types. Specify dtype option on import or set low_memory=False.\n",
      "  interactivity=interactivity, compiler=compiler, result=result)\n"
     ]
    },
    {
     "data": {
      "text/plain": [
       "2014    22531\n",
       "2015    22467\n",
       "2017    22309\n",
       "2016    21946\n",
       "Name: ano, dtype: int64"
      ]
     },
     "execution_count": 132,
     "metadata": {},
     "output_type": "execute_result"
    }
   ],
   "source": [
    "df_turmas = pd.read_csv('data_science/turmas-2010-2017-ok.csv')\n",
    "df_turmasFilt = df_turmas[(df_turmas['ano'] >= 2014) & (df_turmas['nivel_ensino'] == 'GRADUAÇÃO')]\n",
    "# df_turmasFilt = df_turmas[df_turmas['nivel_ensino'] == 'GRADUAÇÃO']\n",
    "df_turmasFilt.ano.value_counts()"
   ]
  },
  {
   "cell_type": "code",
   "execution_count": 133,
   "metadata": {},
   "outputs": [],
   "source": [
    "df_componentes = pd.read_csv('data_science/componentes-curriculares-presenciais-ok.csv')"
   ]
  },
  {
   "cell_type": "code",
   "execution_count": 134,
   "metadata": {},
   "outputs": [
    {
     "name": "stdout",
     "output_type": "stream",
     "text": [
      "Index(['Unnamed: 0', 'id_turma', 'codigo_turma', 'id_docente_interno',\n",
      "       'id_docente_externo', 'observacao', 'id_componente_curricular',\n",
      "       'nivel_ensino', 'campus_turma', 'local', 'ano', 'periodo',\n",
      "       'data_inicio', 'data_fim', 'descricao_horario', 'total_solicitacoes',\n",
      "       'capacidade_aluno', 'tipo', 'distancia', 'data_consolidacao',\n",
      "       'agrupadora', 'id_turma_agrupadora', 'qtd_aulas_lancadas',\n",
      "       'situacao_turma', 'convenio', 'modalidade_participantes'],\n",
      "      dtype='object')\n",
      "Index(['Unnamed: 0', 'id_componente', 'tipo_componente', 'codigo', 'nivel',\n",
      "       'nome', 'unidade_responsavel', 'ch_teorico', 'ch_pratico', 'ch_estagio',\n",
      "       'ch_total', 'ch_dedicada_docente', 'ch_ead', 'cr_max_ead',\n",
      "       'permite_horario_flexivel', 'qtd_unidades', 'procedimentos_avaliacao',\n",
      "       'equivalencia', 'pre_requisito', 'co_requisito', 'ementa',\n",
      "       'bibliografia', 'objetivos', 'conteudo', 'competencias_habilidades',\n",
      "       'referencias', 'ano_programa', 'periodo_programa', 'modalidade',\n",
      "       'curso_componente'],\n",
      "      dtype='object')\n"
     ]
    }
   ],
   "source": [
    "print(df_turmasFilt.columns)\n",
    "print(df_componentes.columns)"
   ]
  },
  {
   "cell_type": "markdown",
   "metadata": {},
   "source": [
    "### Merges"
   ]
  },
  {
   "cell_type": "code",
   "execution_count": 135,
   "metadata": {},
   "outputs": [
    {
     "data": {
      "text/plain": [
       "Index(['Unnamed: 0_x', 'id_turma', 'codigo_turma', 'id_docente_interno',\n",
       "       'id_docente_externo', 'observacao', 'id_componente_curricular',\n",
       "       'nivel_ensino', 'campus_turma', 'local', 'ano', 'periodo',\n",
       "       'data_inicio', 'data_fim', 'descricao_horario', 'total_solicitacoes',\n",
       "       'capacidade_aluno', 'tipo', 'distancia', 'data_consolidacao',\n",
       "       'agrupadora', 'id_turma_agrupadora', 'qtd_aulas_lancadas',\n",
       "       'situacao_turma', 'convenio', 'modalidade_participantes',\n",
       "       'Unnamed: 0_y', 'id_componente', 'tipo_componente', 'codigo', 'nivel',\n",
       "       'nome', 'unidade_responsavel', 'ch_teorico', 'ch_pratico', 'ch_estagio',\n",
       "       'ch_total', 'ch_dedicada_docente', 'ch_ead', 'cr_max_ead',\n",
       "       'permite_horario_flexivel', 'qtd_unidades', 'procedimentos_avaliacao',\n",
       "       'equivalencia', 'pre_requisito', 'co_requisito', 'ementa',\n",
       "       'bibliografia', 'objetivos', 'conteudo', 'competencias_habilidades',\n",
       "       'referencias', 'ano_programa', 'periodo_programa', 'modalidade',\n",
       "       'curso_componente'],\n",
       "      dtype='object')"
      ]
     },
     "execution_count": 135,
     "metadata": {},
     "output_type": "execute_result"
    }
   ],
   "source": [
    "df_turmasNome = pd.merge(df_turmasFilt, df_componentes, left_on='id_componente_curricular', right_on='id_componente')\n",
    "df_turmasNome.columns"
   ]
  },
  {
   "cell_type": "code",
   "execution_count": 136,
   "metadata": {},
   "outputs": [],
   "source": [
    "disciplinas = ['CÁLCULO I','CÁLCULO II','CÁLCULO III','VETORES E GEOMETRIA ANALÍTICA','PRÉ-CÁLCULO','PROBABILIDADE E ESTATÍSTICA',\n",
    "               'INTRODUÇÃO À FÍSICA CLÁSSICA I','INTRODUÇÃO À FÍSICA CLÁSSICA II','INTRODUÇÃO À FÍSICA CLÁSSICA III','LÓGICA DE PROGRAMAÇÃO',\n",
    "               'LINGUAGEM DE PROGRAMAÇÃO','COMPUTAÇÃO NUMÉRICA','QUÍMICA GERAL','ALGEBRA LINEAR','MECÂNICA DOS SÓLIDOS','MECÂNICA DOS FLUIDOS',\n",
    "               'CIÊNCIA E TECNOLOGIA DOS MATERIAIS']"
   ]
  },
  {
   "cell_type": "code",
   "execution_count": 137,
   "metadata": {},
   "outputs": [],
   "source": [
    "df_auxTurmas = df_turmasNome[df_turmasNome['nome'].isin(disciplinas)]"
   ]
  },
  {
   "cell_type": "code",
   "execution_count": 138,
   "metadata": {},
   "outputs": [],
   "source": [
    "colunas = ['id_turma', 'codigo', 'nome', 'pre_requisito']\n",
    "df_auxTurmas = df_auxTurmas[colunas]\n",
    "\n",
    "df_auxAll = pd.merge(df_matriculas, df_auxTurmas, on='id_turma')\n",
    "\n",
    "colunas2 = ['descricao', 'discente', 'id_turma', 'media_final', 'codigo', 'nome']\n",
    "df_auxAll = df_auxAll[colunas2].drop_duplicates().dropna()"
   ]
  },
  {
   "cell_type": "code",
   "execution_count": 139,
   "metadata": {},
   "outputs": [
    {
     "data": {
      "text/html": [
       "<div>\n",
       "<style scoped>\n",
       "    .dataframe tbody tr th:only-of-type {\n",
       "        vertical-align: middle;\n",
       "    }\n",
       "\n",
       "    .dataframe tbody tr th {\n",
       "        vertical-align: top;\n",
       "    }\n",
       "\n",
       "    .dataframe thead th {\n",
       "        text-align: right;\n",
       "    }\n",
       "</style>\n",
       "<table border=\"1\" class=\"dataframe\">\n",
       "  <thead>\n",
       "    <tr style=\"text-align: right;\">\n",
       "      <th></th>\n",
       "      <th>descricao</th>\n",
       "      <th>discente</th>\n",
       "      <th>id_turma</th>\n",
       "      <th>media_final</th>\n",
       "      <th>codigo</th>\n",
       "      <th>nome</th>\n",
       "    </tr>\n",
       "  </thead>\n",
       "  <tbody>\n",
       "    <tr>\n",
       "      <th>2</th>\n",
       "      <td>REPROVADO</td>\n",
       "      <td>b70cfc26a1b6eb885a529e60c07354cd</td>\n",
       "      <td>1226773</td>\n",
       "      <td>3.4</td>\n",
       "      <td>ECT1401</td>\n",
       "      <td>CIÊNCIA E TECNOLOGIA DOS MATERIAIS</td>\n",
       "    </tr>\n",
       "    <tr>\n",
       "      <th>16</th>\n",
       "      <td>REPROVADO</td>\n",
       "      <td>970cbdd2d4d5d75cc06acf545766eba1</td>\n",
       "      <td>1226773</td>\n",
       "      <td>0.0</td>\n",
       "      <td>ECT1401</td>\n",
       "      <td>CIÊNCIA E TECNOLOGIA DOS MATERIAIS</td>\n",
       "    </tr>\n",
       "    <tr>\n",
       "      <th>22</th>\n",
       "      <td>REPROVADO</td>\n",
       "      <td>7ba56f4d760d44531b3f8220c58e947b</td>\n",
       "      <td>1226773</td>\n",
       "      <td>0.0</td>\n",
       "      <td>ECT1401</td>\n",
       "      <td>CIÊNCIA E TECNOLOGIA DOS MATERIAIS</td>\n",
       "    </tr>\n",
       "    <tr>\n",
       "      <th>52</th>\n",
       "      <td>APROVADO</td>\n",
       "      <td>dfdf0394ccc40abbcbc8aa6ec6e49969</td>\n",
       "      <td>1220717</td>\n",
       "      <td>5.4</td>\n",
       "      <td>ECT1401</td>\n",
       "      <td>CIÊNCIA E TECNOLOGIA DOS MATERIAIS</td>\n",
       "    </tr>\n",
       "    <tr>\n",
       "      <th>58</th>\n",
       "      <td>REPROVADO</td>\n",
       "      <td>db1fd7f22172df2305735834721d934a</td>\n",
       "      <td>1220717</td>\n",
       "      <td>4.7</td>\n",
       "      <td>ECT1401</td>\n",
       "      <td>CIÊNCIA E TECNOLOGIA DOS MATERIAIS</td>\n",
       "    </tr>\n",
       "  </tbody>\n",
       "</table>\n",
       "</div>"
      ],
      "text/plain": [
       "    descricao                          discente  id_turma  media_final  \\\n",
       "2   REPROVADO  b70cfc26a1b6eb885a529e60c07354cd   1226773          3.4   \n",
       "16  REPROVADO  970cbdd2d4d5d75cc06acf545766eba1   1226773          0.0   \n",
       "22  REPROVADO  7ba56f4d760d44531b3f8220c58e947b   1226773          0.0   \n",
       "52   APROVADO  dfdf0394ccc40abbcbc8aa6ec6e49969   1220717          5.4   \n",
       "58  REPROVADO  db1fd7f22172df2305735834721d934a   1220717          4.7   \n",
       "\n",
       "     codigo                                nome  \n",
       "2   ECT1401  CIÊNCIA E TECNOLOGIA DOS MATERIAIS  \n",
       "16  ECT1401  CIÊNCIA E TECNOLOGIA DOS MATERIAIS  \n",
       "22  ECT1401  CIÊNCIA E TECNOLOGIA DOS MATERIAIS  \n",
       "52  ECT1401  CIÊNCIA E TECNOLOGIA DOS MATERIAIS  \n",
       "58  ECT1401  CIÊNCIA E TECNOLOGIA DOS MATERIAIS  "
      ]
     },
     "execution_count": 139,
     "metadata": {},
     "output_type": "execute_result"
    }
   ],
   "source": [
    "df_auxAll.head()"
   ]
  },
  {
   "cell_type": "code",
   "execution_count": 140,
   "metadata": {},
   "outputs": [
    {
     "data": {
      "text/plain": [
       "CÁLCULO I                             6912\n",
       "VETORES E GEOMETRIA ANALÍTICA         5779\n",
       "PRÉ-CÁLCULO                           4276\n",
       "PROBABILIDADE E ESTATÍSTICA           4129\n",
       "CÁLCULO II                            3928\n",
       "QUÍMICA GERAL                         3874\n",
       "LINGUAGEM DE PROGRAMAÇÃO              3859\n",
       "COMPUTAÇÃO NUMÉRICA                   3229\n",
       "CÁLCULO III                           3216\n",
       "MECÂNICA DOS SÓLIDOS                  2969\n",
       "CIÊNCIA E TECNOLOGIA DOS MATERIAIS    2962\n",
       "INTRODUÇÃO À FÍSICA CLÁSSICA I        2918\n",
       "LÓGICA DE PROGRAMAÇÃO                 2762\n",
       "INTRODUÇÃO À FÍSICA CLÁSSICA II       2512\n",
       "MECÂNICA DOS FLUIDOS                  2483\n",
       "INTRODUÇÃO À FÍSICA CLÁSSICA III      1882\n",
       "ALGEBRA LINEAR                         514\n",
       "Name: nome, dtype: int64"
      ]
     },
     "execution_count": 140,
     "metadata": {},
     "output_type": "execute_result"
    }
   ],
   "source": [
    "df_auxAll.nome.value_counts()"
   ]
  },
  {
   "cell_type": "markdown",
   "metadata": {},
   "source": [
    "### Correlação"
   ]
  },
  {
   "cell_type": "code",
   "execution_count": 141,
   "metadata": {},
   "outputs": [
    {
     "data": {
      "text/plain": [
       "Index(['descricao', 'discente', 'id_turma', 'media_final', 'codigo', 'nome'], dtype='object')"
      ]
     },
     "execution_count": 141,
     "metadata": {},
     "output_type": "execute_result"
    }
   ],
   "source": [
    "# apenas os aprovados\n",
    "df_auxAprovados = df_auxAll[df_auxAll['descricao'].str.contains('APROVADO')]\n",
    "df_auxAprovados.columns"
   ]
  },
  {
   "cell_type": "code",
   "execution_count": 142,
   "metadata": {},
   "outputs": [
    {
     "data": {
      "text/plain": [
       "APROVADO POR NOTA    18193\n",
       "APROVADO              9587\n",
       "Name: descricao, dtype: int64"
      ]
     },
     "execution_count": 142,
     "metadata": {},
     "output_type": "execute_result"
    }
   ],
   "source": [
    "df_auxAprovados.descricao.value_counts()"
   ]
  },
  {
   "cell_type": "code",
   "execution_count": 143,
   "metadata": {},
   "outputs": [],
   "source": [
    "discentes= df_auxAprovados.discente.unique()"
   ]
  },
  {
   "cell_type": "code",
   "execution_count": 144,
   "metadata": {},
   "outputs": [
    {
     "data": {
      "text/plain": [
       "818    5.8\n",
       "Name: media_final, dtype: float64"
      ]
     },
     "execution_count": 144,
     "metadata": {},
     "output_type": "execute_result"
    }
   ],
   "source": [
    "isso = df_auxAll[(df_auxAll['nome']=='CÁLCULO I') & (df_auxAll['discente']=='fe16b848a14a942f60497ffaf3bde2f9')].media_final\n",
    "isso"
   ]
  },
  {
   "cell_type": "code",
   "execution_count": 145,
   "metadata": {},
   "outputs": [
    {
     "data": {
      "text/plain": [
       "Index(['descricao', 'discente', 'id_turma', 'media_final', 'codigo', 'nome'], dtype='object')"
      ]
     },
     "execution_count": 145,
     "metadata": {},
     "output_type": "execute_result"
    }
   ],
   "source": [
    "df_auxAprovados.columns"
   ]
  },
  {
   "cell_type": "code",
   "execution_count": 146,
   "metadata": {},
   "outputs": [
    {
     "name": "stdout",
     "output_type": "stream",
     "text": [
      "(2425, 2)\n",
      "(1809, 2)\n",
      "(1448, 2)\n",
      "(2216, 2)\n",
      "(2047, 2)\n",
      "(2016, 2)\n",
      "(1315, 2)\n",
      "(1479, 2)\n",
      "(1171, 2)\n",
      "(1468, 2)\n",
      "(1799, 2)\n",
      "(1494, 2)\n",
      "(2107, 2)\n",
      "(272, 2)\n",
      "(1449, 2)\n",
      "(1516, 2)\n",
      "(1749, 2)\n"
     ]
    }
   ],
   "source": [
    "df_calc1 = df_auxAprovados[df_auxAprovados['nome']=='CÁLCULO I']\n",
    "df_calc1 = df_calc1[['discente','media_final']]\n",
    "print(df_calc1.shape)\n",
    "\n",
    "df_calc2 = df_auxAprovados[df_auxAprovados['nome']=='CÁLCULO II']\n",
    "df_calc2 = df_calc2[['discente','media_final']]\n",
    "print(df_calc2.shape)\n",
    "\n",
    "df_calc3 = df_auxAprovados[df_auxAprovados['nome']=='CÁLCULO III']\n",
    "df_calc3 = df_calc3[['discente','media_final']]\n",
    "print(df_calc3.shape)\n",
    "\n",
    "df_vga = df_auxAprovados[df_auxAprovados['nome']=='VETORES E GEOMETRIA ANALÍTICA']\n",
    "df_vga = df_vga[['discente','media_final']]\n",
    "print(df_vga.shape)\n",
    "\n",
    "df_pc = df_auxAprovados[df_auxAprovados['nome']=='PRÉ-CÁLCULO']\n",
    "df_pc = df_pc[['discente','media_final']]\n",
    "print(df_pc.shape)\n",
    "\n",
    "df_pe = df_auxAprovados[df_auxAprovados['nome']=='PROBABILIDADE E ESTATÍSTICA']\n",
    "df_pe = df_pe[['discente','media_final']]\n",
    "print(df_pe.shape)\n",
    "\n",
    "df_f1 = df_auxAprovados[df_auxAprovados['nome']=='INTRODUÇÃO À FÍSICA CLÁSSICA I']\n",
    "df_f1 = df_f1[['discente','media_final']]\n",
    "print(df_f1.shape)\n",
    "\n",
    "df_f2 = df_auxAprovados[df_auxAprovados['nome']=='INTRODUÇÃO À FÍSICA CLÁSSICA II']\n",
    "df_f2 = df_f2[['discente','media_final']]\n",
    "print(df_f2.shape)\n",
    "\n",
    "df_f3 = df_auxAprovados[df_auxAprovados['nome']=='INTRODUÇÃO À FÍSICA CLÁSSICA III']\n",
    "df_f3 = df_f3[['discente','media_final']]\n",
    "print(df_f3.shape)\n",
    "\n",
    "df_lop = df_auxAprovados[df_auxAprovados['nome']=='LÓGICA DE PROGRAMAÇÃO']\n",
    "df_lop = df_lop[['discente','media_final']]\n",
    "print(df_lop.shape)\n",
    "\n",
    "df_lp = df_auxAprovados[df_auxAprovados['nome']=='LINGUAGEM DE PROGRAMAÇÃO']\n",
    "df_lp = df_lp[['discente','media_final']]\n",
    "print(df_lp.shape)\n",
    "\n",
    "df_cn = df_auxAprovados[df_auxAprovados['nome']=='COMPUTAÇÃO NUMÉRICA']\n",
    "df_cn = df_cn[['discente','media_final']]\n",
    "print(df_cn.shape)\n",
    "\n",
    "df_qg = df_auxAprovados[df_auxAprovados['nome']=='QUÍMICA GERAL']\n",
    "df_qg = df_qg[['discente','media_final']]\n",
    "print(df_qg.shape)\n",
    "\n",
    "df_al = df_auxAprovados[df_auxAprovados['nome']=='ALGEBRA LINEAR']\n",
    "df_al = df_al[['discente','media_final']]\n",
    "print(df_al.shape)\n",
    "\n",
    "df_ms = df_auxAprovados[df_auxAprovados['nome']=='MECÂNICA DOS SÓLIDOS']\n",
    "df_ms = df_ms[['discente','media_final']]\n",
    "print(df_ms.shape)\n",
    "\n",
    "df_mf = df_auxAprovados[df_auxAprovados['nome']=='MECÂNICA DOS FLUIDOS']\n",
    "df_mf = df_mf[['discente','media_final']]\n",
    "print(df_mf.shape)\n",
    "\n",
    "df_ctm = df_auxAprovados[df_auxAprovados['nome']=='CIÊNCIA E TECNOLOGIA DOS MATERIAIS']\n",
    "df_ctm = df_ctm[['discente','media_final']]\n",
    "print(df_ctm.shape)"
   ]
  },
  {
   "cell_type": "code",
   "execution_count": 147,
   "metadata": {},
   "outputs": [
    {
     "data": {
      "text/plain": [
       "MAT0343    252\n",
       "MAT0369     20\n",
       "Name: codigo, dtype: int64"
      ]
     },
     "execution_count": 147,
     "metadata": {},
     "output_type": "execute_result"
    }
   ],
   "source": [
    "df_auxAprovados[df_auxAprovados['nome']=='ALGEBRA LINEAR'].codigo.value_counts()"
   ]
  },
  {
   "cell_type": "code",
   "execution_count": 148,
   "metadata": {},
   "outputs": [
    {
     "data": {
      "text/html": [
       "<div>\n",
       "<style scoped>\n",
       "    .dataframe tbody tr th:only-of-type {\n",
       "        vertical-align: middle;\n",
       "    }\n",
       "\n",
       "    .dataframe tbody tr th {\n",
       "        vertical-align: top;\n",
       "    }\n",
       "\n",
       "    .dataframe thead th {\n",
       "        text-align: right;\n",
       "    }\n",
       "</style>\n",
       "<table border=\"1\" class=\"dataframe\">\n",
       "  <thead>\n",
       "    <tr style=\"text-align: right;\">\n",
       "      <th></th>\n",
       "      <th>discente</th>\n",
       "      <th>ALGEBRA LINEAR</th>\n",
       "    </tr>\n",
       "  </thead>\n",
       "  <tbody>\n",
       "    <tr>\n",
       "      <th>0</th>\n",
       "      <td>5efce18e36d1989aba6c0614f334fcc5</td>\n",
       "      <td>5.7</td>\n",
       "    </tr>\n",
       "    <tr>\n",
       "      <th>1</th>\n",
       "      <td>607b89c7663813b0577a1ebf2315f80c</td>\n",
       "      <td>6.3</td>\n",
       "    </tr>\n",
       "    <tr>\n",
       "      <th>2</th>\n",
       "      <td>485126e1f950797fa5d32f01a91792fc</td>\n",
       "      <td>5.5</td>\n",
       "    </tr>\n",
       "    <tr>\n",
       "      <th>3</th>\n",
       "      <td>4dc29bb23c754d71d6e311a55d333729</td>\n",
       "      <td>9.2</td>\n",
       "    </tr>\n",
       "    <tr>\n",
       "      <th>4</th>\n",
       "      <td>ba2010fa68da2c25c85bc64c3a48e620</td>\n",
       "      <td>7.2</td>\n",
       "    </tr>\n",
       "  </tbody>\n",
       "</table>\n",
       "</div>"
      ],
      "text/plain": [
       "                           discente  ALGEBRA LINEAR\n",
       "0  5efce18e36d1989aba6c0614f334fcc5             5.7\n",
       "1  607b89c7663813b0577a1ebf2315f80c             6.3\n",
       "2  485126e1f950797fa5d32f01a91792fc             5.5\n",
       "3  4dc29bb23c754d71d6e311a55d333729             9.2\n",
       "4  ba2010fa68da2c25c85bc64c3a48e620             7.2"
      ]
     },
     "execution_count": 148,
     "metadata": {},
     "output_type": "execute_result"
    }
   ],
   "source": [
    "teste = pd.DataFrame()\n",
    "teste['discente'] = discentes\n",
    "\n",
    "teste = pd.merge(teste, df_al, on='discente')\n",
    "teste = teste.rename(columns={\"media_final\": 'ALGEBRA LINEAR'})\n",
    "teste.head()"
   ]
  },
  {
   "cell_type": "code",
   "execution_count": 149,
   "metadata": {},
   "outputs": [
    {
     "name": "stdout",
     "output_type": "stream",
     "text": [
      "0\n"
     ]
    },
    {
     "data": {
      "text/html": [
       "<div>\n",
       "<style scoped>\n",
       "    .dataframe tbody tr th:only-of-type {\n",
       "        vertical-align: middle;\n",
       "    }\n",
       "\n",
       "    .dataframe tbody tr th {\n",
       "        vertical-align: top;\n",
       "    }\n",
       "\n",
       "    .dataframe thead th {\n",
       "        text-align: right;\n",
       "    }\n",
       "</style>\n",
       "<table border=\"1\" class=\"dataframe\">\n",
       "  <thead>\n",
       "    <tr style=\"text-align: right;\">\n",
       "      <th></th>\n",
       "      <th>discente</th>\n",
       "      <th>ALGEBRA LINEAR</th>\n",
       "    </tr>\n",
       "  </thead>\n",
       "  <tbody>\n",
       "    <tr>\n",
       "      <th>0</th>\n",
       "      <td>5efce18e36d1989aba6c0614f334fcc5</td>\n",
       "      <td>5.7</td>\n",
       "    </tr>\n",
       "    <tr>\n",
       "      <th>1</th>\n",
       "      <td>607b89c7663813b0577a1ebf2315f80c</td>\n",
       "      <td>6.3</td>\n",
       "    </tr>\n",
       "    <tr>\n",
       "      <th>2</th>\n",
       "      <td>485126e1f950797fa5d32f01a91792fc</td>\n",
       "      <td>5.5</td>\n",
       "    </tr>\n",
       "    <tr>\n",
       "      <th>3</th>\n",
       "      <td>4dc29bb23c754d71d6e311a55d333729</td>\n",
       "      <td>9.2</td>\n",
       "    </tr>\n",
       "    <tr>\n",
       "      <th>4</th>\n",
       "      <td>ba2010fa68da2c25c85bc64c3a48e620</td>\n",
       "      <td>7.2</td>\n",
       "    </tr>\n",
       "  </tbody>\n",
       "</table>\n",
       "</div>"
      ],
      "text/plain": [
       "                           discente  ALGEBRA LINEAR\n",
       "0  5efce18e36d1989aba6c0614f334fcc5             5.7\n",
       "1  607b89c7663813b0577a1ebf2315f80c             6.3\n",
       "2  485126e1f950797fa5d32f01a91792fc             5.5\n",
       "3  4dc29bb23c754d71d6e311a55d333729             9.2\n",
       "4  ba2010fa68da2c25c85bc64c3a48e620             7.2"
      ]
     },
     "metadata": {},
     "output_type": "display_data"
    },
    {
     "name": "stdout",
     "output_type": "stream",
     "text": [
      "1\n"
     ]
    },
    {
     "data": {
      "text/html": [
       "<div>\n",
       "<style scoped>\n",
       "    .dataframe tbody tr th:only-of-type {\n",
       "        vertical-align: middle;\n",
       "    }\n",
       "\n",
       "    .dataframe tbody tr th {\n",
       "        vertical-align: top;\n",
       "    }\n",
       "\n",
       "    .dataframe thead th {\n",
       "        text-align: right;\n",
       "    }\n",
       "</style>\n",
       "<table border=\"1\" class=\"dataframe\">\n",
       "  <thead>\n",
       "    <tr style=\"text-align: right;\">\n",
       "      <th></th>\n",
       "      <th>discente</th>\n",
       "      <th>ALGEBRA LINEAR</th>\n",
       "      <th>CÁLCULO I</th>\n",
       "    </tr>\n",
       "  </thead>\n",
       "  <tbody>\n",
       "    <tr>\n",
       "      <th>0</th>\n",
       "      <td>5d5d904110ee38b37643a03d54e2f2b3</td>\n",
       "      <td>8.2</td>\n",
       "      <td>5.4</td>\n",
       "    </tr>\n",
       "    <tr>\n",
       "      <th>1</th>\n",
       "      <td>a78f2930ba6869e2757b6bac7740dd7c</td>\n",
       "      <td>6.2</td>\n",
       "      <td>5.8</td>\n",
       "    </tr>\n",
       "    <tr>\n",
       "      <th>2</th>\n",
       "      <td>6e30e4a4d0cb70fcaf0a4cd5f547e33c</td>\n",
       "      <td>7.3</td>\n",
       "      <td>5.2</td>\n",
       "    </tr>\n",
       "    <tr>\n",
       "      <th>3</th>\n",
       "      <td>ba0544830d336471d753e673ffd825ff</td>\n",
       "      <td>5.6</td>\n",
       "      <td>6.9</td>\n",
       "    </tr>\n",
       "    <tr>\n",
       "      <th>4</th>\n",
       "      <td>7001bc2dcedafd568676d83007d2eed9</td>\n",
       "      <td>6.0</td>\n",
       "      <td>6.1</td>\n",
       "    </tr>\n",
       "  </tbody>\n",
       "</table>\n",
       "</div>"
      ],
      "text/plain": [
       "                           discente  ALGEBRA LINEAR  CÁLCULO I\n",
       "0  5d5d904110ee38b37643a03d54e2f2b3             8.2        5.4\n",
       "1  a78f2930ba6869e2757b6bac7740dd7c             6.2        5.8\n",
       "2  6e30e4a4d0cb70fcaf0a4cd5f547e33c             7.3        5.2\n",
       "3  ba0544830d336471d753e673ffd825ff             5.6        6.9\n",
       "4  7001bc2dcedafd568676d83007d2eed9             6.0        6.1"
      ]
     },
     "metadata": {},
     "output_type": "display_data"
    },
    {
     "name": "stdout",
     "output_type": "stream",
     "text": [
      "2\n"
     ]
    },
    {
     "data": {
      "text/html": [
       "<div>\n",
       "<style scoped>\n",
       "    .dataframe tbody tr th:only-of-type {\n",
       "        vertical-align: middle;\n",
       "    }\n",
       "\n",
       "    .dataframe tbody tr th {\n",
       "        vertical-align: top;\n",
       "    }\n",
       "\n",
       "    .dataframe thead th {\n",
       "        text-align: right;\n",
       "    }\n",
       "</style>\n",
       "<table border=\"1\" class=\"dataframe\">\n",
       "  <thead>\n",
       "    <tr style=\"text-align: right;\">\n",
       "      <th></th>\n",
       "      <th>discente</th>\n",
       "      <th>ALGEBRA LINEAR</th>\n",
       "      <th>CÁLCULO I</th>\n",
       "      <th>CÁLCULO II</th>\n",
       "    </tr>\n",
       "  </thead>\n",
       "  <tbody>\n",
       "    <tr>\n",
       "      <th>0</th>\n",
       "      <td>5d5d904110ee38b37643a03d54e2f2b3</td>\n",
       "      <td>8.2</td>\n",
       "      <td>5.4</td>\n",
       "      <td>7.8</td>\n",
       "    </tr>\n",
       "    <tr>\n",
       "      <th>1</th>\n",
       "      <td>a78f2930ba6869e2757b6bac7740dd7c</td>\n",
       "      <td>6.2</td>\n",
       "      <td>5.8</td>\n",
       "      <td>7.0</td>\n",
       "    </tr>\n",
       "    <tr>\n",
       "      <th>2</th>\n",
       "      <td>6e30e4a4d0cb70fcaf0a4cd5f547e33c</td>\n",
       "      <td>7.3</td>\n",
       "      <td>5.2</td>\n",
       "      <td>7.3</td>\n",
       "    </tr>\n",
       "    <tr>\n",
       "      <th>3</th>\n",
       "      <td>7001bc2dcedafd568676d83007d2eed9</td>\n",
       "      <td>6.0</td>\n",
       "      <td>6.1</td>\n",
       "      <td>7.2</td>\n",
       "    </tr>\n",
       "  </tbody>\n",
       "</table>\n",
       "</div>"
      ],
      "text/plain": [
       "                           discente  ALGEBRA LINEAR  CÁLCULO I  CÁLCULO II\n",
       "0  5d5d904110ee38b37643a03d54e2f2b3             8.2        5.4         7.8\n",
       "1  a78f2930ba6869e2757b6bac7740dd7c             6.2        5.8         7.0\n",
       "2  6e30e4a4d0cb70fcaf0a4cd5f547e33c             7.3        5.2         7.3\n",
       "3  7001bc2dcedafd568676d83007d2eed9             6.0        6.1         7.2"
      ]
     },
     "metadata": {},
     "output_type": "display_data"
    },
    {
     "name": "stdout",
     "output_type": "stream",
     "text": [
      "3\n"
     ]
    },
    {
     "data": {
      "text/html": [
       "<div>\n",
       "<style scoped>\n",
       "    .dataframe tbody tr th:only-of-type {\n",
       "        vertical-align: middle;\n",
       "    }\n",
       "\n",
       "    .dataframe tbody tr th {\n",
       "        vertical-align: top;\n",
       "    }\n",
       "\n",
       "    .dataframe thead th {\n",
       "        text-align: right;\n",
       "    }\n",
       "</style>\n",
       "<table border=\"1\" class=\"dataframe\">\n",
       "  <thead>\n",
       "    <tr style=\"text-align: right;\">\n",
       "      <th></th>\n",
       "      <th>discente</th>\n",
       "      <th>ALGEBRA LINEAR</th>\n",
       "      <th>CÁLCULO I</th>\n",
       "      <th>CÁLCULO II</th>\n",
       "      <th>CÁLCULO III</th>\n",
       "    </tr>\n",
       "  </thead>\n",
       "  <tbody>\n",
       "    <tr>\n",
       "      <th>0</th>\n",
       "      <td>5d5d904110ee38b37643a03d54e2f2b3</td>\n",
       "      <td>8.2</td>\n",
       "      <td>5.4</td>\n",
       "      <td>7.8</td>\n",
       "      <td>5.9</td>\n",
       "    </tr>\n",
       "    <tr>\n",
       "      <th>1</th>\n",
       "      <td>a78f2930ba6869e2757b6bac7740dd7c</td>\n",
       "      <td>6.2</td>\n",
       "      <td>5.8</td>\n",
       "      <td>7.0</td>\n",
       "      <td>5.7</td>\n",
       "    </tr>\n",
       "    <tr>\n",
       "      <th>2</th>\n",
       "      <td>6e30e4a4d0cb70fcaf0a4cd5f547e33c</td>\n",
       "      <td>7.3</td>\n",
       "      <td>5.2</td>\n",
       "      <td>7.3</td>\n",
       "      <td>7.2</td>\n",
       "    </tr>\n",
       "    <tr>\n",
       "      <th>3</th>\n",
       "      <td>7001bc2dcedafd568676d83007d2eed9</td>\n",
       "      <td>6.0</td>\n",
       "      <td>6.1</td>\n",
       "      <td>7.2</td>\n",
       "      <td>6.0</td>\n",
       "    </tr>\n",
       "  </tbody>\n",
       "</table>\n",
       "</div>"
      ],
      "text/plain": [
       "                           discente  ALGEBRA LINEAR  CÁLCULO I  CÁLCULO II  \\\n",
       "0  5d5d904110ee38b37643a03d54e2f2b3             8.2        5.4         7.8   \n",
       "1  a78f2930ba6869e2757b6bac7740dd7c             6.2        5.8         7.0   \n",
       "2  6e30e4a4d0cb70fcaf0a4cd5f547e33c             7.3        5.2         7.3   \n",
       "3  7001bc2dcedafd568676d83007d2eed9             6.0        6.1         7.2   \n",
       "\n",
       "   CÁLCULO III  \n",
       "0          5.9  \n",
       "1          5.7  \n",
       "2          7.2  \n",
       "3          6.0  "
      ]
     },
     "metadata": {},
     "output_type": "display_data"
    },
    {
     "name": "stdout",
     "output_type": "stream",
     "text": [
      "4\n"
     ]
    },
    {
     "data": {
      "text/html": [
       "<div>\n",
       "<style scoped>\n",
       "    .dataframe tbody tr th:only-of-type {\n",
       "        vertical-align: middle;\n",
       "    }\n",
       "\n",
       "    .dataframe tbody tr th {\n",
       "        vertical-align: top;\n",
       "    }\n",
       "\n",
       "    .dataframe thead th {\n",
       "        text-align: right;\n",
       "    }\n",
       "</style>\n",
       "<table border=\"1\" class=\"dataframe\">\n",
       "  <thead>\n",
       "    <tr style=\"text-align: right;\">\n",
       "      <th></th>\n",
       "      <th>discente</th>\n",
       "      <th>ALGEBRA LINEAR</th>\n",
       "      <th>CÁLCULO I</th>\n",
       "      <th>CÁLCULO II</th>\n",
       "      <th>CÁLCULO III</th>\n",
       "      <th>PROBABILIDADE E ESTATÍSTICA</th>\n",
       "    </tr>\n",
       "  </thead>\n",
       "  <tbody>\n",
       "  </tbody>\n",
       "</table>\n",
       "</div>"
      ],
      "text/plain": [
       "Empty DataFrame\n",
       "Columns: [discente, ALGEBRA LINEAR, CÁLCULO I, CÁLCULO II, CÁLCULO III, PROBABILIDADE E ESTATÍSTICA]\n",
       "Index: []"
      ]
     },
     "metadata": {},
     "output_type": "display_data"
    },
    {
     "name": "stdout",
     "output_type": "stream",
     "text": [
      "5\n"
     ]
    },
    {
     "data": {
      "text/html": [
       "<div>\n",
       "<style scoped>\n",
       "    .dataframe tbody tr th:only-of-type {\n",
       "        vertical-align: middle;\n",
       "    }\n",
       "\n",
       "    .dataframe tbody tr th {\n",
       "        vertical-align: top;\n",
       "    }\n",
       "\n",
       "    .dataframe thead th {\n",
       "        text-align: right;\n",
       "    }\n",
       "</style>\n",
       "<table border=\"1\" class=\"dataframe\">\n",
       "  <thead>\n",
       "    <tr style=\"text-align: right;\">\n",
       "      <th></th>\n",
       "      <th>ALGEBRA LINEAR</th>\n",
       "      <th>CÁLCULO I</th>\n",
       "      <th>CÁLCULO II</th>\n",
       "      <th>CÁLCULO III</th>\n",
       "      <th>PROBABILIDADE E ESTATÍSTICA</th>\n",
       "      <th>discente</th>\n",
       "      <th>LINGUAGEM DE PROGRAMAÇÃO</th>\n",
       "    </tr>\n",
       "  </thead>\n",
       "  <tbody>\n",
       "  </tbody>\n",
       "</table>\n",
       "</div>"
      ],
      "text/plain": [
       "Empty DataFrame\n",
       "Columns: [ALGEBRA LINEAR, CÁLCULO I, CÁLCULO II, CÁLCULO III, PROBABILIDADE E ESTATÍSTICA, discente, LINGUAGEM DE PROGRAMAÇÃO]\n",
       "Index: []"
      ]
     },
     "metadata": {},
     "output_type": "display_data"
    },
    {
     "name": "stdout",
     "output_type": "stream",
     "text": [
      "6\n"
     ]
    },
    {
     "data": {
      "text/html": [
       "<div>\n",
       "<style scoped>\n",
       "    .dataframe tbody tr th:only-of-type {\n",
       "        vertical-align: middle;\n",
       "    }\n",
       "\n",
       "    .dataframe tbody tr th {\n",
       "        vertical-align: top;\n",
       "    }\n",
       "\n",
       "    .dataframe thead th {\n",
       "        text-align: right;\n",
       "    }\n",
       "</style>\n",
       "<table border=\"1\" class=\"dataframe\">\n",
       "  <thead>\n",
       "    <tr style=\"text-align: right;\">\n",
       "      <th></th>\n",
       "      <th>ALGEBRA LINEAR</th>\n",
       "      <th>CÁLCULO I</th>\n",
       "      <th>CÁLCULO II</th>\n",
       "      <th>CÁLCULO III</th>\n",
       "      <th>PROBABILIDADE E ESTATÍSTICA</th>\n",
       "      <th>LINGUAGEM DE PROGRAMAÇÃO</th>\n",
       "      <th>discente</th>\n",
       "      <th>COMPUTAÇÃO NUMÉRICA</th>\n",
       "    </tr>\n",
       "  </thead>\n",
       "  <tbody>\n",
       "  </tbody>\n",
       "</table>\n",
       "</div>"
      ],
      "text/plain": [
       "Empty DataFrame\n",
       "Columns: [ALGEBRA LINEAR, CÁLCULO I, CÁLCULO II, CÁLCULO III, PROBABILIDADE E ESTATÍSTICA, LINGUAGEM DE PROGRAMAÇÃO, discente, COMPUTAÇÃO NUMÉRICA]\n",
       "Index: []"
      ]
     },
     "metadata": {},
     "output_type": "display_data"
    },
    {
     "name": "stdout",
     "output_type": "stream",
     "text": [
      "7\n"
     ]
    },
    {
     "data": {
      "text/html": [
       "<div>\n",
       "<style scoped>\n",
       "    .dataframe tbody tr th:only-of-type {\n",
       "        vertical-align: middle;\n",
       "    }\n",
       "\n",
       "    .dataframe tbody tr th {\n",
       "        vertical-align: top;\n",
       "    }\n",
       "\n",
       "    .dataframe thead th {\n",
       "        text-align: right;\n",
       "    }\n",
       "</style>\n",
       "<table border=\"1\" class=\"dataframe\">\n",
       "  <thead>\n",
       "    <tr style=\"text-align: right;\">\n",
       "      <th></th>\n",
       "      <th>ALGEBRA LINEAR</th>\n",
       "      <th>CÁLCULO I</th>\n",
       "      <th>CÁLCULO II</th>\n",
       "      <th>CÁLCULO III</th>\n",
       "      <th>PROBABILIDADE E ESTATÍSTICA</th>\n",
       "      <th>LINGUAGEM DE PROGRAMAÇÃO</th>\n",
       "      <th>COMPUTAÇÃO NUMÉRICA</th>\n",
       "      <th>discente</th>\n",
       "      <th>MECÂNICA DOS SÓLIDOS</th>\n",
       "    </tr>\n",
       "  </thead>\n",
       "  <tbody>\n",
       "  </tbody>\n",
       "</table>\n",
       "</div>"
      ],
      "text/plain": [
       "Empty DataFrame\n",
       "Columns: [ALGEBRA LINEAR, CÁLCULO I, CÁLCULO II, CÁLCULO III, PROBABILIDADE E ESTATÍSTICA, LINGUAGEM DE PROGRAMAÇÃO, COMPUTAÇÃO NUMÉRICA, discente, MECÂNICA DOS SÓLIDOS]\n",
       "Index: []"
      ]
     },
     "metadata": {},
     "output_type": "display_data"
    },
    {
     "name": "stdout",
     "output_type": "stream",
     "text": [
      "8\n"
     ]
    },
    {
     "data": {
      "text/html": [
       "<div>\n",
       "<style scoped>\n",
       "    .dataframe tbody tr th:only-of-type {\n",
       "        vertical-align: middle;\n",
       "    }\n",
       "\n",
       "    .dataframe tbody tr th {\n",
       "        vertical-align: top;\n",
       "    }\n",
       "\n",
       "    .dataframe thead th {\n",
       "        text-align: right;\n",
       "    }\n",
       "</style>\n",
       "<table border=\"1\" class=\"dataframe\">\n",
       "  <thead>\n",
       "    <tr style=\"text-align: right;\">\n",
       "      <th></th>\n",
       "      <th>ALGEBRA LINEAR</th>\n",
       "      <th>CÁLCULO I</th>\n",
       "      <th>CÁLCULO II</th>\n",
       "      <th>CÁLCULO III</th>\n",
       "      <th>PROBABILIDADE E ESTATÍSTICA</th>\n",
       "      <th>LINGUAGEM DE PROGRAMAÇÃO</th>\n",
       "      <th>COMPUTAÇÃO NUMÉRICA</th>\n",
       "      <th>MECÂNICA DOS SÓLIDOS</th>\n",
       "      <th>discente</th>\n",
       "      <th>MECÂNICA DOS FLUIDOS</th>\n",
       "    </tr>\n",
       "  </thead>\n",
       "  <tbody>\n",
       "  </tbody>\n",
       "</table>\n",
       "</div>"
      ],
      "text/plain": [
       "Empty DataFrame\n",
       "Columns: [ALGEBRA LINEAR, CÁLCULO I, CÁLCULO II, CÁLCULO III, PROBABILIDADE E ESTATÍSTICA, LINGUAGEM DE PROGRAMAÇÃO, COMPUTAÇÃO NUMÉRICA, MECÂNICA DOS SÓLIDOS, discente, MECÂNICA DOS FLUIDOS]\n",
       "Index: []"
      ]
     },
     "metadata": {},
     "output_type": "display_data"
    },
    {
     "name": "stdout",
     "output_type": "stream",
     "text": [
      "9\n"
     ]
    },
    {
     "data": {
      "text/html": [
       "<div>\n",
       "<style scoped>\n",
       "    .dataframe tbody tr th:only-of-type {\n",
       "        vertical-align: middle;\n",
       "    }\n",
       "\n",
       "    .dataframe tbody tr th {\n",
       "        vertical-align: top;\n",
       "    }\n",
       "\n",
       "    .dataframe thead th {\n",
       "        text-align: right;\n",
       "    }\n",
       "</style>\n",
       "<table border=\"1\" class=\"dataframe\">\n",
       "  <thead>\n",
       "    <tr style=\"text-align: right;\">\n",
       "      <th></th>\n",
       "      <th>ALGEBRA LINEAR</th>\n",
       "      <th>CÁLCULO I</th>\n",
       "      <th>CÁLCULO II</th>\n",
       "      <th>CÁLCULO III</th>\n",
       "      <th>PROBABILIDADE E ESTATÍSTICA</th>\n",
       "      <th>LINGUAGEM DE PROGRAMAÇÃO</th>\n",
       "      <th>COMPUTAÇÃO NUMÉRICA</th>\n",
       "      <th>MECÂNICA DOS SÓLIDOS</th>\n",
       "      <th>MECÂNICA DOS FLUIDOS</th>\n",
       "      <th>discente</th>\n",
       "      <th>CIÊNCIA E TECNOLOGIA DOS MATERIAIS</th>\n",
       "    </tr>\n",
       "  </thead>\n",
       "  <tbody>\n",
       "  </tbody>\n",
       "</table>\n",
       "</div>"
      ],
      "text/plain": [
       "Empty DataFrame\n",
       "Columns: [ALGEBRA LINEAR, CÁLCULO I, CÁLCULO II, CÁLCULO III, PROBABILIDADE E ESTATÍSTICA, LINGUAGEM DE PROGRAMAÇÃO, COMPUTAÇÃO NUMÉRICA, MECÂNICA DOS SÓLIDOS, MECÂNICA DOS FLUIDOS, discente, CIÊNCIA E TECNOLOGIA DOS MATERIAIS]\n",
       "Index: []"
      ]
     },
     "metadata": {},
     "output_type": "display_data"
    },
    {
     "name": "stdout",
     "output_type": "stream",
     "text": [
      "10\n"
     ]
    },
    {
     "data": {
      "text/html": [
       "<div>\n",
       "<style scoped>\n",
       "    .dataframe tbody tr th:only-of-type {\n",
       "        vertical-align: middle;\n",
       "    }\n",
       "\n",
       "    .dataframe tbody tr th {\n",
       "        vertical-align: top;\n",
       "    }\n",
       "\n",
       "    .dataframe thead th {\n",
       "        text-align: right;\n",
       "    }\n",
       "</style>\n",
       "<table border=\"1\" class=\"dataframe\">\n",
       "  <thead>\n",
       "    <tr style=\"text-align: right;\">\n",
       "      <th></th>\n",
       "      <th>ALGEBRA LINEAR</th>\n",
       "      <th>CÁLCULO I</th>\n",
       "      <th>CÁLCULO II</th>\n",
       "      <th>CÁLCULO III</th>\n",
       "      <th>PROBABILIDADE E ESTATÍSTICA</th>\n",
       "      <th>LINGUAGEM DE PROGRAMAÇÃO</th>\n",
       "      <th>COMPUTAÇÃO NUMÉRICA</th>\n",
       "      <th>MECÂNICA DOS SÓLIDOS</th>\n",
       "      <th>MECÂNICA DOS FLUIDOS</th>\n",
       "      <th>CIÊNCIA E TECNOLOGIA DOS MATERIAIS</th>\n",
       "      <th>discente</th>\n",
       "      <th>VETORES E GEOMETRIA ANALÍTICA</th>\n",
       "    </tr>\n",
       "  </thead>\n",
       "  <tbody>\n",
       "  </tbody>\n",
       "</table>\n",
       "</div>"
      ],
      "text/plain": [
       "Empty DataFrame\n",
       "Columns: [ALGEBRA LINEAR, CÁLCULO I, CÁLCULO II, CÁLCULO III, PROBABILIDADE E ESTATÍSTICA, LINGUAGEM DE PROGRAMAÇÃO, COMPUTAÇÃO NUMÉRICA, MECÂNICA DOS SÓLIDOS, MECÂNICA DOS FLUIDOS, CIÊNCIA E TECNOLOGIA DOS MATERIAIS, discente, VETORES E GEOMETRIA ANALÍTICA]\n",
       "Index: []"
      ]
     },
     "metadata": {},
     "output_type": "display_data"
    },
    {
     "name": "stdout",
     "output_type": "stream",
     "text": [
      "11\n"
     ]
    },
    {
     "data": {
      "text/html": [
       "<div>\n",
       "<style scoped>\n",
       "    .dataframe tbody tr th:only-of-type {\n",
       "        vertical-align: middle;\n",
       "    }\n",
       "\n",
       "    .dataframe tbody tr th {\n",
       "        vertical-align: top;\n",
       "    }\n",
       "\n",
       "    .dataframe thead th {\n",
       "        text-align: right;\n",
       "    }\n",
       "</style>\n",
       "<table border=\"1\" class=\"dataframe\">\n",
       "  <thead>\n",
       "    <tr style=\"text-align: right;\">\n",
       "      <th></th>\n",
       "      <th>ALGEBRA LINEAR</th>\n",
       "      <th>CÁLCULO I</th>\n",
       "      <th>CÁLCULO II</th>\n",
       "      <th>CÁLCULO III</th>\n",
       "      <th>PROBABILIDADE E ESTATÍSTICA</th>\n",
       "      <th>LINGUAGEM DE PROGRAMAÇÃO</th>\n",
       "      <th>COMPUTAÇÃO NUMÉRICA</th>\n",
       "      <th>MECÂNICA DOS SÓLIDOS</th>\n",
       "      <th>MECÂNICA DOS FLUIDOS</th>\n",
       "      <th>CIÊNCIA E TECNOLOGIA DOS MATERIAIS</th>\n",
       "      <th>VETORES E GEOMETRIA ANALÍTICA</th>\n",
       "      <th>discente</th>\n",
       "      <th>PRÉ-CÁLCULO</th>\n",
       "    </tr>\n",
       "  </thead>\n",
       "  <tbody>\n",
       "  </tbody>\n",
       "</table>\n",
       "</div>"
      ],
      "text/plain": [
       "Empty DataFrame\n",
       "Columns: [ALGEBRA LINEAR, CÁLCULO I, CÁLCULO II, CÁLCULO III, PROBABILIDADE E ESTATÍSTICA, LINGUAGEM DE PROGRAMAÇÃO, COMPUTAÇÃO NUMÉRICA, MECÂNICA DOS SÓLIDOS, MECÂNICA DOS FLUIDOS, CIÊNCIA E TECNOLOGIA DOS MATERIAIS, VETORES E GEOMETRIA ANALÍTICA, discente, PRÉ-CÁLCULO]\n",
       "Index: []"
      ]
     },
     "metadata": {},
     "output_type": "display_data"
    },
    {
     "name": "stdout",
     "output_type": "stream",
     "text": [
      "12\n"
     ]
    },
    {
     "data": {
      "text/html": [
       "<div>\n",
       "<style scoped>\n",
       "    .dataframe tbody tr th:only-of-type {\n",
       "        vertical-align: middle;\n",
       "    }\n",
       "\n",
       "    .dataframe tbody tr th {\n",
       "        vertical-align: top;\n",
       "    }\n",
       "\n",
       "    .dataframe thead th {\n",
       "        text-align: right;\n",
       "    }\n",
       "</style>\n",
       "<table border=\"1\" class=\"dataframe\">\n",
       "  <thead>\n",
       "    <tr style=\"text-align: right;\">\n",
       "      <th></th>\n",
       "      <th>ALGEBRA LINEAR</th>\n",
       "      <th>CÁLCULO I</th>\n",
       "      <th>CÁLCULO II</th>\n",
       "      <th>CÁLCULO III</th>\n",
       "      <th>PROBABILIDADE E ESTATÍSTICA</th>\n",
       "      <th>LINGUAGEM DE PROGRAMAÇÃO</th>\n",
       "      <th>COMPUTAÇÃO NUMÉRICA</th>\n",
       "      <th>MECÂNICA DOS SÓLIDOS</th>\n",
       "      <th>MECÂNICA DOS FLUIDOS</th>\n",
       "      <th>CIÊNCIA E TECNOLOGIA DOS MATERIAIS</th>\n",
       "      <th>VETORES E GEOMETRIA ANALÍTICA</th>\n",
       "      <th>PRÉ-CÁLCULO</th>\n",
       "      <th>discente</th>\n",
       "      <th>INTRODUÇÃO À FÍSICA CLÁSSICA I</th>\n",
       "    </tr>\n",
       "  </thead>\n",
       "  <tbody>\n",
       "  </tbody>\n",
       "</table>\n",
       "</div>"
      ],
      "text/plain": [
       "Empty DataFrame\n",
       "Columns: [ALGEBRA LINEAR, CÁLCULO I, CÁLCULO II, CÁLCULO III, PROBABILIDADE E ESTATÍSTICA, LINGUAGEM DE PROGRAMAÇÃO, COMPUTAÇÃO NUMÉRICA, MECÂNICA DOS SÓLIDOS, MECÂNICA DOS FLUIDOS, CIÊNCIA E TECNOLOGIA DOS MATERIAIS, VETORES E GEOMETRIA ANALÍTICA, PRÉ-CÁLCULO, discente, INTRODUÇÃO À FÍSICA CLÁSSICA I]\n",
       "Index: []"
      ]
     },
     "metadata": {},
     "output_type": "display_data"
    },
    {
     "name": "stdout",
     "output_type": "stream",
     "text": [
      "13\n"
     ]
    },
    {
     "data": {
      "text/html": [
       "<div>\n",
       "<style scoped>\n",
       "    .dataframe tbody tr th:only-of-type {\n",
       "        vertical-align: middle;\n",
       "    }\n",
       "\n",
       "    .dataframe tbody tr th {\n",
       "        vertical-align: top;\n",
       "    }\n",
       "\n",
       "    .dataframe thead th {\n",
       "        text-align: right;\n",
       "    }\n",
       "</style>\n",
       "<table border=\"1\" class=\"dataframe\">\n",
       "  <thead>\n",
       "    <tr style=\"text-align: right;\">\n",
       "      <th></th>\n",
       "      <th>ALGEBRA LINEAR</th>\n",
       "      <th>CÁLCULO I</th>\n",
       "      <th>CÁLCULO II</th>\n",
       "      <th>CÁLCULO III</th>\n",
       "      <th>PROBABILIDADE E ESTATÍSTICA</th>\n",
       "      <th>LINGUAGEM DE PROGRAMAÇÃO</th>\n",
       "      <th>COMPUTAÇÃO NUMÉRICA</th>\n",
       "      <th>MECÂNICA DOS SÓLIDOS</th>\n",
       "      <th>MECÂNICA DOS FLUIDOS</th>\n",
       "      <th>CIÊNCIA E TECNOLOGIA DOS MATERIAIS</th>\n",
       "      <th>VETORES E GEOMETRIA ANALÍTICA</th>\n",
       "      <th>PRÉ-CÁLCULO</th>\n",
       "      <th>INTRODUÇÃO À FÍSICA CLÁSSICA I</th>\n",
       "      <th>discente</th>\n",
       "      <th>INTRODUÇÃO À FÍSICA CLÁSSICA II</th>\n",
       "    </tr>\n",
       "  </thead>\n",
       "  <tbody>\n",
       "  </tbody>\n",
       "</table>\n",
       "</div>"
      ],
      "text/plain": [
       "Empty DataFrame\n",
       "Columns: [ALGEBRA LINEAR, CÁLCULO I, CÁLCULO II, CÁLCULO III, PROBABILIDADE E ESTATÍSTICA, LINGUAGEM DE PROGRAMAÇÃO, COMPUTAÇÃO NUMÉRICA, MECÂNICA DOS SÓLIDOS, MECÂNICA DOS FLUIDOS, CIÊNCIA E TECNOLOGIA DOS MATERIAIS, VETORES E GEOMETRIA ANALÍTICA, PRÉ-CÁLCULO, INTRODUÇÃO À FÍSICA CLÁSSICA I, discente, INTRODUÇÃO À FÍSICA CLÁSSICA II]\n",
       "Index: []"
      ]
     },
     "metadata": {},
     "output_type": "display_data"
    },
    {
     "name": "stdout",
     "output_type": "stream",
     "text": [
      "14\n"
     ]
    },
    {
     "data": {
      "text/html": [
       "<div>\n",
       "<style scoped>\n",
       "    .dataframe tbody tr th:only-of-type {\n",
       "        vertical-align: middle;\n",
       "    }\n",
       "\n",
       "    .dataframe tbody tr th {\n",
       "        vertical-align: top;\n",
       "    }\n",
       "\n",
       "    .dataframe thead th {\n",
       "        text-align: right;\n",
       "    }\n",
       "</style>\n",
       "<table border=\"1\" class=\"dataframe\">\n",
       "  <thead>\n",
       "    <tr style=\"text-align: right;\">\n",
       "      <th></th>\n",
       "      <th>ALGEBRA LINEAR</th>\n",
       "      <th>CÁLCULO I</th>\n",
       "      <th>CÁLCULO II</th>\n",
       "      <th>CÁLCULO III</th>\n",
       "      <th>PROBABILIDADE E ESTATÍSTICA</th>\n",
       "      <th>LINGUAGEM DE PROGRAMAÇÃO</th>\n",
       "      <th>COMPUTAÇÃO NUMÉRICA</th>\n",
       "      <th>MECÂNICA DOS SÓLIDOS</th>\n",
       "      <th>MECÂNICA DOS FLUIDOS</th>\n",
       "      <th>CIÊNCIA E TECNOLOGIA DOS MATERIAIS</th>\n",
       "      <th>VETORES E GEOMETRIA ANALÍTICA</th>\n",
       "      <th>PRÉ-CÁLCULO</th>\n",
       "      <th>INTRODUÇÃO À FÍSICA CLÁSSICA I</th>\n",
       "      <th>INTRODUÇÃO À FÍSICA CLÁSSICA II</th>\n",
       "      <th>discente</th>\n",
       "      <th>INTRODUÇÃO À FÍSICA CLÁSSICA III</th>\n",
       "    </tr>\n",
       "  </thead>\n",
       "  <tbody>\n",
       "  </tbody>\n",
       "</table>\n",
       "</div>"
      ],
      "text/plain": [
       "Empty DataFrame\n",
       "Columns: [ALGEBRA LINEAR, CÁLCULO I, CÁLCULO II, CÁLCULO III, PROBABILIDADE E ESTATÍSTICA, LINGUAGEM DE PROGRAMAÇÃO, COMPUTAÇÃO NUMÉRICA, MECÂNICA DOS SÓLIDOS, MECÂNICA DOS FLUIDOS, CIÊNCIA E TECNOLOGIA DOS MATERIAIS, VETORES E GEOMETRIA ANALÍTICA, PRÉ-CÁLCULO, INTRODUÇÃO À FÍSICA CLÁSSICA I, INTRODUÇÃO À FÍSICA CLÁSSICA II, discente, INTRODUÇÃO À FÍSICA CLÁSSICA III]\n",
       "Index: []"
      ]
     },
     "metadata": {},
     "output_type": "display_data"
    },
    {
     "name": "stdout",
     "output_type": "stream",
     "text": [
      "15\n"
     ]
    },
    {
     "data": {
      "text/html": [
       "<div>\n",
       "<style scoped>\n",
       "    .dataframe tbody tr th:only-of-type {\n",
       "        vertical-align: middle;\n",
       "    }\n",
       "\n",
       "    .dataframe tbody tr th {\n",
       "        vertical-align: top;\n",
       "    }\n",
       "\n",
       "    .dataframe thead th {\n",
       "        text-align: right;\n",
       "    }\n",
       "</style>\n",
       "<table border=\"1\" class=\"dataframe\">\n",
       "  <thead>\n",
       "    <tr style=\"text-align: right;\">\n",
       "      <th></th>\n",
       "      <th>ALGEBRA LINEAR</th>\n",
       "      <th>CÁLCULO I</th>\n",
       "      <th>CÁLCULO II</th>\n",
       "      <th>CÁLCULO III</th>\n",
       "      <th>PROBABILIDADE E ESTATÍSTICA</th>\n",
       "      <th>LINGUAGEM DE PROGRAMAÇÃO</th>\n",
       "      <th>COMPUTAÇÃO NUMÉRICA</th>\n",
       "      <th>MECÂNICA DOS SÓLIDOS</th>\n",
       "      <th>MECÂNICA DOS FLUIDOS</th>\n",
       "      <th>CIÊNCIA E TECNOLOGIA DOS MATERIAIS</th>\n",
       "      <th>VETORES E GEOMETRIA ANALÍTICA</th>\n",
       "      <th>PRÉ-CÁLCULO</th>\n",
       "      <th>INTRODUÇÃO À FÍSICA CLÁSSICA I</th>\n",
       "      <th>INTRODUÇÃO À FÍSICA CLÁSSICA II</th>\n",
       "      <th>INTRODUÇÃO À FÍSICA CLÁSSICA III</th>\n",
       "      <th>discente</th>\n",
       "      <th>LÓGICA DE PROGRAMAÇÃO</th>\n",
       "    </tr>\n",
       "  </thead>\n",
       "  <tbody>\n",
       "  </tbody>\n",
       "</table>\n",
       "</div>"
      ],
      "text/plain": [
       "Empty DataFrame\n",
       "Columns: [ALGEBRA LINEAR, CÁLCULO I, CÁLCULO II, CÁLCULO III, PROBABILIDADE E ESTATÍSTICA, LINGUAGEM DE PROGRAMAÇÃO, COMPUTAÇÃO NUMÉRICA, MECÂNICA DOS SÓLIDOS, MECÂNICA DOS FLUIDOS, CIÊNCIA E TECNOLOGIA DOS MATERIAIS, VETORES E GEOMETRIA ANALÍTICA, PRÉ-CÁLCULO, INTRODUÇÃO À FÍSICA CLÁSSICA I, INTRODUÇÃO À FÍSICA CLÁSSICA II, INTRODUÇÃO À FÍSICA CLÁSSICA III, discente, LÓGICA DE PROGRAMAÇÃO]\n",
       "Index: []"
      ]
     },
     "metadata": {},
     "output_type": "display_data"
    },
    {
     "data": {
      "text/html": [
       "<div>\n",
       "<style scoped>\n",
       "    .dataframe tbody tr th:only-of-type {\n",
       "        vertical-align: middle;\n",
       "    }\n",
       "\n",
       "    .dataframe tbody tr th {\n",
       "        vertical-align: top;\n",
       "    }\n",
       "\n",
       "    .dataframe thead th {\n",
       "        text-align: right;\n",
       "    }\n",
       "</style>\n",
       "<table border=\"1\" class=\"dataframe\">\n",
       "  <thead>\n",
       "    <tr style=\"text-align: right;\">\n",
       "      <th></th>\n",
       "      <th>ALGEBRA LINEAR</th>\n",
       "      <th>CÁLCULO I</th>\n",
       "      <th>CÁLCULO II</th>\n",
       "      <th>CÁLCULO III</th>\n",
       "      <th>PROBABILIDADE E ESTATÍSTICA</th>\n",
       "      <th>LINGUAGEM DE PROGRAMAÇÃO</th>\n",
       "      <th>COMPUTAÇÃO NUMÉRICA</th>\n",
       "      <th>MECÂNICA DOS SÓLIDOS</th>\n",
       "      <th>MECÂNICA DOS FLUIDOS</th>\n",
       "      <th>CIÊNCIA E TECNOLOGIA DOS MATERIAIS</th>\n",
       "      <th>VETORES E GEOMETRIA ANALÍTICA</th>\n",
       "      <th>PRÉ-CÁLCULO</th>\n",
       "      <th>INTRODUÇÃO À FÍSICA CLÁSSICA I</th>\n",
       "      <th>INTRODUÇÃO À FÍSICA CLÁSSICA II</th>\n",
       "      <th>INTRODUÇÃO À FÍSICA CLÁSSICA III</th>\n",
       "      <th>discente</th>\n",
       "      <th>LÓGICA DE PROGRAMAÇÃO</th>\n",
       "    </tr>\n",
       "  </thead>\n",
       "  <tbody>\n",
       "  </tbody>\n",
       "</table>\n",
       "</div>"
      ],
      "text/plain": [
       "Empty DataFrame\n",
       "Columns: [ALGEBRA LINEAR, CÁLCULO I, CÁLCULO II, CÁLCULO III, PROBABILIDADE E ESTATÍSTICA, LINGUAGEM DE PROGRAMAÇÃO, COMPUTAÇÃO NUMÉRICA, MECÂNICA DOS SÓLIDOS, MECÂNICA DOS FLUIDOS, CIÊNCIA E TECNOLOGIA DOS MATERIAIS, VETORES E GEOMETRIA ANALÍTICA, PRÉ-CÁLCULO, INTRODUÇÃO À FÍSICA CLÁSSICA I, INTRODUÇÃO À FÍSICA CLÁSSICA II, INTRODUÇÃO À FÍSICA CLÁSSICA III, discente, LÓGICA DE PROGRAMAÇÃO]\n",
       "Index: []"
      ]
     },
     "execution_count": 149,
     "metadata": {},
     "output_type": "execute_result"
    }
   ],
   "source": [
    "df_correr = pd.DataFrame()\n",
    "df_correr['discente'] = discentes\n",
    "\n",
    "disciplinas = ['ALGEBRA LINEAR','CÁLCULO I','CÁLCULO II','CÁLCULO III','PROBABILIDADE E ESTATÍSTICA',\n",
    "               'LINGUAGEM DE PROGRAMAÇÃO','COMPUTAÇÃO NUMÉRICA','MECÂNICA DOS SÓLIDOS','MECÂNICA DOS FLUIDOS',\n",
    "               'CIÊNCIA E TECNOLOGIA DOS MATERIAIS','VETORES E GEOMETRIA ANALÍTICA','PRÉ-CÁLCULO',\n",
    "               'INTRODUÇÃO À FÍSICA CLÁSSICA I','INTRODUÇÃO À FÍSICA CLÁSSICA II','INTRODUÇÃO À FÍSICA CLÁSSICA III','LÓGICA DE PROGRAMAÇÃO',\n",
    "               'QUÍMICA GERAL']\n",
    "\n",
    "dataFrames = [df_al,df_calc1,df_calc2,df_calc3,df_pe,df_lp,df_cn,df_ms,df_mf,df_ctm,df_vga,df_pc,df_f1,df_f2,df_f3,df_lop,df_qg]\n",
    "\n",
    "# dataFrames,disciplinas\n",
    "for i in range(0, 16):\n",
    "    print(i)\n",
    "    df_correr = pd.merge(df_correr, dataFrames[i], on='discente')\n",
    "    df_correr = df_correr.rename(columns={\"media_final\": disciplinas[i]})\n",
    "    display(df_correr.head())\n",
    "    \n",
    "df_correr.head()"
   ]
  }
 ],
 "metadata": {
  "kernelspec": {
   "display_name": "Python 3",
   "language": "python",
   "name": "python3"
  },
  "language_info": {
   "codemirror_mode": {
    "name": "ipython",
    "version": 3
   },
   "file_extension": ".py",
   "mimetype": "text/x-python",
   "name": "python",
   "nbconvert_exporter": "python",
   "pygments_lexer": "ipython3",
   "version": "3.6.4"
  }
 },
 "nbformat": 4,
 "nbformat_minor": 2
}
