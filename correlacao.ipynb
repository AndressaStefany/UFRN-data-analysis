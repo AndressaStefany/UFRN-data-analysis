{
 "cells": [
  {
   "cell_type": "code",
   "execution_count": 1,
   "metadata": {},
   "outputs": [],
   "source": [
    "import pandas as pd\n",
    "import numpy as np\n",
    "import matplotlib.pyplot as plt\n",
    "import matplotlib as mpl\n",
    "import seaborn as sns\n",
    "from collections import OrderedDict"
   ]
  },
  {
   "cell_type": "markdown",
   "metadata": {},
   "source": [
    "### Importando tabelas"
   ]
  },
  {
   "cell_type": "code",
   "execution_count": 21,
   "metadata": {},
   "outputs": [
    {
     "name": "stdout",
     "output_type": "stream",
     "text": [
      "20101\n",
      "20102\n",
      "20111\n",
      "20112\n",
      "20121\n",
      "20122\n",
      "20131\n",
      "20132\n",
      "20141\n",
      "20142\n",
      "20151\n",
      "20152\n",
      "20161\n",
      "20162\n",
      "20171\n",
      "20172\n"
     ]
    },
    {
     "data": {
      "text/plain": [
       "17    10320810\n",
       "Name: id_curso, dtype: int64"
      ]
     },
     "execution_count": 21,
     "metadata": {},
     "output_type": "execute_result"
    }
   ],
   "source": [
    "df_matriculas = pd.DataFrame()\n",
    "\n",
    "# importando notas de 2010 a 2017\n",
    "for i in range(10,18):\n",
    "    for j in range(1,3):\n",
    "        print('20'+str(i)+str(j))\n",
    "        df_matricula = pd.read_csv('data_science/matriculas_new/matricula-componente-20'+str(i)+str(j)+'.csv',sep=';')\n",
    "        #concatena as tabelas de 2010 a 2017\n",
    "        df_matriculas = pd.concat([df_matriculas, df_matricula])\n",
    "\n",
    "# obtendo o id do curso de ciências e tecnologia\n",
    "df_cursos = pd.read_csv('data_science/cursos-graduacao.csv', sep=';')\n",
    "id_cet = df_cursos[df_cursos.nome == 'CIÊNCIAS E TECNOLOGIA'].id_curso\n",
    "id_cet"
   ]
  },
  {
   "cell_type": "code",
   "execution_count": 23,
   "metadata": {},
   "outputs": [
    {
     "data": {
      "text/plain": [
       "10320810.0    910908\n",
       "Name: id_curso, dtype: int64"
      ]
     },
     "execution_count": 23,
     "metadata": {},
     "output_type": "execute_result"
    }
   ],
   "source": [
    "# filtra tabela pelo id_curso\n",
    "df_matriculas = df_matriculas[df_matriculas.id_curso == float(id_cet)]\n",
    "df_matriculas.id_curso.value_counts()"
   ]
  },
  {
   "cell_type": "code",
   "execution_count": 61,
   "metadata": {},
   "outputs": [
    {
     "name": "stderr",
     "output_type": "stream",
     "text": [
      "/home/andressa/anaconda3/lib/python3.6/site-packages/IPython/core/interactiveshell.py:2728: DtypeWarning: Columns (24) have mixed types. Specify dtype option on import or set low_memory=False.\n",
      "  interactivity=interactivity, compiler=compiler, result=result)\n"
     ]
    },
    {
     "data": {
      "text/plain": [
       "2014    22531\n",
       "2015    22467\n",
       "2017    22309\n",
       "2016    21946\n",
       "2013    19799\n",
       "2012    17161\n",
       "2011    15786\n",
       "2010    15092\n",
       "Name: ano, dtype: int64"
      ]
     },
     "execution_count": 61,
     "metadata": {},
     "output_type": "execute_result"
    }
   ],
   "source": [
    "df_turmas = pd.read_csv('data_science/turmas-2010-2017-ok.csv')\n",
    "#df_turmasFilt = df_turmas[(df_turmas['ano'] >= 2014) & (df_turmas['nivel_ensino'] == 'GRADUAÇÃO')]\n",
    "df_turmasFilt = df_turmas[df_turmas['nivel_ensino'] == 'GRADUAÇÃO']\n",
    "df_turmasFilt.ano.value_counts()"
   ]
  },
  {
   "cell_type": "code",
   "execution_count": 62,
   "metadata": {},
   "outputs": [],
   "source": [
    "df_componentes = pd.read_csv('data_science/componentes-curriculares-presenciais-ok.csv')"
   ]
  },
  {
   "cell_type": "code",
   "execution_count": 63,
   "metadata": {},
   "outputs": [],
   "source": [
    "# print(df_turmasFilt.columns)\n",
    "# print(df_componentes.columns)"
   ]
  },
  {
   "cell_type": "markdown",
   "metadata": {},
   "source": [
    "### Merges"
   ]
  },
  {
   "cell_type": "code",
   "execution_count": 64,
   "metadata": {},
   "outputs": [],
   "source": [
    "df_turmasNome = pd.merge(df_turmasFilt, df_componentes, left_on='id_componente_curricular', right_on='id_componente')"
   ]
  },
  {
   "cell_type": "code",
   "execution_count": 66,
   "metadata": {},
   "outputs": [],
   "source": [
    "colunas = ['id_turma', 'codigo', 'nome', 'pre_requisito', 'ano', 'periodo', 'unidade_responsavel']\n",
    "df_turmasNome = df_turmasNome[colunas]\n",
    "\n",
    "df_auxAll = pd.merge(df_matriculas, df_turmasNome, on='id_turma')\n",
    "colunas2 = ['descricao', 'discente', 'id_turma', 'media_final', 'codigo', 'nome', 'ano', 'periodo','unidade_responsavel', 'id_curso']\n",
    "df_auxAll = df_auxAll[colunas2].drop_duplicates().dropna()"
   ]
  },
  {
   "cell_type": "code",
   "execution_count": 76,
   "metadata": {},
   "outputs": [],
   "source": [
    "# conjunto de alunos que não serão analisados\n",
    "series_Antes2014 = df_auxAll[df_auxAll['ano']<2015].discente\n",
    "# selecionando apenas alunos que entraram a partir de 2014\n",
    "df_depois2014 = df_auxAll[~df_auxAll['discente'].isin(series_Antes2014)]\n",
    "df_depois2014 = df_depois2014[df_depois2014['unidade_responsavel'] == 'ESCOLA DE CIÊNCIAS E TECNOLOGIA']"
   ]
  },
  {
   "cell_type": "code",
   "execution_count": 77,
   "metadata": {},
   "outputs": [
    {
     "data": {
      "text/plain": [
       "Series([], Name: discente, dtype: object)"
      ]
     },
     "execution_count": 77,
     "metadata": {},
     "output_type": "execute_result"
    }
   ],
   "source": [
    "# verificando\n",
    "series_Antes2014[series_Antes2014.isin(df_depois2014.discente)]"
   ]
  },
  {
   "cell_type": "code",
   "execution_count": 108,
   "metadata": {},
   "outputs": [],
   "source": [
    "colunas3 = ['codigo', 'nome', 'ano', 'periodo']\n",
    "df_exportacao = df_depois2014[colunas3].drop_duplicates()\n",
    "df_exportacao.to_csv('df_depois2014.csv')"
   ]
  },
  {
   "cell_type": "code",
   "execution_count": 109,
   "metadata": {},
   "outputs": [],
   "source": [
    "disciplinas = ['CÁLCULO I','CÁLCULO II','CÁLCULO III','VETORES E GEOMETRIA ANALÍTICA','PRÉ-CÁLCULO','PROBABILIDADE E ESTATÍSTICA',\n",
    "               'INTRODUÇÃO À FÍSICA CLÁSSICA I','INTRODUÇÃO À FÍSICA CLÁSSICA II','INTRODUÇÃO À FÍSICA CLÁSSICA III','LÓGICA DE PROGRAMAÇÃO',\n",
    "               'LINGUAGEM DE PROGRAMAÇÃO','COMPUTAÇÃO NUMÉRICA','QUÍMICA GERAL','ÁLGEBRA LINEAR','MECÂNICA DOS SÓLIDOS','MECÂNICA DOS FLUIDOS',\n",
    "               'CIÊNCIA E TECNOLOGIA DOS MATERIAIS']"
   ]
  },
  {
   "cell_type": "code",
   "execution_count": 110,
   "metadata": {},
   "outputs": [],
   "source": [
    "df_auxTurmas = df_depois2014[df_depois2014['nome'].isin(disciplinas)]"
   ]
  },
  {
   "cell_type": "markdown",
   "metadata": {},
   "source": [
    "### Correlação"
   ]
  },
  {
   "cell_type": "code",
   "execution_count": 116,
   "metadata": {},
   "outputs": [
    {
     "data": {
      "text/plain": [
       "Index(['descricao', 'discente', 'id_turma', 'media_final', 'codigo', 'nome',\n",
       "       'ano', 'periodo', 'unidade_responsavel', 'id_curso'],\n",
       "      dtype='object')"
      ]
     },
     "execution_count": 116,
     "metadata": {},
     "output_type": "execute_result"
    }
   ],
   "source": [
    "# apenas os aprovados\n",
    "df_auxAprovados = df_auxTurmas[df_auxTurmas['descricao'].str.contains('APROVADO')]\n",
    "df_auxAprovados.columns"
   ]
  },
  {
   "cell_type": "code",
   "execution_count": 117,
   "metadata": {},
   "outputs": [
    {
     "data": {
      "text/plain": [
       "APROVADO POR NOTA    11473\n",
       "APROVADO              6360\n",
       "Name: descricao, dtype: int64"
      ]
     },
     "execution_count": 117,
     "metadata": {},
     "output_type": "execute_result"
    }
   ],
   "source": [
    "df_auxAprovados.descricao.value_counts()"
   ]
  },
  {
   "cell_type": "code",
   "execution_count": 118,
   "metadata": {},
   "outputs": [],
   "source": [
    "discentes= df_auxAprovados.discente.unique()"
   ]
  },
  {
   "cell_type": "code",
   "execution_count": 119,
   "metadata": {},
   "outputs": [
    {
     "data": {
      "text/plain": [
       "Index(['descricao', 'discente', 'id_turma', 'media_final', 'codigo', 'nome',\n",
       "       'ano', 'periodo', 'unidade_responsavel', 'id_curso'],\n",
       "      dtype='object')"
      ]
     },
     "execution_count": 119,
     "metadata": {},
     "output_type": "execute_result"
    }
   ],
   "source": [
    "df_auxAprovados.columns"
   ]
  },
  {
   "cell_type": "code",
   "execution_count": 120,
   "metadata": {},
   "outputs": [
    {
     "data": {
      "text/plain": [
       "APROVADO POR NOTA    11473\n",
       "APROVADO              6360\n",
       "Name: descricao, dtype: int64"
      ]
     },
     "execution_count": 120,
     "metadata": {},
     "output_type": "execute_result"
    }
   ],
   "source": [
    "df_auxAprovados.descricao.value_counts()"
   ]
  },
  {
   "cell_type": "code",
   "execution_count": 121,
   "metadata": {},
   "outputs": [
    {
     "name": "stdout",
     "output_type": "stream",
     "text": [
      "(1499, 2)\n",
      "(964, 2)\n",
      "(675, 2)\n",
      "(1626, 2)\n",
      "(1920, 2)\n",
      "(953, 2)\n",
      "(978, 2)\n",
      "(927, 2)\n",
      "(694, 2)\n",
      "(1286, 2)\n",
      "(943, 2)\n",
      "(618, 2)\n",
      "(1933, 2)\n",
      "(994, 2)\n",
      "(548, 2)\n",
      "(559, 2)\n",
      "(716, 2)\n"
     ]
    }
   ],
   "source": [
    "df_calc1 = df_auxAprovados[df_auxAprovados['nome']=='CÁLCULO I']\n",
    "df_calc1 = df_calc1[['discente','media_final']]\n",
    "print(df_calc1.shape)\n",
    "\n",
    "df_calc2 = df_auxAprovados[df_auxAprovados['nome']=='CÁLCULO II']\n",
    "df_calc2 = df_calc2[['discente','media_final']]\n",
    "print(df_calc2.shape)\n",
    "\n",
    "df_calc3 = df_auxAprovados[df_auxAprovados['nome']=='CÁLCULO III']\n",
    "df_calc3 = df_calc3[['discente','media_final']]\n",
    "print(df_calc3.shape)\n",
    "\n",
    "df_vga = df_auxAprovados[df_auxAprovados['nome']=='VETORES E GEOMETRIA ANALÍTICA']\n",
    "df_vga = df_vga[['discente','media_final']]\n",
    "print(df_vga.shape)\n",
    "\n",
    "df_pc = df_auxAprovados[df_auxAprovados['nome']=='PRÉ-CÁLCULO']\n",
    "df_pc = df_pc[['discente','media_final']]\n",
    "print(df_pc.shape)\n",
    "\n",
    "df_pe = df_auxAprovados[df_auxAprovados['nome']=='PROBABILIDADE E ESTATÍSTICA']\n",
    "df_pe = df_pe[['discente','media_final']]\n",
    "print(df_pe.shape)\n",
    "\n",
    "df_f1 = df_auxAprovados[df_auxAprovados['nome']=='INTRODUÇÃO À FÍSICA CLÁSSICA I']\n",
    "df_f1 = df_f1[['discente','media_final']]\n",
    "print(df_f1.shape)\n",
    "\n",
    "df_f2 = df_auxAprovados[df_auxAprovados['nome']=='INTRODUÇÃO À FÍSICA CLÁSSICA II']\n",
    "df_f2 = df_f2[['discente','media_final']]\n",
    "print(df_f2.shape)\n",
    "\n",
    "df_f3 = df_auxAprovados[df_auxAprovados['nome']=='INTRODUÇÃO À FÍSICA CLÁSSICA III']\n",
    "df_f3 = df_f3[['discente','media_final']]\n",
    "print(df_f3.shape)\n",
    "\n",
    "df_lop = df_auxAprovados[df_auxAprovados['nome']=='LÓGICA DE PROGRAMAÇÃO']\n",
    "df_lop = df_lop[['discente','media_final']]\n",
    "print(df_lop.shape)\n",
    "\n",
    "df_lp = df_auxAprovados[df_auxAprovados['nome']=='LINGUAGEM DE PROGRAMAÇÃO']\n",
    "df_lp = df_lp[['discente','media_final']]\n",
    "print(df_lp.shape)\n",
    "\n",
    "df_cn = df_auxAprovados[df_auxAprovados['nome']=='COMPUTAÇÃO NUMÉRICA']\n",
    "df_cn = df_cn[['discente','media_final']]\n",
    "print(df_cn.shape)\n",
    "\n",
    "df_qg = df_auxAprovados[df_auxAprovados['nome']=='QUÍMICA GERAL']\n",
    "df_qg = df_qg[['discente','media_final']]\n",
    "print(df_qg.shape)\n",
    "\n",
    "df_al = df_auxAprovados[df_auxAprovados['nome']=='ÁLGEBRA LINEAR']\n",
    "df_al = df_al[['discente','media_final']]\n",
    "print(df_al.shape)\n",
    "\n",
    "df_ms = df_auxAprovados[df_auxAprovados['nome']=='MECÂNICA DOS SÓLIDOS']\n",
    "df_ms = df_ms[['discente','media_final']]\n",
    "print(df_ms.shape)\n",
    "\n",
    "df_mf = df_auxAprovados[df_auxAprovados['nome']=='MECÂNICA DOS FLUIDOS']\n",
    "df_mf = df_mf[['discente','media_final']]\n",
    "print(df_mf.shape)\n",
    "\n",
    "df_ctm = df_auxAprovados[df_auxAprovados['nome']=='CIÊNCIA E TECNOLOGIA DOS MATERIAIS']\n",
    "df_ctm = df_ctm[['discente','media_final']]\n",
    "print(df_ctm.shape)"
   ]
  },
  {
   "cell_type": "code",
   "execution_count": 183,
   "metadata": {},
   "outputs": [
    {
     "name": "stdout",
     "output_type": "stream",
     "text": [
      "CÁLCULO I\n",
      "CÁLCULO II\n",
      "CÁLCULO III\n",
      "QUÍMICA GERAL\n",
      "ÁLGEBRA LINEAR\n",
      "PROBABILIDADE E ESTATÍSTICA\n",
      "LINGUAGEM DE PROGRAMAÇÃO\n",
      "COMPUTAÇÃO NUMÉRICA\n",
      "MECÂNICA DOS SÓLIDOS\n",
      "MECÂNICA DOS FLUIDOS\n",
      "CIÊNCIA E TECNOLOGIA DOS MATERIAIS\n",
      "VETORES E GEOMETRIA ANALÍTICA\n",
      "PRÉ-CÁLCULO\n",
      "INTRODUÇÃO À FÍSICA CLÁSSICA I\n",
      "INTRODUÇÃO À FÍSICA CLÁSSICA II\n",
      "INTRODUÇÃO À FÍSICA CLÁSSICA III\n",
      "LÓGICA DE PROGRAMAÇÃO\n"
     ]
    },
    {
     "data": {
      "text/html": [
       "<div>\n",
       "<style scoped>\n",
       "    .dataframe tbody tr th:only-of-type {\n",
       "        vertical-align: middle;\n",
       "    }\n",
       "\n",
       "    .dataframe tbody tr th {\n",
       "        vertical-align: top;\n",
       "    }\n",
       "\n",
       "    .dataframe thead th {\n",
       "        text-align: right;\n",
       "    }\n",
       "</style>\n",
       "<table border=\"1\" class=\"dataframe\">\n",
       "  <thead>\n",
       "    <tr style=\"text-align: right;\">\n",
       "      <th></th>\n",
       "      <th>discente</th>\n",
       "      <th>CÁLCULO I</th>\n",
       "      <th>CÁLCULO II</th>\n",
       "      <th>CÁLCULO III</th>\n",
       "      <th>QUÍMICA GERAL</th>\n",
       "      <th>ÁLGEBRA LINEAR</th>\n",
       "      <th>PROBABILIDADE E ESTATÍSTICA</th>\n",
       "      <th>LINGUAGEM DE PROGRAMAÇÃO</th>\n",
       "      <th>COMPUTAÇÃO NUMÉRICA</th>\n",
       "      <th>MECÂNICA DOS SÓLIDOS</th>\n",
       "      <th>MECÂNICA DOS FLUIDOS</th>\n",
       "      <th>CIÊNCIA E TECNOLOGIA DOS MATERIAIS</th>\n",
       "      <th>VETORES E GEOMETRIA ANALÍTICA</th>\n",
       "      <th>PRÉ-CÁLCULO</th>\n",
       "      <th>INTRODUÇÃO À FÍSICA CLÁSSICA I</th>\n",
       "      <th>INTRODUÇÃO À FÍSICA CLÁSSICA II</th>\n",
       "      <th>INTRODUÇÃO À FÍSICA CLÁSSICA III</th>\n",
       "      <th>LÓGICA DE PROGRAMAÇÃO</th>\n",
       "    </tr>\n",
       "  </thead>\n",
       "  <tbody>\n",
       "    <tr>\n",
       "      <th>0</th>\n",
       "      <td>d00171e04d77a7994414014d941baf8c</td>\n",
       "      <td>10.0</td>\n",
       "      <td>5.7</td>\n",
       "      <td>6.8</td>\n",
       "      <td>6.9</td>\n",
       "      <td>7.6</td>\n",
       "      <td>6.7</td>\n",
       "      <td>5.3</td>\n",
       "      <td>6.4</td>\n",
       "      <td>5.0</td>\n",
       "      <td>7.7</td>\n",
       "      <td>6.9</td>\n",
       "      <td>6.5</td>\n",
       "      <td>7.2</td>\n",
       "      <td>7.1</td>\n",
       "      <td>6.0</td>\n",
       "      <td>7.6</td>\n",
       "      <td>6.3</td>\n",
       "    </tr>\n",
       "    <tr>\n",
       "      <th>1</th>\n",
       "      <td>3ff085f94a31cdddd21d355d0d8f6438</td>\n",
       "      <td>10.0</td>\n",
       "      <td>8.0</td>\n",
       "      <td>6.4</td>\n",
       "      <td>8.1</td>\n",
       "      <td>8.4</td>\n",
       "      <td>7.8</td>\n",
       "      <td>6.7</td>\n",
       "      <td>8.1</td>\n",
       "      <td>6.3</td>\n",
       "      <td>9.0</td>\n",
       "      <td>7.1</td>\n",
       "      <td>8.1</td>\n",
       "      <td>8.8</td>\n",
       "      <td>10.0</td>\n",
       "      <td>7.0</td>\n",
       "      <td>10.0</td>\n",
       "      <td>9.5</td>\n",
       "    </tr>\n",
       "    <tr>\n",
       "      <th>2</th>\n",
       "      <td>bb7bc1c9d40935fe8d7d76f83d39ee62</td>\n",
       "      <td>10.0</td>\n",
       "      <td>8.7</td>\n",
       "      <td>8.8</td>\n",
       "      <td>6.6</td>\n",
       "      <td>10.0</td>\n",
       "      <td>10.0</td>\n",
       "      <td>9.9</td>\n",
       "      <td>8.7</td>\n",
       "      <td>8.3</td>\n",
       "      <td>10.0</td>\n",
       "      <td>7.8</td>\n",
       "      <td>6.1</td>\n",
       "      <td>7.7</td>\n",
       "      <td>10.0</td>\n",
       "      <td>8.0</td>\n",
       "      <td>10.0</td>\n",
       "      <td>9.1</td>\n",
       "    </tr>\n",
       "    <tr>\n",
       "      <th>3</th>\n",
       "      <td>db6560af2b1538425add4e182fe0927e</td>\n",
       "      <td>10.0</td>\n",
       "      <td>7.5</td>\n",
       "      <td>8.4</td>\n",
       "      <td>5.9</td>\n",
       "      <td>9.8</td>\n",
       "      <td>8.6</td>\n",
       "      <td>7.0</td>\n",
       "      <td>7.0</td>\n",
       "      <td>6.7</td>\n",
       "      <td>9.9</td>\n",
       "      <td>5.8</td>\n",
       "      <td>5.3</td>\n",
       "      <td>7.5</td>\n",
       "      <td>10.0</td>\n",
       "      <td>7.2</td>\n",
       "      <td>9.5</td>\n",
       "      <td>8.7</td>\n",
       "    </tr>\n",
       "    <tr>\n",
       "      <th>4</th>\n",
       "      <td>e749444b410bab4bf5c2a86bffaee6c7</td>\n",
       "      <td>9.3</td>\n",
       "      <td>8.2</td>\n",
       "      <td>7.0</td>\n",
       "      <td>7.0</td>\n",
       "      <td>10.0</td>\n",
       "      <td>7.5</td>\n",
       "      <td>6.9</td>\n",
       "      <td>7.8</td>\n",
       "      <td>6.0</td>\n",
       "      <td>9.5</td>\n",
       "      <td>7.0</td>\n",
       "      <td>5.3</td>\n",
       "      <td>8.5</td>\n",
       "      <td>10.0</td>\n",
       "      <td>7.6</td>\n",
       "      <td>10.0</td>\n",
       "      <td>8.0</td>\n",
       "    </tr>\n",
       "  </tbody>\n",
       "</table>\n",
       "</div>"
      ],
      "text/plain": [
       "                           discente  CÁLCULO I  CÁLCULO II  CÁLCULO III  \\\n",
       "0  d00171e04d77a7994414014d941baf8c       10.0         5.7          6.8   \n",
       "1  3ff085f94a31cdddd21d355d0d8f6438       10.0         8.0          6.4   \n",
       "2  bb7bc1c9d40935fe8d7d76f83d39ee62       10.0         8.7          8.8   \n",
       "3  db6560af2b1538425add4e182fe0927e       10.0         7.5          8.4   \n",
       "4  e749444b410bab4bf5c2a86bffaee6c7        9.3         8.2          7.0   \n",
       "\n",
       "   QUÍMICA GERAL  ÁLGEBRA LINEAR  PROBABILIDADE E ESTATÍSTICA  \\\n",
       "0            6.9             7.6                          6.7   \n",
       "1            8.1             8.4                          7.8   \n",
       "2            6.6            10.0                         10.0   \n",
       "3            5.9             9.8                          8.6   \n",
       "4            7.0            10.0                          7.5   \n",
       "\n",
       "   LINGUAGEM DE PROGRAMAÇÃO  COMPUTAÇÃO NUMÉRICA  MECÂNICA DOS SÓLIDOS  \\\n",
       "0                       5.3                  6.4                   5.0   \n",
       "1                       6.7                  8.1                   6.3   \n",
       "2                       9.9                  8.7                   8.3   \n",
       "3                       7.0                  7.0                   6.7   \n",
       "4                       6.9                  7.8                   6.0   \n",
       "\n",
       "   MECÂNICA DOS FLUIDOS  CIÊNCIA E TECNOLOGIA DOS MATERIAIS  \\\n",
       "0                   7.7                                 6.9   \n",
       "1                   9.0                                 7.1   \n",
       "2                  10.0                                 7.8   \n",
       "3                   9.9                                 5.8   \n",
       "4                   9.5                                 7.0   \n",
       "\n",
       "   VETORES E GEOMETRIA ANALÍTICA  PRÉ-CÁLCULO  INTRODUÇÃO À FÍSICA CLÁSSICA I  \\\n",
       "0                            6.5          7.2                             7.1   \n",
       "1                            8.1          8.8                            10.0   \n",
       "2                            6.1          7.7                            10.0   \n",
       "3                            5.3          7.5                            10.0   \n",
       "4                            5.3          8.5                            10.0   \n",
       "\n",
       "   INTRODUÇÃO À FÍSICA CLÁSSICA II  INTRODUÇÃO À FÍSICA CLÁSSICA III  \\\n",
       "0                              6.0                               7.6   \n",
       "1                              7.0                              10.0   \n",
       "2                              8.0                              10.0   \n",
       "3                              7.2                               9.5   \n",
       "4                              7.6                              10.0   \n",
       "\n",
       "   LÓGICA DE PROGRAMAÇÃO  \n",
       "0                    6.3  \n",
       "1                    9.5  \n",
       "2                    9.1  \n",
       "3                    8.7  \n",
       "4                    8.0  "
      ]
     },
     "execution_count": 183,
     "metadata": {},
     "output_type": "execute_result"
    }
   ],
   "source": [
    "df_correr = pd.DataFrame()\n",
    "df_correr['discente'] = discentes\n",
    "\n",
    "disciplinas = ['CÁLCULO I','CÁLCULO II','CÁLCULO III','QUÍMICA GERAL','ÁLGEBRA LINEAR','PROBABILIDADE E ESTATÍSTICA',\n",
    "               'LINGUAGEM DE PROGRAMAÇÃO','COMPUTAÇÃO NUMÉRICA','MECÂNICA DOS SÓLIDOS','MECÂNICA DOS FLUIDOS',\n",
    "               'CIÊNCIA E TECNOLOGIA DOS MATERIAIS','VETORES E GEOMETRIA ANALÍTICA','PRÉ-CÁLCULO',\n",
    "               'INTRODUÇÃO À FÍSICA CLÁSSICA I','INTRODUÇÃO À FÍSICA CLÁSSICA II','INTRODUÇÃO À FÍSICA CLÁSSICA III','LÓGICA DE PROGRAMAÇÃO']\n",
    "\n",
    "dataFrames = [df_calc1,df_calc2,df_calc3,df_qg,df_al,df_pe,df_lp,df_cn,df_ms,df_mf,df_ctm,df_vga,df_pc,df_f1,df_f2,df_f3,df_lop]\n",
    "\n",
    "# dataFrames,disciplinas\n",
    "for i in range(0, len(dataFrames)):\n",
    "    df_correr = pd.merge(df_correr, dataFrames[i], on='discente')\n",
    "    df_correr = df_correr.rename(columns={\"media_final\": disciplinas[i]})\n",
    "    print(disciplinas[i])\n",
    "#     display(df_correr.head())\n",
    "    \n",
    "df_correr.head()"
   ]
  },
  {
   "cell_type": "code",
   "execution_count": 239,
   "metadata": {},
   "outputs": [],
   "source": [
    "heat= pd.DataFrame(df_correr.corr())\n",
    "heat['CÁLCULO I']['CÁLCULO III']=0\n",
    "heat['CÁLCULO I']['QUÍMICA GERAL']=0\n",
    "heat['CÁLCULO I']['ÁLGEBRA LINEAR']=0\n",
    "heat['CÁLCULO I']['LINGUAGEM DE PROGRAMAÇÃO']=0\n",
    "heat['CÁLCULO I']['MECÂNICA DOS SÓLIDOS']=0\n",
    "heat['CÁLCULO I']['MECÂNICA DOS FLUIDOS']=0\n",
    "heat['CÁLCULO I']['CIÊNCIA E TECNOLOGIA DOS MATERIAIS']=0\n",
    "heat['CÁLCULO I']['VETORES E GEOMETRIA ANALÍTICA']=0\n",
    "heat['CÁLCULO I']['PRÉ-CÁLCULO']=0\n",
    "heat['CÁLCULO I']['INTRODUÇÃO À FÍSICA CLÁSSICA II']=0\n",
    "heat['CÁLCULO I']['INTRODUÇÃO À FÍSICA CLÁSSICA III']=0\n",
    "heat['CÁLCULO I']['LÓGICA DE PROGRAMAÇÃO']=0\n",
    "\n",
    "heat['CÁLCULO III']['CÁLCULO I']=0\n",
    "heat['QUÍMICA GERAL']['CÁLCULO I']=0\n",
    "heat['ÁLGEBRA LINEAR']['CÁLCULO I']=0\n",
    "heat['LINGUAGEM DE PROGRAMAÇÃO']['CÁLCULO I']=0\n",
    "heat['MECÂNICA DOS SÓLIDOS']['CÁLCULO I']=0\n",
    "heat['MECÂNICA DOS FLUIDOS']['CÁLCULO I']=0\n",
    "heat['CIÊNCIA E TECNOLOGIA DOS MATERIAIS']['CÁLCULO I']=0\n",
    "heat['VETORES E GEOMETRIA ANALÍTICA']['CÁLCULO I']=0\n",
    "heat['PRÉ-CÁLCULO']['CÁLCULO I']=0\n",
    "heat['INTRODUÇÃO À FÍSICA CLÁSSICA II']['CÁLCULO I']=0\n",
    "heat['INTRODUÇÃO À FÍSICA CLÁSSICA III']['CÁLCULO I']=0\n",
    "heat['LÓGICA DE PROGRAMAÇÃO']['CÁLCULO I']=0\n",
    "\n",
    "heat['CÁLCULO II']['LINGUAGEM DE PROGRAMAÇÃO']=0\n",
    "heat['CÁLCULO II']['QUÍMICA GERAL']=0\n",
    "heat['CÁLCULO II']['COMPUTAÇÃO NUMÉRICA']=0\n",
    "heat['CÁLCULO II']['ÁLGEBRA LINEAR']=0\n",
    "heat['CÁLCULO II']['PROBABILIDADE E ESTATÍSTICA']=0\n",
    "heat['CÁLCULO II']['CIÊNCIA E TECNOLOGIA DOS MATERIAIS']=0\n",
    "heat['CÁLCULO II']['VETORES E GEOMETRIA ANALÍTICA']=0\n",
    "heat['CÁLCULO II']['INTRODUÇÃO À FÍSICA CLÁSSICA I']=0\n",
    "heat['CÁLCULO II']['INTRODUÇÃO À FÍSICA CLÁSSICA II']=0\n",
    "heat['CÁLCULO II']['INTRODUÇÃO À FÍSICA CLÁSSICA III']=0\n",
    "heat['CÁLCULO II']['LÓGICA DE PROGRAMAÇÃO']=0\n",
    "\n",
    "heat['LINGUAGEM DE PROGRAMAÇÃO']['CÁLCULO II']=0\n",
    "heat['QUÍMICA GERAL']['CÁLCULO II']=0\n",
    "heat['COMPUTAÇÃO NUMÉRICA']['CÁLCULO II']=0\n",
    "heat['ÁLGEBRA LINEAR']['CÁLCULO II']=0\n",
    "heat['PROBABILIDADE E ESTATÍSTICA']['CÁLCULO II']=0\n",
    "heat['CIÊNCIA E TECNOLOGIA DOS MATERIAIS']['CÁLCULO II']=0\n",
    "heat['VETORES E GEOMETRIA ANALÍTICA']['CÁLCULO II']=0\n",
    "heat['INTRODUÇÃO À FÍSICA CLÁSSICA I']['CÁLCULO II']=0\n",
    "heat['INTRODUÇÃO À FÍSICA CLÁSSICA II']['CÁLCULO II']=0\n",
    "heat['INTRODUÇÃO À FÍSICA CLÁSSICA III']['CÁLCULO II']=0\n",
    "heat['LÓGICA DE PROGRAMAÇÃO']['CÁLCULO II']=0\n",
    "\n",
    "\n",
    "heat['CÁLCULO III']['QUÍMICA GERAL']=0\n",
    "heat['CÁLCULO III']['ÁLGEBRA LINEAR']=0\n",
    "heat['CÁLCULO III']['PROBABILIDADE E ESTATÍSTICA']=0\n",
    "heat['CÁLCULO III']['LINGUAGEM DE PROGRAMAÇÃO']=0\n",
    "heat['CÁLCULO III']['COMPUTAÇÃO NUMÉRICA']=0\n",
    "heat['CÁLCULO III']['MECÂNICA DOS SÓLIDOS']=0\n",
    "heat['CÁLCULO III']['MECÂNICA DOS FLUIDOS']=0\n",
    "heat['CÁLCULO III']['CIÊNCIA E TECNOLOGIA DOS MATERIAIS']=0\n",
    "heat['CÁLCULO III']['VETORES E GEOMETRIA ANALÍTICA']=0\n",
    "heat['CÁLCULO III']['PRÉ-CÁLCULO']=0\n",
    "heat['CÁLCULO III']['INTRODUÇÃO À FÍSICA CLÁSSICA I']=0\n",
    "heat['CÁLCULO III']['INTRODUÇÃO À FÍSICA CLÁSSICA II']=0\n",
    "heat['CÁLCULO III']['LÓGICA DE PROGRAMAÇÃO']=0\n",
    "\n",
    "heat['QUÍMICA GERAL']['CÁLCULO III']=0\n",
    "heat['ÁLGEBRA LINEAR']['CÁLCULO III']=0\n",
    "heat['PROBABILIDADE E ESTATÍSTICA']['CÁLCULO III']=0\n",
    "heat['LINGUAGEM DE PROGRAMAÇÃO']['CÁLCULO III']=0\n",
    "heat['COMPUTAÇÃO NUMÉRICA']['CÁLCULO III']=0\n",
    "heat['MECÂNICA DOS SÓLIDOS']['CÁLCULO III']=0\n",
    "heat['MECÂNICA DOS FLUIDOS']['CÁLCULO III']=0\n",
    "heat['CIÊNCIA E TECNOLOGIA DOS MATERIAIS']['CÁLCULO III']=0\n",
    "heat['VETORES E GEOMETRIA ANALÍTICA']['CÁLCULO III']=0\n",
    "heat['PRÉ-CÁLCULO']['CÁLCULO III']=0\n",
    "heat['INTRODUÇÃO À FÍSICA CLÁSSICA I']['CÁLCULO III']=0\n",
    "heat['INTRODUÇÃO À FÍSICA CLÁSSICA II']['CÁLCULO III']=0\n",
    "heat['LÓGICA DE PROGRAMAÇÃO']['CÁLCULO III']=0\n",
    "\n",
    "heat['QUÍMICA GERAL']['PROBABILIDADE E ESTATÍSTICA']=0\n",
    "heat['QUÍMICA GERAL']['LINGUAGEM DE PROGRAMAÇÃO']=0\n",
    "heat['QUÍMICA GERAL']['COMPUTAÇÃO NUMÉRICA']=0\n",
    "heat['QUÍMICA GERAL']['MECÂNICA DOS SÓLIDOS']=0\n",
    "heat['QUÍMICA GERAL']['MECÂNICA DOS FLUIDOS']=0\n",
    "heat['QUÍMICA GERAL']['VETORES E GEOMETRIA ANALÍTICA']=0\n",
    "heat['QUÍMICA GERAL']['PRÉ-CÁLCULO']=0\n",
    "heat['QUÍMICA GERAL']['INTRODUÇÃO À FÍSICA CLÁSSICA I']=0\n",
    "heat['QUÍMICA GERAL']['INTRODUÇÃO À FÍSICA CLÁSSICA II']=0\n",
    "heat['QUÍMICA GERAL']['INTRODUÇÃO À FÍSICA CLÁSSICA III']=0\n",
    "heat['QUÍMICA GERAL']['LÓGICA DE PROGRAMAÇÃO']=0\n",
    "\n",
    "heat['PROBABILIDADE E ESTATÍSTICA']['QUÍMICA GERAL']=0\n",
    "heat['LINGUAGEM DE PROGRAMAÇÃO']['QUÍMICA GERAL']=0\n",
    "heat['COMPUTAÇÃO NUMÉRICA']['QUÍMICA GERAL']=0\n",
    "heat['MECÂNICA DOS SÓLIDOS']['QUÍMICA GERAL']=0\n",
    "heat['MECÂNICA DOS FLUIDOS']['QUÍMICA GERAL']=0\n",
    "heat['VETORES E GEOMETRIA ANALÍTICA']['QUÍMICA GERAL']=0\n",
    "heat['PRÉ-CÁLCULO']['QUÍMICA GERAL']=0\n",
    "heat['INTRODUÇÃO À FÍSICA CLÁSSICA I']['QUÍMICA GERAL']=0\n",
    "heat['INTRODUÇÃO À FÍSICA CLÁSSICA II']['QUÍMICA GERAL']=0\n",
    "heat['INTRODUÇÃO À FÍSICA CLÁSSICA III']['QUÍMICA GERAL']=0\n",
    "heat['LÓGICA DE PROGRAMAÇÃO']['QUÍMICA GERAL']=0\n",
    "\n",
    "heat['PROBABILIDADE E ESTATÍSTICA']['LINGUAGEM DE PROGRAMAÇÃO']=0\n",
    "heat['PROBABILIDADE E ESTATÍSTICA']['COMPUTAÇÃO NUMÉRICA']=0\n",
    "heat['PROBABILIDADE E ESTATÍSTICA']['MECÂNICA DOS SÓLIDOS']=0\n",
    "heat['PROBABILIDADE E ESTATÍSTICA']['MECÂNICA DOS FLUIDOS']=0\n",
    "heat['PROBABILIDADE E ESTATÍSTICA']['CIÊNCIA E TECNOLOGIA DOS MATERIAIS']=0\n",
    "heat['PROBABILIDADE E ESTATÍSTICA']['VETORES E GEOMETRIA ANALÍTICA']=0\n",
    "heat['PROBABILIDADE E ESTATÍSTICA']['PRÉ-CÁLCULO']=0\n",
    "heat['PROBABILIDADE E ESTATÍSTICA']['INTRODUÇÃO À FÍSICA CLÁSSICA I']=0\n",
    "heat['PROBABILIDADE E ESTATÍSTICA']['INTRODUÇÃO À FÍSICA CLÁSSICA II']=0\n",
    "heat['PROBABILIDADE E ESTATÍSTICA']['INTRODUÇÃO À FÍSICA CLÁSSICA III']=0\n",
    "heat['PROBABILIDADE E ESTATÍSTICA']['LÓGICA DE PROGRAMAÇÃO']=0\n",
    "\n",
    "heat['LINGUAGEM DE PROGRAMAÇÃO']['PROBABILIDADE E ESTATÍSTICA']=0\n",
    "heat['COMPUTAÇÃO NUMÉRICA']['PROBABILIDADE E ESTATÍSTICA']=0\n",
    "heat['MECÂNICA DOS SÓLIDOS']['PROBABILIDADE E ESTATÍSTICA']=0\n",
    "heat['MECÂNICA DOS FLUIDOS']['PROBABILIDADE E ESTATÍSTICA']=0\n",
    "heat['CIÊNCIA E TECNOLOGIA DOS MATERIAIS']['PROBABILIDADE E ESTATÍSTICA']=0\n",
    "heat['VETORES E GEOMETRIA ANALÍTICA']['PROBABILIDADE E ESTATÍSTICA']=0\n",
    "heat['PRÉ-CÁLCULO']['PROBABILIDADE E ESTATÍSTICA']=0\n",
    "heat['INTRODUÇÃO À FÍSICA CLÁSSICA I']['PROBABILIDADE E ESTATÍSTICA']=0\n",
    "heat['INTRODUÇÃO À FÍSICA CLÁSSICA II']['PROBABILIDADE E ESTATÍSTICA']=0\n",
    "heat['INTRODUÇÃO À FÍSICA CLÁSSICA III']['PROBABILIDADE E ESTATÍSTICA']=0\n",
    "heat['LÓGICA DE PROGRAMAÇÃO']['PROBABILIDADE E ESTATÍSTICA']=0\n",
    "\n",
    "heat['LINGUAGEM DE PROGRAMAÇÃO']['MECÂNICA DOS SÓLIDOS']=0\n",
    "heat['LINGUAGEM DE PROGRAMAÇÃO']['MECÂNICA DOS FLUIDOS']=0\n",
    "heat['LINGUAGEM DE PROGRAMAÇÃO']['CIÊNCIA E TECNOLOGIA DOS MATERIAIS']=0\n",
    "heat['LINGUAGEM DE PROGRAMAÇÃO']['VETORES E GEOMETRIA ANALÍTICA']=0\n",
    "heat['LINGUAGEM DE PROGRAMAÇÃO']['PRÉ-CÁLCULO']=0\n",
    "heat['LINGUAGEM DE PROGRAMAÇÃO']['INTRODUÇÃO À FÍSICA CLÁSSICA I']=0\n",
    "heat['LINGUAGEM DE PROGRAMAÇÃO']['INTRODUÇÃO À FÍSICA CLÁSSICA II']=0\n",
    "heat['LINGUAGEM DE PROGRAMAÇÃO']['INTRODUÇÃO À FÍSICA CLÁSSICA III']=0\n",
    "\n",
    "heat['MECÂNICA DOS SÓLIDOS']['LINGUAGEM DE PROGRAMAÇÃO']=0\n",
    "heat['MECÂNICA DOS FLUIDOS']['LINGUAGEM DE PROGRAMAÇÃO']=0\n",
    "heat['CIÊNCIA E TECNOLOGIA DOS MATERIAIS']['LINGUAGEM DE PROGRAMAÇÃO']=0\n",
    "heat['VETORES E GEOMETRIA ANALÍTICA']['LINGUAGEM DE PROGRAMAÇÃO']=0\n",
    "heat['PRÉ-CÁLCULO']['LINGUAGEM DE PROGRAMAÇÃO']=0\n",
    "heat['INTRODUÇÃO À FÍSICA CLÁSSICA I']['LINGUAGEM DE PROGRAMAÇÃO']=0\n",
    "heat['INTRODUÇÃO À FÍSICA CLÁSSICA II']['LINGUAGEM DE PROGRAMAÇÃO']=0\n",
    "heat['INTRODUÇÃO À FÍSICA CLÁSSICA III']['LINGUAGEM DE PROGRAMAÇÃO']=0\n",
    "\n",
    "heat['COMPUTAÇÃO NUMÉRICA']['MECÂNICA DOS SÓLIDOS']=0\n",
    "heat['COMPUTAÇÃO NUMÉRICA']['MECÂNICA DOS FLUIDOS']=0\n",
    "heat['COMPUTAÇÃO NUMÉRICA']['CIÊNCIA E TECNOLOGIA DOS MATERIAIS']=0\n",
    "heat['COMPUTAÇÃO NUMÉRICA']['VETORES E GEOMETRIA ANALÍTICA']=0\n",
    "heat['COMPUTAÇÃO NUMÉRICA']['INTRODUÇÃO À FÍSICA CLÁSSICA I']=0\n",
    "heat['COMPUTAÇÃO NUMÉRICA']['INTRODUÇÃO À FÍSICA CLÁSSICA II']=0\n",
    "heat['COMPUTAÇÃO NUMÉRICA']['INTRODUÇÃO À FÍSICA CLÁSSICA III']=0\n",
    "heat['COMPUTAÇÃO NUMÉRICA']['LÓGICA DE PROGRAMAÇÃO']=0\n",
    "heat['COMPUTAÇÃO NUMÉRICA']['PRÉ-CÁLCULO']=0\n",
    "\n",
    "heat['MECÂNICA DOS SÓLIDOS']['COMPUTAÇÃO NUMÉRICA']=0\n",
    "heat['MECÂNICA DOS FLUIDOS']['COMPUTAÇÃO NUMÉRICA']=0\n",
    "heat['CIÊNCIA E TECNOLOGIA DOS MATERIAIS']['COMPUTAÇÃO NUMÉRICA']=0\n",
    "heat['VETORES E GEOMETRIA ANALÍTICA']['COMPUTAÇÃO NUMÉRICA']=0\n",
    "heat['INTRODUÇÃO À FÍSICA CLÁSSICA I']['COMPUTAÇÃO NUMÉRICA']=0\n",
    "heat['INTRODUÇÃO À FÍSICA CLÁSSICA II']['COMPUTAÇÃO NUMÉRICA']=0\n",
    "heat['INTRODUÇÃO À FÍSICA CLÁSSICA III']['COMPUTAÇÃO NUMÉRICA']=0\n",
    "heat['LÓGICA DE PROGRAMAÇÃO']['COMPUTAÇÃO NUMÉRICA']=0\n",
    "heat['PRÉ-CÁLCULO']['COMPUTAÇÃO NUMÉRICA']=0\n",
    "\n",
    "heat['MECÂNICA DOS SÓLIDOS']['MECÂNICA DOS FLUIDOS']=0\n",
    "heat['MECÂNICA DOS SÓLIDOS']['CIÊNCIA E TECNOLOGIA DOS MATERIAIS']=0\n",
    "heat['MECÂNICA DOS SÓLIDOS']['VETORES E GEOMETRIA ANALÍTICA']=0\n",
    "heat['MECÂNICA DOS SÓLIDOS']['PRÉ-CÁLCULO']=0\n",
    "heat['MECÂNICA DOS SÓLIDOS']['INTRODUÇÃO À FÍSICA CLÁSSICA II']=0\n",
    "heat['MECÂNICA DOS SÓLIDOS']['INTRODUÇÃO À FÍSICA CLÁSSICA III']=0\n",
    "heat['MECÂNICA DOS SÓLIDOS']['LÓGICA DE PROGRAMAÇÃO']=0\n",
    "\n",
    "heat['MECÂNICA DOS FLUIDOS']['MECÂNICA DOS SÓLIDOS']=0\n",
    "heat['CIÊNCIA E TECNOLOGIA DOS MATERIAIS']['MECÂNICA DOS SÓLIDOS']=0\n",
    "heat['VETORES E GEOMETRIA ANALÍTICA']['MECÂNICA DOS SÓLIDOS']=0\n",
    "heat['PRÉ-CÁLCULO']['MECÂNICA DOS SÓLIDOS']=0\n",
    "heat['INTRODUÇÃO À FÍSICA CLÁSSICA II']['MECÂNICA DOS SÓLIDOS']=0\n",
    "heat['INTRODUÇÃO À FÍSICA CLÁSSICA III']['MECÂNICA DOS SÓLIDOS']=0\n",
    "heat['LÓGICA DE PROGRAMAÇÃO']['MECÂNICA DOS SÓLIDOS']=0\n",
    "\n",
    "heat['MECÂNICA DOS FLUIDOS']['CIÊNCIA E TECNOLOGIA DOS MATERIAIS']=0\n",
    "heat['MECÂNICA DOS FLUIDOS']['VETORES E GEOMETRIA ANALÍTICA']=0\n",
    "heat['MECÂNICA DOS FLUIDOS']['PRÉ-CÁLCULO']=0\n",
    "heat['MECÂNICA DOS FLUIDOS']['INTRODUÇÃO À FÍSICA CLÁSSICA I']=0\n",
    "heat['MECÂNICA DOS FLUIDOS']['INTRODUÇÃO À FÍSICA CLÁSSICA III']=0\n",
    "heat['MECÂNICA DOS FLUIDOS']['LÓGICA DE PROGRAMAÇÃO']=0\n",
    "\n",
    "heat['CIÊNCIA E TECNOLOGIA DOS MATERIAIS']['MECÂNICA DOS FLUIDOS']=0\n",
    "heat['VETORES E GEOMETRIA ANALÍTICA']['MECÂNICA DOS FLUIDOS']=0\n",
    "heat['PRÉ-CÁLCULO']['MECÂNICA DOS FLUIDOS']=0\n",
    "heat['INTRODUÇÃO À FÍSICA CLÁSSICA I']['MECÂNICA DOS FLUIDOS']=0\n",
    "heat['INTRODUÇÃO À FÍSICA CLÁSSICA III']['MECÂNICA DOS FLUIDOS']=0\n",
    "heat['LÓGICA DE PROGRAMAÇÃO']['MECÂNICA DOS FLUIDOS']=0\n",
    "\n",
    "heat['CIÊNCIA E TECNOLOGIA DOS MATERIAIS']['VETORES E GEOMETRIA ANALÍTICA']=0\n",
    "heat['CIÊNCIA E TECNOLOGIA DOS MATERIAIS']['PRÉ-CÁLCULO']=0\n",
    "heat['CIÊNCIA E TECNOLOGIA DOS MATERIAIS']['INTRODUÇÃO À FÍSICA CLÁSSICA I']=0\n",
    "heat['CIÊNCIA E TECNOLOGIA DOS MATERIAIS']['INTRODUÇÃO À FÍSICA CLÁSSICA II']=0\n",
    "heat['CIÊNCIA E TECNOLOGIA DOS MATERIAIS']['INTRODUÇÃO À FÍSICA CLÁSSICA III']=0\n",
    "heat['CIÊNCIA E TECNOLOGIA DOS MATERIAIS']['LÓGICA DE PROGRAMAÇÃO']=0\n",
    "\n",
    "heat['VETORES E GEOMETRIA ANALÍTICA']['CIÊNCIA E TECNOLOGIA DOS MATERIAIS']=0\n",
    "heat['PRÉ-CÁLCULO']['CIÊNCIA E TECNOLOGIA DOS MATERIAIS']=0\n",
    "heat['INTRODUÇÃO À FÍSICA CLÁSSICA I']['CIÊNCIA E TECNOLOGIA DOS MATERIAIS']=0\n",
    "heat['INTRODUÇÃO À FÍSICA CLÁSSICA II']['CIÊNCIA E TECNOLOGIA DOS MATERIAIS']=0\n",
    "heat['INTRODUÇÃO À FÍSICA CLÁSSICA III']['CIÊNCIA E TECNOLOGIA DOS MATERIAIS']=0\n",
    "heat['LÓGICA DE PROGRAMAÇÃO']['CIÊNCIA E TECNOLOGIA DOS MATERIAIS']=0\n",
    "\n",
    "heat['VETORES E GEOMETRIA ANALÍTICA']['PRÉ-CÁLCULO']=0\n",
    "heat['VETORES E GEOMETRIA ANALÍTICA']['INTRODUÇÃO À FÍSICA CLÁSSICA I']=0\n",
    "heat['VETORES E GEOMETRIA ANALÍTICA']['INTRODUÇÃO À FÍSICA CLÁSSICA II']=0\n",
    "heat['VETORES E GEOMETRIA ANALÍTICA']['INTRODUÇÃO À FÍSICA CLÁSSICA III']=0\n",
    "heat['VETORES E GEOMETRIA ANALÍTICA']['LÓGICA DE PROGRAMAÇÃO']=0\n",
    "\n",
    "heat['PRÉ-CÁLCULO']['VETORES E GEOMETRIA ANALÍTICA']=0\n",
    "heat['INTRODUÇÃO À FÍSICA CLÁSSICA I']['VETORES E GEOMETRIA ANALÍTICA']=0\n",
    "heat['INTRODUÇÃO À FÍSICA CLÁSSICA II']['VETORES E GEOMETRIA ANALÍTICA']=0\n",
    "heat['INTRODUÇÃO À FÍSICA CLÁSSICA III']['VETORES E GEOMETRIA ANALÍTICA']=0\n",
    "heat['LÓGICA DE PROGRAMAÇÃO']['VETORES E GEOMETRIA ANALÍTICA']=0\n",
    "\n",
    "heat['PRÉ-CÁLCULO']['INTRODUÇÃO À FÍSICA CLÁSSICA I']=0\n",
    "heat['PRÉ-CÁLCULO']['INTRODUÇÃO À FÍSICA CLÁSSICA II']=0\n",
    "heat['PRÉ-CÁLCULO']['INTRODUÇÃO À FÍSICA CLÁSSICA III']=0\n",
    "heat['PRÉ-CÁLCULO']['LÓGICA DE PROGRAMAÇÃO']=0\n",
    "\n",
    "heat['INTRODUÇÃO À FÍSICA CLÁSSICA I']['PRÉ-CÁLCULO']=0\n",
    "heat['INTRODUÇÃO À FÍSICA CLÁSSICA II']['PRÉ-CÁLCULO']=0\n",
    "heat['INTRODUÇÃO À FÍSICA CLÁSSICA III']['PRÉ-CÁLCULO']=0\n",
    "heat['LÓGICA DE PROGRAMAÇÃO']['PRÉ-CÁLCULO']=0\n",
    "\n",
    "heat['INTRODUÇÃO À FÍSICA CLÁSSICA I']['INTRODUÇÃO À FÍSICA CLÁSSICA III']=0\n",
    "heat['INTRODUÇÃO À FÍSICA CLÁSSICA I']['LÓGICA DE PROGRAMAÇÃO']=0\n",
    "\n",
    "heat['INTRODUÇÃO À FÍSICA CLÁSSICA III']['INTRODUÇÃO À FÍSICA CLÁSSICA I']=0\n",
    "heat['LÓGICA DE PROGRAMAÇÃO']['INTRODUÇÃO À FÍSICA CLÁSSICA I']=0\n",
    "\n",
    "heat['LÓGICA DE PROGRAMAÇÃO']['INTRODUÇÃO À FÍSICA CLÁSSICA II']=0\n",
    "heat['LÓGICA DE PROGRAMAÇÃO']['INTRODUÇÃO À FÍSICA CLÁSSICA III']=0\n",
    "\n",
    "heat['INTRODUÇÃO À FÍSICA CLÁSSICA II']['LÓGICA DE PROGRAMAÇÃO']=0\n",
    "heat['INTRODUÇÃO À FÍSICA CLÁSSICA III']['LÓGICA DE PROGRAMAÇÃO']=0\n",
    "\n",
    "heat['ÁLGEBRA LINEAR']['LINGUAGEM DE PROGRAMAÇÃO']=0\n",
    "heat['ÁLGEBRA LINEAR']['PROBABILIDADE E ESTATÍSTICA']=0\n",
    "heat['ÁLGEBRA LINEAR']['LINGUAGEM DE PROGRAMAÇÃO']=0\n",
    "heat['ÁLGEBRA LINEAR']['MECÂNICA DOS SÓLIDOS']=0\n",
    "heat['ÁLGEBRA LINEAR']['MECÂNICA DOS FLUIDOS']=0\n",
    "heat['ÁLGEBRA LINEAR']['CIÊNCIA E TECNOLOGIA DOS MATERIAIS']=0\n",
    "heat['ÁLGEBRA LINEAR']['PRÉ-CÁLCULO']=0\n",
    "heat['ÁLGEBRA LINEAR']['INTRODUÇÃO À FÍSICA CLÁSSICA I']=0\n",
    "heat['ÁLGEBRA LINEAR']['INTRODUÇÃO À FÍSICA CLÁSSICA II']=0\n",
    "heat['ÁLGEBRA LINEAR']['INTRODUÇÃO À FÍSICA CLÁSSICA III']=0\n",
    "heat['ÁLGEBRA LINEAR']['LÓGICA DE PROGRAMAÇÃO']=0\n",
    "heat['ÁLGEBRA LINEAR']['QUÍMICA GERAL']=0\n",
    "\n",
    "heat['LINGUAGEM DE PROGRAMAÇÃO']['ÁLGEBRA LINEAR']=0\n",
    "heat['PROBABILIDADE E ESTATÍSTICA']['ÁLGEBRA LINEAR']=0\n",
    "heat['LINGUAGEM DE PROGRAMAÇÃO']['ÁLGEBRA LINEAR']=0\n",
    "heat['MECÂNICA DOS SÓLIDOS']['ÁLGEBRA LINEAR']=0\n",
    "heat['MECÂNICA DOS FLUIDOS']['ÁLGEBRA LINEAR']=0\n",
    "heat['CIÊNCIA E TECNOLOGIA DOS MATERIAIS']['ÁLGEBRA LINEAR']=0\n",
    "heat['PRÉ-CÁLCULO']['ÁLGEBRA LINEAR']=0\n",
    "heat['INTRODUÇÃO À FÍSICA CLÁSSICA I']['ÁLGEBRA LINEAR']=0\n",
    "heat['INTRODUÇÃO À FÍSICA CLÁSSICA II']['ÁLGEBRA LINEAR']=0\n",
    "heat['INTRODUÇÃO À FÍSICA CLÁSSICA III']['ÁLGEBRA LINEAR']=0\n",
    "heat['LÓGICA DE PROGRAMAÇÃO']['ÁLGEBRA LINEAR']=0\n",
    "heat['QUÍMICA GERAL']['ÁLGEBRA LINEAR']=0"
   ]
  },
  {
   "cell_type": "code",
   "execution_count": 240,
   "metadata": {},
   "outputs": [
    {
     "data": {
      "image/png": "[encoded data removed]",
      "text/plain": [
       "<matplotlib.figure.Figure at 0x7f1a1edbcf98>"
      ]
     },
     "metadata": {},
     "output_type": "display_data"
    }
   ],
   "source": [
    "fig, ax = plt.subplots(figsize=(20,17)) \n",
    "sns_plot = sns.heatmap(heat, cmap='pink',annot=True, ax=ax)\n",
    "plt.xticks(rotation=80)\n",
    "plt.tight_layout()\n",
    "sns_plot.get_figure().savefig('correlacao.png')"
   ]
  }
 ],
 "metadata": {
  "kernelspec": {
   "display_name": "Python 3",
   "language": "python",
   "name": "python3"
  },
  "language_info": {
   "codemirror_mode": {
    "name": "ipython",
    "version": 3
   },
   "file_extension": ".py",
   "mimetype": "text/x-python",
   "name": "python",
   "nbconvert_exporter": "python",
   "pygments_lexer": "ipython3",
   "version": "3.6.4"
  }
 },
 "nbformat": 4,
 "nbformat_minor": 2
}
