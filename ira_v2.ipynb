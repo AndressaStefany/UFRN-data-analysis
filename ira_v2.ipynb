{
 "cells": [
  {
   "cell_type": "markdown",
   "metadata": {},
   "source": [
    "## IRA"
   ]
  },
  {
   "cell_type": "code",
   "execution_count": 1,
   "metadata": {},
   "outputs": [],
   "source": [
    "import pandas as pd\n",
    "import numpy as np\n",
    "import matplotlib.pyplot as plt\n",
    "import matplotlib as mpl\n",
    "import seaborn as sns\n",
    "import missingno as msno\n",
    "from pandas.plotting import parallel_coordinates\n",
    "%matplotlib inline "
   ]
  },
  {
   "cell_type": "code",
   "execution_count": 2,
   "metadata": {},
   "outputs": [
    {
     "name": "stdout",
     "output_type": "stream",
     "text": [
      "20101\n",
      "20102\n",
      "20111\n",
      "20112\n",
      "20121\n",
      "20122\n",
      "20131\n",
      "20132\n",
      "20141\n",
      "20142\n",
      "20151\n",
      "20152\n",
      "20161\n",
      "20162\n",
      "20171\n",
      "20172\n"
     ]
    },
    {
     "data": {
      "text/plain": [
       "17    10320810\n",
       "Name: id_curso, dtype: int64"
      ]
     },
     "execution_count": 2,
     "metadata": {},
     "output_type": "execute_result"
    }
   ],
   "source": [
    "df_matriculas = pd.DataFrame()\n",
    "\n",
    "# importando notas de 2010 a 2017\n",
    "for i in range(10,18):\n",
    "    for j in range(1,3):\n",
    "        print('20'+str(i)+str(j))\n",
    "        df_matricula = pd.read_csv('data_science/matriculas_new/matricula-componente-20'+str(i)+str(j)+'.csv',sep=';')\n",
    "        #concatena as tabelas de 2010 a 2017\n",
    "        df_matriculas = pd.concat([df_matriculas, df_matricula])\n",
    "\n",
    "# obtendo o id do curso de ciências e tecnologia\n",
    "df_cursos = pd.read_csv('data_science/cursos-graduacao.csv', sep=';')\n",
    "id_cet = df_cursos[df_cursos.nome == 'CIÊNCIAS E TECNOLOGIA'].id_curso\n",
    "id_cet"
   ]
  },
  {
   "cell_type": "code",
   "execution_count": 3,
   "metadata": {},
   "outputs": [],
   "source": [
    "# filtra tabela pelo id_curso\n",
    "df_matriculasCeT = df_matriculas[df_matriculas.id_curso == float(id_cet)]\n",
    "\n",
    "# columns = ['descricao', 'discente', 'faltas_unidade', 'id_curso', 'id_turma', 'media_final', 'nota', 'numero_total_faltas', 'reposicao', 'unidade']\n",
    "# df_matriculas = df_matriculas[columns]"
   ]
  },
  {
   "cell_type": "code",
   "execution_count": 5,
   "metadata": {},
   "outputs": [],
   "source": [
    "aux_teste = df_matriculas[df_matriculas.discente=='72eca9ca3b69e98cb6b5512b3d834913']"
   ]
  },
  {
   "cell_type": "code",
   "execution_count": 6,
   "metadata": {},
   "outputs": [
    {
     "data": {
      "text/plain": [
       "Index(['Unnamed: 10', 'descricao', 'discente', 'faltas_unidade', 'id_curso',\n",
       "       'id_turma', 'media_final', 'nota', 'numero_total_faltas', 'reposicao',\n",
       "       'unidade'],\n",
       "      dtype='object')"
      ]
     },
     "execution_count": 6,
     "metadata": {},
     "output_type": "execute_result"
    }
   ],
   "source": [
    "df_matriculasCeT.columns"
   ]
  },
  {
   "cell_type": "code",
   "execution_count": 7,
   "metadata": {},
   "outputs": [
    {
     "name": "stderr",
     "output_type": "stream",
     "text": [
      "/home/andressa/anaconda3/lib/python3.6/site-packages/IPython/core/interactiveshell.py:2728: DtypeWarning: Columns (24) have mixed types. Specify dtype option on import or set low_memory=False.\n",
      "  interactivity=interactivity, compiler=compiler, result=result)\n"
     ]
    },
    {
     "data": {
      "text/plain": [
       "Index(['Unnamed: 0', 'id_turma', 'codigo_turma', 'id_docente_interno',\n",
       "       'id_docente_externo', 'observacao', 'id_componente_curricular',\n",
       "       'nivel_ensino', 'campus_turma', 'local', 'ano', 'periodo',\n",
       "       'data_inicio', 'data_fim', 'descricao_horario', 'total_solicitacoes',\n",
       "       'capacidade_aluno', 'tipo', 'distancia', 'data_consolidacao',\n",
       "       'agrupadora', 'id_turma_agrupadora', 'qtd_aulas_lancadas',\n",
       "       'situacao_turma', 'convenio', 'modalidade_participantes'],\n",
       "      dtype='object')"
      ]
     },
     "execution_count": 7,
     "metadata": {},
     "output_type": "execute_result"
    }
   ],
   "source": [
    "df_turmas = pd.read_csv('data_science/turmas-2010-2017-ok.csv')\n",
    "df_turmas.columns"
   ]
  },
  {
   "cell_type": "code",
   "execution_count": 8,
   "metadata": {},
   "outputs": [
    {
     "data": {
      "text/plain": [
       "Index(['Unnamed: 0', 'id_componente', 'tipo_componente', 'codigo', 'nivel',\n",
       "       'nome', 'unidade_responsavel', 'ch_teorico', 'ch_pratico', 'ch_estagio',\n",
       "       'ch_total', 'ch_dedicada_docente', 'ch_ead', 'cr_max_ead',\n",
       "       'permite_horario_flexivel', 'qtd_unidades', 'procedimentos_avaliacao',\n",
       "       'equivalencia', 'pre_requisito', 'co_requisito', 'ementa',\n",
       "       'bibliografia', 'objetivos', 'conteudo', 'competencias_habilidades',\n",
       "       'referencias', 'ano_programa', 'periodo_programa', 'modalidade',\n",
       "       'curso_componente'],\n",
       "      dtype='object')"
      ]
     },
     "execution_count": 8,
     "metadata": {},
     "output_type": "execute_result"
    }
   ],
   "source": [
    "df_componentes = pd.read_csv('data_science/componentes-curriculares-presenciais-ok.csv')\n",
    "df_componentes.columns"
   ]
  },
  {
   "cell_type": "code",
   "execution_count": 9,
   "metadata": {},
   "outputs": [
    {
     "name": "stdout",
     "output_type": "stream",
     "text": [
      "<class 'pandas.core.frame.DataFrame'>\n",
      "RangeIndex: 34951 entries, 0 to 34950\n",
      "Data columns (total 30 columns):\n",
      "Unnamed: 0                  34951 non-null int64\n",
      "id_componente               34951 non-null int64\n",
      "tipo_componente             34951 non-null object\n",
      "codigo                      34951 non-null object\n",
      "nivel                       34951 non-null object\n",
      "nome                        34950 non-null object\n",
      "unidade_responsavel         34951 non-null object\n",
      "ch_teorico                  34951 non-null int64\n",
      "ch_pratico                  34951 non-null int64\n",
      "ch_estagio                  34951 non-null int64\n",
      "ch_total                    34951 non-null int64\n",
      "ch_dedicada_docente         34951 non-null int64\n",
      "ch_ead                      34951 non-null int64\n",
      "cr_max_ead                  34951 non-null int64\n",
      "permite_horario_flexivel    34951 non-null object\n",
      "qtd_unidades                28194 non-null float64\n",
      "procedimentos_avaliacao     4448 non-null object\n",
      "equivalencia                10332 non-null object\n",
      "pre_requisito               9030 non-null object\n",
      "co_requisito                870 non-null object\n",
      "ementa                      29718 non-null object\n",
      "bibliografia                0 non-null float64\n",
      "objetivos                   9737 non-null object\n",
      "conteudo                    9735 non-null object\n",
      "competencias_habilidades    9579 non-null object\n",
      "referencias                 4445 non-null object\n",
      "ano_programa                9693 non-null float64\n",
      "periodo_programa            9693 non-null float64\n",
      "modalidade                  34951 non-null object\n",
      "curso_componente            8348 non-null object\n",
      "dtypes: float64(4), int64(9), object(17)\n",
      "memory usage: 8.0+ MB\n"
     ]
    }
   ],
   "source": [
    "df_componentes.info()"
   ]
  },
  {
   "cell_type": "code",
   "execution_count": 10,
   "metadata": {},
   "outputs": [],
   "source": [
    "df_discentes = pd.read_csv('../secret/matriculas-2013-2017.csv', sep=';')"
   ]
  },
  {
   "cell_type": "code",
   "execution_count": 12,
   "metadata": {},
   "outputs": [],
   "source": [
    "colunas_mat = ['discente', 'id_turma', 'media_final']\n",
    "df_matriculasCeT = df_matriculasCeT[colunas_mat].dropna().drop_duplicates()"
   ]
  },
  {
   "cell_type": "code",
   "execution_count": 13,
   "metadata": {},
   "outputs": [
    {
     "data": {
      "text/html": [
       "<div>\n",
       "<style scoped>\n",
       "    .dataframe tbody tr th:only-of-type {\n",
       "        vertical-align: middle;\n",
       "    }\n",
       "\n",
       "    .dataframe tbody tr th {\n",
       "        vertical-align: top;\n",
       "    }\n",
       "\n",
       "    .dataframe thead th {\n",
       "        text-align: right;\n",
       "    }\n",
       "</style>\n",
       "<table border=\"1\" class=\"dataframe\">\n",
       "  <thead>\n",
       "    <tr style=\"text-align: right;\">\n",
       "      <th></th>\n",
       "      <th>discente</th>\n",
       "      <th>id_turma</th>\n",
       "      <th>media_final</th>\n",
       "    </tr>\n",
       "  </thead>\n",
       "  <tbody>\n",
       "    <tr>\n",
       "      <th>85637</th>\n",
       "      <td>4746f89573bcb024736f649807753654</td>\n",
       "      <td>57549019</td>\n",
       "      <td>8.6</td>\n",
       "    </tr>\n",
       "    <tr>\n",
       "      <th>85640</th>\n",
       "      <td>6ac3d868cc23be038b7b6e70afbd372b</td>\n",
       "      <td>57549019</td>\n",
       "      <td>7.6</td>\n",
       "    </tr>\n",
       "  </tbody>\n",
       "</table>\n",
       "</div>"
      ],
      "text/plain": [
       "                               discente  id_turma  media_final\n",
       "85637  4746f89573bcb024736f649807753654  57549019          8.6\n",
       "85640  6ac3d868cc23be038b7b6e70afbd372b  57549019          7.6"
      ]
     },
     "execution_count": 13,
     "metadata": {},
     "output_type": "execute_result"
    }
   ],
   "source": [
    "df_matriculasCeT.head(2)"
   ]
  },
  {
   "cell_type": "code",
   "execution_count": 14,
   "metadata": {},
   "outputs": [
    {
     "data": {
      "text/html": [
       "<div>\n",
       "<style scoped>\n",
       "    .dataframe tbody tr th:only-of-type {\n",
       "        vertical-align: middle;\n",
       "    }\n",
       "\n",
       "    .dataframe tbody tr th {\n",
       "        vertical-align: top;\n",
       "    }\n",
       "\n",
       "    .dataframe thead th {\n",
       "        text-align: right;\n",
       "    }\n",
       "</style>\n",
       "<table border=\"1\" class=\"dataframe\">\n",
       "  <thead>\n",
       "    <tr style=\"text-align: right;\">\n",
       "      <th></th>\n",
       "      <th>Unnamed: 0_x</th>\n",
       "      <th>id_turma</th>\n",
       "      <th>codigo_turma</th>\n",
       "      <th>id_docente_interno</th>\n",
       "      <th>id_docente_externo</th>\n",
       "      <th>observacao</th>\n",
       "      <th>id_componente_curricular</th>\n",
       "      <th>nivel_ensino</th>\n",
       "      <th>campus_turma</th>\n",
       "      <th>local</th>\n",
       "      <th>...</th>\n",
       "      <th>ementa</th>\n",
       "      <th>bibliografia</th>\n",
       "      <th>objetivos</th>\n",
       "      <th>conteudo</th>\n",
       "      <th>competencias_habilidades</th>\n",
       "      <th>referencias</th>\n",
       "      <th>ano_programa</th>\n",
       "      <th>periodo_programa</th>\n",
       "      <th>modalidade</th>\n",
       "      <th>curso_componente</th>\n",
       "    </tr>\n",
       "  </thead>\n",
       "  <tbody>\n",
       "    <tr>\n",
       "      <th>0</th>\n",
       "      <td>0</td>\n",
       "      <td>1151160</td>\n",
       "      <td>01</td>\n",
       "      <td>25852.0</td>\n",
       "      <td>NaN</td>\n",
       "      <td>NaN</td>\n",
       "      <td>24054</td>\n",
       "      <td>GRADUAÇÃO</td>\n",
       "      <td>Campus Central</td>\n",
       "      <td>Departamento de Engenharia da Produção</td>\n",
       "      <td>...</td>\n",
       "      <td>x</td>\n",
       "      <td>NaN</td>\n",
       "      <td>Desenvolver no aluno o uso e o aprimoramento d...</td>\n",
       "      <td>1.\\t Teoria das Filas; 2.\\t Geração de Números...</td>\n",
       "      <td>O aluno deverá desenvolver as habilidades e co...</td>\n",
       "      <td>[1] Andrade, Eduardo Leopoldino. Introdução à ...</td>\n",
       "      <td>2009.0</td>\n",
       "      <td>2.0</td>\n",
       "      <td>Presencial</td>\n",
       "      <td>NaN</td>\n",
       "    </tr>\n",
       "    <tr>\n",
       "      <th>1</th>\n",
       "      <td>1</td>\n",
       "      <td>1151161</td>\n",
       "      <td>01</td>\n",
       "      <td>5753006.0</td>\n",
       "      <td>NaN</td>\n",
       "      <td>NaN</td>\n",
       "      <td>24061</td>\n",
       "      <td>GRADUAÇÃO</td>\n",
       "      <td>Campus Central</td>\n",
       "      <td>Departamento de Engenharia da Produção</td>\n",
       "      <td>...</td>\n",
       "      <td>x</td>\n",
       "      <td>NaN</td>\n",
       "      <td>Proporcionar capacidades e habilidades para qu...</td>\n",
       "      <td>EMENTA:Papel da função produção. Objetivos de ...</td>\n",
       "      <td>A disciplina proporcionará ao acadêmico as seg...</td>\n",
       "      <td>Montgomery, Cynthia e Michael E. Porter, 1998,...</td>\n",
       "      <td>2011.0</td>\n",
       "      <td>2.0</td>\n",
       "      <td>Presencial</td>\n",
       "      <td>NaN</td>\n",
       "    </tr>\n",
       "  </tbody>\n",
       "</table>\n",
       "<p>2 rows × 56 columns</p>\n",
       "</div>"
      ],
      "text/plain": [
       "   Unnamed: 0_x  id_turma codigo_turma  id_docente_interno  \\\n",
       "0             0   1151160           01             25852.0   \n",
       "1             1   1151161           01           5753006.0   \n",
       "\n",
       "   id_docente_externo observacao  id_componente_curricular nivel_ensino  \\\n",
       "0                 NaN        NaN                     24054    GRADUAÇÃO   \n",
       "1                 NaN        NaN                     24061    GRADUAÇÃO   \n",
       "\n",
       "     campus_turma                                   local       ...         \\\n",
       "0  Campus Central  Departamento de Engenharia da Produção       ...          \n",
       "1  Campus Central  Departamento de Engenharia da Produção       ...          \n",
       "\n",
       "   ementa  bibliografia                                          objetivos  \\\n",
       "0       x           NaN  Desenvolver no aluno o uso e o aprimoramento d...   \n",
       "1       x           NaN  Proporcionar capacidades e habilidades para qu...   \n",
       "\n",
       "                                            conteudo  \\\n",
       "0  1.\\t Teoria das Filas; 2.\\t Geração de Números...   \n",
       "1  EMENTA:Papel da função produção. Objetivos de ...   \n",
       "\n",
       "                            competencias_habilidades  \\\n",
       "0  O aluno deverá desenvolver as habilidades e co...   \n",
       "1  A disciplina proporcionará ao acadêmico as seg...   \n",
       "\n",
       "                                         referencias  ano_programa  \\\n",
       "0  [1] Andrade, Eduardo Leopoldino. Introdução à ...        2009.0   \n",
       "1  Montgomery, Cynthia e Michael E. Porter, 1998,...        2011.0   \n",
       "\n",
       "  periodo_programa  modalidade curso_componente  \n",
       "0              2.0  Presencial              NaN  \n",
       "1              2.0  Presencial              NaN  \n",
       "\n",
       "[2 rows x 56 columns]"
      ]
     },
     "execution_count": 14,
     "metadata": {},
     "output_type": "execute_result"
    }
   ],
   "source": [
    "df_turmasNome = pd.merge(df_turmas, df_componentes, left_on='id_componente_curricular', right_on='id_componente')\n",
    "df_turmasNome.head(2)"
   ]
  },
  {
   "cell_type": "code",
   "execution_count": 15,
   "metadata": {},
   "outputs": [
    {
     "data": {
      "text/html": [
       "<div>\n",
       "<style scoped>\n",
       "    .dataframe tbody tr th:only-of-type {\n",
       "        vertical-align: middle;\n",
       "    }\n",
       "\n",
       "    .dataframe tbody tr th {\n",
       "        vertical-align: top;\n",
       "    }\n",
       "\n",
       "    .dataframe thead th {\n",
       "        text-align: right;\n",
       "    }\n",
       "</style>\n",
       "<table border=\"1\" class=\"dataframe\">\n",
       "  <thead>\n",
       "    <tr style=\"text-align: right;\">\n",
       "      <th></th>\n",
       "      <th>id_turma</th>\n",
       "      <th>nome</th>\n",
       "      <th>ch_total</th>\n",
       "    </tr>\n",
       "  </thead>\n",
       "  <tbody>\n",
       "    <tr>\n",
       "      <th>0</th>\n",
       "      <td>1151160</td>\n",
       "      <td>SIMULACAO</td>\n",
       "      <td>60</td>\n",
       "    </tr>\n",
       "    <tr>\n",
       "      <th>1</th>\n",
       "      <td>1151161</td>\n",
       "      <td>ESTRATEGIA DE PRODUCAO</td>\n",
       "      <td>60</td>\n",
       "    </tr>\n",
       "  </tbody>\n",
       "</table>\n",
       "</div>"
      ],
      "text/plain": [
       "   id_turma                    nome  ch_total\n",
       "0   1151160               SIMULACAO        60\n",
       "1   1151161  ESTRATEGIA DE PRODUCAO        60"
      ]
     },
     "execution_count": 15,
     "metadata": {},
     "output_type": "execute_result"
    }
   ],
   "source": [
    "colunas_turma = ['id_turma', 'nome', 'ch_total']\n",
    "df_turmasNome = df_turmasNome[colunas_turma]\n",
    "df_turmasNome.head(2)"
   ]
  },
  {
   "cell_type": "code",
   "execution_count": 16,
   "metadata": {},
   "outputs": [
    {
     "data": {
      "text/html": [
       "<div>\n",
       "<style scoped>\n",
       "    .dataframe tbody tr th:only-of-type {\n",
       "        vertical-align: middle;\n",
       "    }\n",
       "\n",
       "    .dataframe tbody tr th {\n",
       "        vertical-align: top;\n",
       "    }\n",
       "\n",
       "    .dataframe thead th {\n",
       "        text-align: right;\n",
       "    }\n",
       "</style>\n",
       "<table border=\"1\" class=\"dataframe\">\n",
       "  <thead>\n",
       "    <tr style=\"text-align: right;\">\n",
       "      <th></th>\n",
       "      <th>discente</th>\n",
       "      <th>id_turma</th>\n",
       "      <th>media_final</th>\n",
       "      <th>nome</th>\n",
       "      <th>ch_total</th>\n",
       "    </tr>\n",
       "  </thead>\n",
       "  <tbody>\n",
       "    <tr>\n",
       "      <th>0</th>\n",
       "      <td>4746f89573bcb024736f649807753654</td>\n",
       "      <td>57549019</td>\n",
       "      <td>8.6</td>\n",
       "      <td>TÓPICOS ESPECIAIS EM COMPUTAÇÃO XIV</td>\n",
       "      <td>60</td>\n",
       "    </tr>\n",
       "    <tr>\n",
       "      <th>2</th>\n",
       "      <td>6ac3d868cc23be038b7b6e70afbd372b</td>\n",
       "      <td>57549019</td>\n",
       "      <td>7.6</td>\n",
       "      <td>TÓPICOS ESPECIAIS EM COMPUTAÇÃO XIV</td>\n",
       "      <td>60</td>\n",
       "    </tr>\n",
       "  </tbody>\n",
       "</table>\n",
       "</div>"
      ],
      "text/plain": [
       "                           discente  id_turma  media_final  \\\n",
       "0  4746f89573bcb024736f649807753654  57549019          8.6   \n",
       "2  6ac3d868cc23be038b7b6e70afbd372b  57549019          7.6   \n",
       "\n",
       "                                  nome  ch_total  \n",
       "0  TÓPICOS ESPECIAIS EM COMPUTAÇÃO XIV        60  \n",
       "2  TÓPICOS ESPECIAIS EM COMPUTAÇÃO XIV        60  "
      ]
     },
     "execution_count": 16,
     "metadata": {},
     "output_type": "execute_result"
    }
   ],
   "source": [
    "df_ira = pd.merge(df_matriculasCeT, df_turmasNome, on='id_turma').drop_duplicates()\n",
    "df_ira.head(2)"
   ]
  },
  {
   "cell_type": "code",
   "execution_count": 17,
   "metadata": {},
   "outputs": [],
   "source": [
    "df_ira['notaXch'] = df_ira['media_final']*df_ira['ch_total']"
   ]
  },
  {
   "cell_type": "code",
   "execution_count": 18,
   "metadata": {},
   "outputs": [
    {
     "data": {
      "text/html": [
       "<div>\n",
       "<style scoped>\n",
       "    .dataframe tbody tr th:only-of-type {\n",
       "        vertical-align: middle;\n",
       "    }\n",
       "\n",
       "    .dataframe tbody tr th {\n",
       "        vertical-align: top;\n",
       "    }\n",
       "\n",
       "    .dataframe thead th {\n",
       "        text-align: right;\n",
       "    }\n",
       "</style>\n",
       "<table border=\"1\" class=\"dataframe\">\n",
       "  <thead>\n",
       "    <tr style=\"text-align: right;\">\n",
       "      <th></th>\n",
       "      <th>discente</th>\n",
       "      <th>notaXch</th>\n",
       "    </tr>\n",
       "  </thead>\n",
       "  <tbody>\n",
       "    <tr>\n",
       "      <th>0</th>\n",
       "      <td>0004fd054c6915cbd14905a92c38d40a</td>\n",
       "      <td>1749.0</td>\n",
       "    </tr>\n",
       "    <tr>\n",
       "      <th>1</th>\n",
       "      <td>0010345ff1be7da25478b5a96c772616</td>\n",
       "      <td>8703.0</td>\n",
       "    </tr>\n",
       "  </tbody>\n",
       "</table>\n",
       "</div>"
      ],
      "text/plain": [
       "                           discente  notaXch\n",
       "0  0004fd054c6915cbd14905a92c38d40a   1749.0\n",
       "1  0010345ff1be7da25478b5a96c772616   8703.0"
      ]
     },
     "metadata": {},
     "output_type": "display_data"
    },
    {
     "data": {
      "text/html": [
       "<div>\n",
       "<style scoped>\n",
       "    .dataframe tbody tr th:only-of-type {\n",
       "        vertical-align: middle;\n",
       "    }\n",
       "\n",
       "    .dataframe tbody tr th {\n",
       "        vertical-align: top;\n",
       "    }\n",
       "\n",
       "    .dataframe thead th {\n",
       "        text-align: right;\n",
       "    }\n",
       "</style>\n",
       "<table border=\"1\" class=\"dataframe\">\n",
       "  <thead>\n",
       "    <tr style=\"text-align: right;\">\n",
       "      <th></th>\n",
       "      <th>discente</th>\n",
       "      <th>ch_total</th>\n",
       "    </tr>\n",
       "  </thead>\n",
       "  <tbody>\n",
       "    <tr>\n",
       "      <th>0</th>\n",
       "      <td>0004fd054c6915cbd14905a92c38d40a</td>\n",
       "      <td>610</td>\n",
       "    </tr>\n",
       "    <tr>\n",
       "      <th>1</th>\n",
       "      <td>0010345ff1be7da25478b5a96c772616</td>\n",
       "      <td>1710</td>\n",
       "    </tr>\n",
       "  </tbody>\n",
       "</table>\n",
       "</div>"
      ],
      "text/plain": [
       "                           discente  ch_total\n",
       "0  0004fd054c6915cbd14905a92c38d40a       610\n",
       "1  0010345ff1be7da25478b5a96c772616      1710"
      ]
     },
     "metadata": {},
     "output_type": "display_data"
    }
   ],
   "source": [
    "df_sumNotaCh = df_ira.groupby('discente').notaXch.sum().reset_index()\n",
    "display(df_sumNotaCh.head(2))\n",
    "\n",
    "df_sumCh = df_ira.groupby('discente').ch_total.sum().reset_index()\n",
    "display(df_sumCh.head(2))"
   ]
  },
  {
   "cell_type": "code",
   "execution_count": 19,
   "metadata": {},
   "outputs": [
    {
     "data": {
      "text/html": [
       "<div>\n",
       "<style scoped>\n",
       "    .dataframe tbody tr th:only-of-type {\n",
       "        vertical-align: middle;\n",
       "    }\n",
       "\n",
       "    .dataframe tbody tr th {\n",
       "        vertical-align: top;\n",
       "    }\n",
       "\n",
       "    .dataframe thead th {\n",
       "        text-align: right;\n",
       "    }\n",
       "</style>\n",
       "<table border=\"1\" class=\"dataframe\">\n",
       "  <thead>\n",
       "    <tr style=\"text-align: right;\">\n",
       "      <th></th>\n",
       "      <th>discente</th>\n",
       "      <th>notaXch</th>\n",
       "      <th>ch_total</th>\n",
       "      <th>ira</th>\n",
       "    </tr>\n",
       "  </thead>\n",
       "  <tbody>\n",
       "    <tr>\n",
       "      <th>0</th>\n",
       "      <td>0004fd054c6915cbd14905a92c38d40a</td>\n",
       "      <td>1749.0</td>\n",
       "      <td>610</td>\n",
       "      <td>2.867213</td>\n",
       "    </tr>\n",
       "    <tr>\n",
       "      <th>1</th>\n",
       "      <td>0010345ff1be7da25478b5a96c772616</td>\n",
       "      <td>8703.0</td>\n",
       "      <td>1710</td>\n",
       "      <td>5.089474</td>\n",
       "    </tr>\n",
       "  </tbody>\n",
       "</table>\n",
       "</div>"
      ],
      "text/plain": [
       "                           discente  notaXch  ch_total       ira\n",
       "0  0004fd054c6915cbd14905a92c38d40a   1749.0       610  2.867213\n",
       "1  0010345ff1be7da25478b5a96c772616   8703.0      1710  5.089474"
      ]
     },
     "execution_count": 19,
     "metadata": {},
     "output_type": "execute_result"
    }
   ],
   "source": [
    "df_calIra = pd.merge(df_sumNotaCh, df_sumCh, on='discente')\n",
    "df_calIra['ira'] = df_calIra['notaXch']/df_calIra['ch_total']\n",
    "\n",
    "df_calIra.head(2)"
   ]
  },
  {
   "cell_type": "code",
   "execution_count": 20,
   "metadata": {},
   "outputs": [
    {
     "data": {
      "text/html": [
       "<div>\n",
       "<style scoped>\n",
       "    .dataframe tbody tr th:only-of-type {\n",
       "        vertical-align: middle;\n",
       "    }\n",
       "\n",
       "    .dataframe tbody tr th {\n",
       "        vertical-align: top;\n",
       "    }\n",
       "\n",
       "    .dataframe thead th {\n",
       "        text-align: right;\n",
       "    }\n",
       "</style>\n",
       "<table border=\"1\" class=\"dataframe\">\n",
       "  <thead>\n",
       "    <tr style=\"text-align: right;\">\n",
       "      <th></th>\n",
       "      <th>discente</th>\n",
       "      <th>notaXch</th>\n",
       "      <th>ch_total</th>\n",
       "      <th>ira</th>\n",
       "    </tr>\n",
       "  </thead>\n",
       "  <tbody>\n",
       "  </tbody>\n",
       "</table>\n",
       "</div>"
      ],
      "text/plain": [
       "Empty DataFrame\n",
       "Columns: [discente, notaXch, ch_total, ira]\n",
       "Index: []"
      ]
     },
     "execution_count": 20,
     "metadata": {},
     "output_type": "execute_result"
    }
   ],
   "source": [
    "df_calIra[df_calIra['discente'] == '8032c974c90eae91a881657fc16092f2']"
   ]
  },
  {
   "cell_type": "code",
   "execution_count": 21,
   "metadata": {},
   "outputs": [],
   "source": [
    "import seaborn as sns"
   ]
  },
  {
   "cell_type": "code",
   "execution_count": 22,
   "metadata": {},
   "outputs": [
    {
     "data": {
      "text/plain": [
       "[(0, 10)]"
      ]
     },
     "execution_count": 22,
     "metadata": {},
     "output_type": "execute_result"
    },
    {
     "data": {
      "image/png": "[encoded data removed]",
      "text/plain": [
       "<matplotlib.figure.Figure at 0x7f3d17fd3978>"
      ]
     },
     "metadata": {},
     "output_type": "display_data"
    }
   ],
   "source": [
    "fig = plt.figure()\n",
    "fig.suptitle('Média final de todos os alunos em todas as disciplinas')\n",
    "graf = sns.violinplot(df_calIra['ira'])\n",
    "graf.set(xlim=(0, 10))"
   ]
  },
  {
   "cell_type": "code",
   "execution_count": 23,
   "metadata": {},
   "outputs": [
    {
     "data": {
      "text/html": [
       "<div>\n",
       "<style scoped>\n",
       "    .dataframe tbody tr th:only-of-type {\n",
       "        vertical-align: middle;\n",
       "    }\n",
       "\n",
       "    .dataframe tbody tr th {\n",
       "        vertical-align: top;\n",
       "    }\n",
       "\n",
       "    .dataframe thead th {\n",
       "        text-align: right;\n",
       "    }\n",
       "</style>\n",
       "<table border=\"1\" class=\"dataframe\">\n",
       "  <thead>\n",
       "    <tr style=\"text-align: right;\">\n",
       "      <th></th>\n",
       "      <th>discente</th>\n",
       "      <th>notaXch</th>\n",
       "      <th>ch_total</th>\n",
       "      <th>ira</th>\n",
       "    </tr>\n",
       "  </thead>\n",
       "  <tbody>\n",
       "    <tr>\n",
       "      <th>4796</th>\n",
       "      <td>72eca9ca3b69e98cb6b5512b3d834913</td>\n",
       "      <td>16732.0</td>\n",
       "      <td>2410</td>\n",
       "      <td>6.942739</td>\n",
       "    </tr>\n",
       "  </tbody>\n",
       "</table>\n",
       "</div>"
      ],
      "text/plain": [
       "                              discente  notaXch  ch_total       ira\n",
       "4796  72eca9ca3b69e98cb6b5512b3d834913  16732.0      2410  6.942739"
      ]
     },
     "execution_count": 23,
     "metadata": {},
     "output_type": "execute_result"
    }
   ],
   "source": [
    "df_calIra[df_calIra['discente'] == '72eca9ca3b69e98cb6b5512b3d834913']"
   ]
  },
  {
   "cell_type": "code",
   "execution_count": 26,
   "metadata": {},
   "outputs": [],
   "source": [
    "df_merge = pd.merge(df_discentes,df_calIra, left_on='id_discente', right_on='discente')"
   ]
  },
  {
   "cell_type": "code",
   "execution_count": 25,
   "metadata": {},
   "outputs": [
    {
     "data": {
      "text/html": [
       "<div>\n",
       "<style scoped>\n",
       "    .dataframe tbody tr th:only-of-type {\n",
       "        vertical-align: middle;\n",
       "    }\n",
       "\n",
       "    .dataframe tbody tr th {\n",
       "        vertical-align: top;\n",
       "    }\n",
       "\n",
       "    .dataframe thead th {\n",
       "        text-align: right;\n",
       "    }\n",
       "</style>\n",
       "<table border=\"1\" class=\"dataframe\">\n",
       "  <thead>\n",
       "    <tr style=\"text-align: right;\">\n",
       "      <th></th>\n",
       "      <th>ano_ingresso</th>\n",
       "      <th>periodo_ingresso</th>\n",
       "      <th>nota_ingresso</th>\n",
       "      <th>notaXch</th>\n",
       "      <th>ch_total</th>\n",
       "      <th>ira</th>\n",
       "    </tr>\n",
       "  </thead>\n",
       "  <tbody>\n",
       "    <tr>\n",
       "      <th>ano_ingresso</th>\n",
       "      <td>1.000000</td>\n",
       "      <td>-0.005512</td>\n",
       "      <td>0.021641</td>\n",
       "      <td>-0.412406</td>\n",
       "      <td>-0.510822</td>\n",
       "      <td>-0.048076</td>\n",
       "    </tr>\n",
       "    <tr>\n",
       "      <th>periodo_ingresso</th>\n",
       "      <td>-0.005512</td>\n",
       "      <td>1.000000</td>\n",
       "      <td>0.021866</td>\n",
       "      <td>-0.163953</td>\n",
       "      <td>-0.106255</td>\n",
       "      <td>-0.146494</td>\n",
       "    </tr>\n",
       "    <tr>\n",
       "      <th>nota_ingresso</th>\n",
       "      <td>0.021641</td>\n",
       "      <td>0.021866</td>\n",
       "      <td>1.000000</td>\n",
       "      <td>0.060269</td>\n",
       "      <td>0.059582</td>\n",
       "      <td>0.032474</td>\n",
       "    </tr>\n",
       "    <tr>\n",
       "      <th>notaXch</th>\n",
       "      <td>-0.412406</td>\n",
       "      <td>-0.163953</td>\n",
       "      <td>0.060269</td>\n",
       "      <td>1.000000</td>\n",
       "      <td>0.902223</td>\n",
       "      <td>0.666703</td>\n",
       "    </tr>\n",
       "    <tr>\n",
       "      <th>ch_total</th>\n",
       "      <td>-0.510822</td>\n",
       "      <td>-0.106255</td>\n",
       "      <td>0.059582</td>\n",
       "      <td>0.902223</td>\n",
       "      <td>1.000000</td>\n",
       "      <td>0.432117</td>\n",
       "    </tr>\n",
       "    <tr>\n",
       "      <th>ira</th>\n",
       "      <td>-0.048076</td>\n",
       "      <td>-0.146494</td>\n",
       "      <td>0.032474</td>\n",
       "      <td>0.666703</td>\n",
       "      <td>0.432117</td>\n",
       "      <td>1.000000</td>\n",
       "    </tr>\n",
       "  </tbody>\n",
       "</table>\n",
       "</div>"
      ],
      "text/plain": [
       "                  ano_ingresso  periodo_ingresso  nota_ingresso   notaXch  \\\n",
       "ano_ingresso          1.000000         -0.005512       0.021641 -0.412406   \n",
       "periodo_ingresso     -0.005512          1.000000       0.021866 -0.163953   \n",
       "nota_ingresso         0.021641          0.021866       1.000000  0.060269   \n",
       "notaXch              -0.412406         -0.163953       0.060269  1.000000   \n",
       "ch_total             -0.510822         -0.106255       0.059582  0.902223   \n",
       "ira                  -0.048076         -0.146494       0.032474  0.666703   \n",
       "\n",
       "                  ch_total       ira  \n",
       "ano_ingresso     -0.510822 -0.048076  \n",
       "periodo_ingresso -0.106255 -0.146494  \n",
       "nota_ingresso     0.059582  0.032474  \n",
       "notaXch           0.902223  0.666703  \n",
       "ch_total          1.000000  0.432117  \n",
       "ira               0.432117  1.000000  "
      ]
     },
     "execution_count": 25,
     "metadata": {},
     "output_type": "execute_result"
    }
   ],
   "source": [
    "df_merge.corr()"
   ]
  }
 ],
 "metadata": {
  "kernelspec": {
   "display_name": "Python 3",
   "language": "python",
   "name": "python3"
  },
  "language_info": {
   "codemirror_mode": {
    "name": "ipython",
    "version": 3
   },
   "file_extension": ".py",
   "mimetype": "text/x-python",
   "name": "python",
   "nbconvert_exporter": "python",
   "pygments_lexer": "ipython3",
   "version": "3.6.4"
  }
 },
 "nbformat": 4,
 "nbformat_minor": 2
}
